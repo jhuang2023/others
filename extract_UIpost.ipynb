{
  "nbformat": 4,
  "nbformat_minor": 0,
  "metadata": {
    "kernelspec": {
      "display_name": "Python 3",
      "language": "python",
      "name": "python3"
    },
    "language_info": {
      "codemirror_mode": {
        "name": "ipython",
        "version": 3
      },
      "file_extension": ".py",
      "mimetype": "text/x-python",
      "name": "python",
      "nbconvert_exporter": "python",
      "pygments_lexer": "ipython3",
      "version": "3.8.8"
    },
    "colab": {
      "name": "extract_UIpost.ipynb",
      "provenance": [],
      "include_colab_link": true
    }
  },
  "cells": [
    {
      "cell_type": "markdown",
      "metadata": {
        "id": "view-in-github",
        "colab_type": "text"
      },
      "source": [
        "<a href=\"https://colab.research.google.com/github/pepperamy/others/blob/main/extract_UIpost.ipynb\" target=\"_parent\"><img src=\"https://colab.research.google.com/assets/colab-badge.svg\" alt=\"Open In Colab\"/></a>"
      ]
    },
    {
      "cell_type": "code",
      "metadata": {
        "id": "xh-GysgR9mJv"
      },
      "source": [
        "import requests\n",
        "from bs4 import BeautifulSoup\n",
        "import pandas as pd\n",
        "import re\n",
        "import random\n",
        "import time"
      ],
      "execution_count": null,
      "outputs": []
    },
    {
      "cell_type": "code",
      "metadata": {
        "id": "4JeL0ovp9mJ2"
      },
      "source": [
        "df = pd.read_csv('./fbdata/[covid]2021-04-19-12-00-13-EDT-Historical-Report-SP5001-2020-01-01--2021-03-01.csv')"
      ],
      "execution_count": null,
      "outputs": []
    },
    {
      "cell_type": "code",
      "metadata": {
        "id": "uutXNHtv9mJ2",
        "outputId": "0b671dce-04b1-45b9-937b-05e4b050b417"
      },
      "source": [
        "df.shape"
      ],
      "execution_count": null,
      "outputs": [
        {
          "output_type": "execute_result",
          "data": {
            "text/plain": [
              "(11610, 40)"
            ]
          },
          "metadata": {
            "tags": []
          },
          "execution_count": 3
        }
      ]
    },
    {
      "cell_type": "code",
      "metadata": {
        "id": "e36TiUMZ9mJ4"
      },
      "source": [
        "result = []\n",
        "fail = []\n",
        "c = 0\n",
        "#get the UI posts \n",
        "for idx in df.index:\n",
        "    url= df.URL[idx]\n",
        "    #print(url)\n",
        "    c += 1\n",
        "    if c% 100 == 0:\n",
        "        print(c)\n",
        "    url_0 = url.split('/')\n",
        "    url_1 = url_0[-3] + '_' + url_0[-1]\n",
        "    t = random.randint(0, 20) \n",
        "    time.sleep(t)\n",
        "    response = requests.get('https://api.crowdtangle.com/post/' + url_1 +'?token=6inSCSaD5HTd1tdYEWGESSxduwgMF517gNrCJU1c')\n",
        "    try:\n",
        "        if response.status_code==200:\n",
        "            response = response.json()\n",
        "            #print(response)\n",
        "            res = response['result']['posts']\n",
        "            result += res \n",
        "        else: fail.append(url)\n",
        "    except:\n",
        "        fail.append(url)\n",
        "        "
      ],
      "execution_count": null,
      "outputs": []
    },
    {
      "cell_type": "code",
      "metadata": {
        "id": "r0O28XKn9mJ5"
      },
      "source": [
        "result_tb = pd.DataFrame(result)"
      ],
      "execution_count": null,
      "outputs": []
    },
    {
      "cell_type": "code",
      "metadata": {
        "id": "-9PriC0v9mJ5"
      },
      "source": [
        "result_tb"
      ],
      "execution_count": null,
      "outputs": []
    },
    {
      "cell_type": "code",
      "metadata": {
        "id": "xeUu1ykA9mJ6"
      },
      "source": [
        "len(fail)"
      ],
      "execution_count": null,
      "outputs": []
    },
    {
      "cell_type": "code",
      "metadata": {
        "id": "zbpm8byn9mJ6"
      },
      "source": [
        "result_tb.to_csv('allposts_keywrds_fromUI.csv')"
      ],
      "execution_count": null,
      "outputs": []
    },
    {
      "cell_type": "code",
      "metadata": {
        "id": "Dek0BWa09mJ6"
      },
      "source": [
        "\n",
        "\n",
        "\n"
      ],
      "execution_count": null,
      "outputs": []
    }
  ]
}