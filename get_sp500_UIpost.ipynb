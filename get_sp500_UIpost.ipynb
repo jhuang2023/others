{
  "nbformat": 4,
  "nbformat_minor": 0,
  "metadata": {
    "kernelspec": {
      "display_name": "Python 3",
      "language": "python",
      "name": "python3"
    },
    "language_info": {
      "codemirror_mode": {
        "name": "ipython",
        "version": 3
      },
      "file_extension": ".py",
      "mimetype": "text/x-python",
      "name": "python",
      "nbconvert_exporter": "python",
      "pygments_lexer": "ipython3",
      "version": "3.8.8"
    },
    "colab": {
      "name": "get_sp500_UIpost.ipynb",
      "provenance": [],
      "include_colab_link": true
    }
  },
  "cells": [
    {
      "cell_type": "markdown",
      "metadata": {
        "id": "view-in-github",
        "colab_type": "text"
      },
      "source": [
        "<a href=\"https://colab.research.google.com/github/pepperamy/others/blob/main/get_sp500_UIpost.ipynb\" target=\"_parent\"><img src=\"https://colab.research.google.com/assets/colab-badge.svg\" alt=\"Open In Colab\"/></a>"
      ]
    },
    {
      "cell_type": "code",
      "metadata": {
        "id": "yj-8vgpK507A"
      },
      "source": [
        "import requests\n",
        "from bs4 import BeautifulSoup\n",
        "import pandas as pd\n",
        "import re\n",
        "import random\n",
        "import time"
      ],
      "execution_count": null,
      "outputs": []
    },
    {
      "cell_type": "code",
      "metadata": {
        "id": "GsnYFnOs507H"
      },
      "source": [
        "# read in the posts from UI\n",
        "df = pd.read_csv('./fbdata/[covid]2021-04-19-12-00-13-EDT-Historical-Report-SP5001-2020-01-01--2021-03-01.csv')"
      ],
      "execution_count": null,
      "outputs": []
    },
    {
      "cell_type": "code",
      "metadata": {
        "id": "jdIGhdcc507I",
        "outputId": "b86c46ce-4159-4336-e1ab-0128764806fb"
      },
      "source": [
        "df.shape"
      ],
      "execution_count": null,
      "outputs": [
        {
          "output_type": "execute_result",
          "data": {
            "text/plain": [
              "(11610, 40)"
            ]
          },
          "metadata": {
            "tags": []
          },
          "execution_count": 4
        }
      ]
    },
    {
      "cell_type": "code",
      "metadata": {
        "id": "J9HGdg22507J"
      },
      "source": [
        "result = []\n",
        "fail = []\n",
        "\n",
        "for idx in df.index:\n",
        "    url= df.URL[idx]\n",
        "    url_0 = url.split('/')\n",
        "    url_1 = url_0[-3] + '_' + url_0[-1]\n",
        "    response = requests.get('https://api.crowdtangle.com/post/' + url_1 +'?token=6inSCSaD5HTd1tdYEWGESSxduwgMF517gNrCJU1c')\n",
        "    try:\n",
        "        if response.status_code==200:\n",
        "            response = response.json()\n",
        "            res = response['result']['posts']\n",
        "            result += res \n",
        "        else: fail.append(url)\n",
        "    except:\n",
        "        fail.append(url)\n",
        "        "
      ],
      "execution_count": null,
      "outputs": []
    },
    {
      "cell_type": "code",
      "metadata": {
        "id": "WrWNFn-5507K"
      },
      "source": [
        "result_tb = pd.DataFrame(result)"
      ],
      "execution_count": null,
      "outputs": []
    },
    {
      "cell_type": "code",
      "metadata": {
        "id": "srdkgXW_507K"
      },
      "source": [
        "result_tb.to_csv('allposts_fromapi.csv')"
      ],
      "execution_count": null,
      "outputs": []
    },
    {
      "cell_type": "code",
      "metadata": {
        "id": "8fcoUik1507K"
      },
      "source": [
        "len(fail)"
      ],
      "execution_count": null,
      "outputs": []
    },
    {
      "cell_type": "code",
      "metadata": {
        "id": "48ql0GtH507L"
      },
      "source": [
        ""
      ],
      "execution_count": null,
      "outputs": []
    }
  ]
}