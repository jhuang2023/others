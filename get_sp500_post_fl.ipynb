{
  "nbformat": 4,
  "nbformat_minor": 0,
  "metadata": {
    "kernelspec": {
      "display_name": "Python 3",
      "language": "python",
      "name": "python3"
    },
    "language_info": {
      "codemirror_mode": {
        "name": "ipython",
        "version": 3
      },
      "file_extension": ".py",
      "mimetype": "text/x-python",
      "name": "python",
      "nbconvert_exporter": "python",
      "pygments_lexer": "ipython3",
      "version": "3.8.8"
    },
    "colab": {
      "name": "get_sp500_post_fl.ipynb",
      "provenance": [],
      "include_colab_link": true
    }
  },
  "cells": [
    {
      "cell_type": "markdown",
      "metadata": {
        "id": "view-in-github",
        "colab_type": "text"
      },
      "source": [
        "<a href=\"https://colab.research.google.com/github/pepperamy/others/blob/main/get_sp500_post_fl.ipynb\" target=\"_parent\"><img src=\"https://colab.research.google.com/assets/colab-badge.svg\" alt=\"Open In Colab\"/></a>"
      ]
    },
    {
      "cell_type": "code",
      "metadata": {
        "id": "BfxFwD5D60hm"
      },
      "source": [
        "import requests\n",
        "from bs4 import BeautifulSoup\n",
        "import pandas as pd\n",
        "import re\n",
        "import random\n",
        "import time"
      ],
      "execution_count": null,
      "outputs": []
    },
    {
      "cell_type": "code",
      "metadata": {
        "id": "C55Obg6269R6"
      },
      "source": [
        ""
      ],
      "execution_count": null,
      "outputs": []
    },
    {
      "cell_type": "markdown",
      "metadata": {
        "id": "XiUn0S3V6-Rw"
      },
      "source": [
        "#### get the accounts from S&P_500 list\n"
      ]
    },
    {
      "cell_type": "code",
      "metadata": {
        "id": "nv_t2LOS60hs",
        "outputId": "1a7cdc10-fbea-465b-bf43-4c4a06aae62e"
      },
      "source": [
        "list_account_res = []\n",
        "params = (('token', '6inSCSaD5HTd1tdYEWGESSxduwgMF517gNrCJU1c'),('count',100))\n",
        "list_account = requests.get('https://api.crowdtangle.com/lists/1527924/accounts',\\\n",
        "                            params=params)\n",
        "list_account = list_account.json()\n",
        "list_account_res += list_account['result']['accounts']\n",
        "p = 0\n",
        "while ('pagination' in list_account['result'].keys()) and ('nextPage'in list_account['result']['pagination'].keys()):\n",
        "    p += 1\n",
        "    print(p)\n",
        "    list_account = requests.get(list_account['result']['pagination']['nextPage'])\n",
        "    list_account = list_account.json()\n",
        "    list_account_res += list_account['result']['accounts'] "
      ],
      "execution_count": null,
      "outputs": [
        {
          "output_type": "stream",
          "text": [
            "1\n",
            "2\n",
            "3\n",
            "4\n"
          ],
          "name": "stdout"
        }
      ]
    },
    {
      "cell_type": "code",
      "metadata": {
        "id": "RlzVvETV60hu"
      },
      "source": [
        "list_account = pd.DataFrame(list_account_res)"
      ],
      "execution_count": null,
      "outputs": []
    },
    {
      "cell_type": "code",
      "metadata": {
        "id": "yD1Ee75k60hu",
        "outputId": "c3ddca08-632b-497b-bc86-bfbd4210f4ef"
      },
      "source": [
        "list_account.shape"
      ],
      "execution_count": null,
      "outputs": [
        {
          "output_type": "execute_result",
          "data": {
            "text/plain": [
              "(444, 11)"
            ]
          },
          "metadata": {
            "tags": []
          },
          "execution_count": 13
        }
      ]
    },
    {
      "cell_type": "code",
      "metadata": {
        "id": "VIXWJPUq60hv",
        "outputId": "0379b6bf-878f-4fc3-9889-704f1ce7de48"
      },
      "source": [
        "list_account.head()"
      ],
      "execution_count": null,
      "outputs": [
        {
          "output_type": "execute_result",
          "data": {
            "text/html": [
              "<div>\n",
              "<style scoped>\n",
              "    .dataframe tbody tr th:only-of-type {\n",
              "        vertical-align: middle;\n",
              "    }\n",
              "\n",
              "    .dataframe tbody tr th {\n",
              "        vertical-align: top;\n",
              "    }\n",
              "\n",
              "    .dataframe thead th {\n",
              "        text-align: right;\n",
              "    }\n",
              "</style>\n",
              "<table border=\"1\" class=\"dataframe\">\n",
              "  <thead>\n",
              "    <tr style=\"text-align: right;\">\n",
              "      <th></th>\n",
              "      <th>id</th>\n",
              "      <th>name</th>\n",
              "      <th>handle</th>\n",
              "      <th>profileImage</th>\n",
              "      <th>subscriberCount</th>\n",
              "      <th>url</th>\n",
              "      <th>platform</th>\n",
              "      <th>platformId</th>\n",
              "      <th>accountType</th>\n",
              "      <th>pageAdminTopCountry</th>\n",
              "      <th>verified</th>\n",
              "    </tr>\n",
              "  </thead>\n",
              "  <tbody>\n",
              "    <tr>\n",
              "      <th>0</th>\n",
              "      <td>1864990</td>\n",
              "      <td>Analog Devices, Inc.</td>\n",
              "      <td>AnalogDevicesInc</td>\n",
              "      <td>https://scontent-sea1-1.xx.fbcdn.net/v/t1.6435...</td>\n",
              "      <td>133076</td>\n",
              "      <td>https://www.facebook.com/243348722355011</td>\n",
              "      <td>Facebook</td>\n",
              "      <td>243348722355011</td>\n",
              "      <td>facebook_page</td>\n",
              "      <td>US</td>\n",
              "      <td>False</td>\n",
              "    </tr>\n",
              "    <tr>\n",
              "      <th>1</th>\n",
              "      <td>149249</td>\n",
              "      <td>Ameriprise Financial</td>\n",
              "      <td>Ameriprise</td>\n",
              "      <td>https://scontent-sea1-1.xx.fbcdn.net/v/t1.6435...</td>\n",
              "      <td>132970</td>\n",
              "      <td>https://www.facebook.com/161275430585313</td>\n",
              "      <td>Facebook</td>\n",
              "      <td>161275430585313</td>\n",
              "      <td>facebook_page</td>\n",
              "      <td>US</td>\n",
              "      <td>True</td>\n",
              "    </tr>\n",
              "    <tr>\n",
              "      <th>2</th>\n",
              "      <td>1066260</td>\n",
              "      <td>Bristol Myers Squibb</td>\n",
              "      <td>BristolMyersSquibb</td>\n",
              "      <td>https://scontent-sea1-1.xx.fbcdn.net/v/t1.6435...</td>\n",
              "      <td>135030</td>\n",
              "      <td>https://www.facebook.com/474591366067852</td>\n",
              "      <td>Facebook</td>\n",
              "      <td>474591366067852</td>\n",
              "      <td>facebook_page</td>\n",
              "      <td>US</td>\n",
              "      <td>True</td>\n",
              "    </tr>\n",
              "    <tr>\n",
              "      <th>3</th>\n",
              "      <td>11090093</td>\n",
              "      <td>Celanese Corporation</td>\n",
              "      <td>Celanese</td>\n",
              "      <td>https://scontent-sea1-1.xx.fbcdn.net/v/t1.1816...</td>\n",
              "      <td>5323</td>\n",
              "      <td>https://www.facebook.com/444667375205</td>\n",
              "      <td>Facebook</td>\n",
              "      <td>444667375205</td>\n",
              "      <td>facebook_page</td>\n",
              "      <td>US</td>\n",
              "      <td>False</td>\n",
              "    </tr>\n",
              "    <tr>\n",
              "      <th>4</th>\n",
              "      <td>2264358</td>\n",
              "      <td>Chubb North America</td>\n",
              "      <td>ChubbInsurance</td>\n",
              "      <td>https://scontent-sea1-1.xx.fbcdn.net/v/t1.1816...</td>\n",
              "      <td>21386</td>\n",
              "      <td>https://www.facebook.com/195143962298</td>\n",
              "      <td>Facebook</td>\n",
              "      <td>195143962298</td>\n",
              "      <td>facebook_page</td>\n",
              "      <td>US</td>\n",
              "      <td>False</td>\n",
              "    </tr>\n",
              "  </tbody>\n",
              "</table>\n",
              "</div>"
            ],
            "text/plain": [
              "         id                  name              handle  \\\n",
              "0   1864990  Analog Devices, Inc.    AnalogDevicesInc   \n",
              "1    149249  Ameriprise Financial          Ameriprise   \n",
              "2   1066260  Bristol Myers Squibb  BristolMyersSquibb   \n",
              "3  11090093  Celanese Corporation            Celanese   \n",
              "4   2264358   Chubb North America      ChubbInsurance   \n",
              "\n",
              "                                        profileImage  subscriberCount  \\\n",
              "0  https://scontent-sea1-1.xx.fbcdn.net/v/t1.6435...           133076   \n",
              "1  https://scontent-sea1-1.xx.fbcdn.net/v/t1.6435...           132970   \n",
              "2  https://scontent-sea1-1.xx.fbcdn.net/v/t1.6435...           135030   \n",
              "3  https://scontent-sea1-1.xx.fbcdn.net/v/t1.1816...             5323   \n",
              "4  https://scontent-sea1-1.xx.fbcdn.net/v/t1.1816...            21386   \n",
              "\n",
              "                                        url  platform       platformId  \\\n",
              "0  https://www.facebook.com/243348722355011  Facebook  243348722355011   \n",
              "1  https://www.facebook.com/161275430585313  Facebook  161275430585313   \n",
              "2  https://www.facebook.com/474591366067852  Facebook  474591366067852   \n",
              "3     https://www.facebook.com/444667375205  Facebook     444667375205   \n",
              "4     https://www.facebook.com/195143962298  Facebook     195143962298   \n",
              "\n",
              "     accountType pageAdminTopCountry  verified  \n",
              "0  facebook_page                  US     False  \n",
              "1  facebook_page                  US      True  \n",
              "2  facebook_page                  US      True  \n",
              "3  facebook_page                  US     False  \n",
              "4  facebook_page                  US     False  "
            ]
          },
          "metadata": {
            "tags": []
          },
          "execution_count": 14
        }
      ]
    },
    {
      "cell_type": "code",
      "metadata": {
        "id": "45_0USHz7G74"
      },
      "source": [
        ""
      ],
      "execution_count": null,
      "outputs": []
    },
    {
      "cell_type": "markdown",
      "metadata": {
        "id": "GYGbiVYm7Irv"
      },
      "source": [
        "##### extract the post from api according to the accounts"
      ]
    },
    {
      "cell_type": "code",
      "metadata": {
        "id": "sipCqD3n60hv"
      },
      "source": [
        "#the function to call api\n",
        "def check_data(x, startdate, enddate):\n",
        "    fail = None\n",
        "    res = None\n",
        "    post = []\n",
        "    #print('inside',x)\n",
        "    params = (('token', '6inSCSaD5HTd1tdYEWGESSxduwgMF517gNrCJU1c'),('accounts',x),('count',100),('startDate',startdate),\\\n",
        "             ('endDate',enddate),('sortBy','date'),('searchTerm','covid,coronavirus,pandemic,covid-19,covid19'))\n",
        "    #note: 'searchTerm' can not do partial search so we add \"covid19\" \"covid-19\"\n",
        "    #If you need to extract all posts for these period, please remove searchTerm\n",
        "    try:\n",
        "        response = requests.get('https://api.crowdtangle.com/posts', params=params)\n",
        "        t = random.randint(0, 30) \n",
        "        time.sleep(t)\n",
        "        if response.status_code==200:\n",
        "            #print('status',response.status_code)\n",
        "            res_dict = response.json()\n",
        "            if 'result' in res_dict.keys():\n",
        "                res = 1\n",
        "                #print(len( res_dict['result']['posts']))\n",
        "                post += res_dict['result']['posts']\n",
        "\n",
        "            p=0\n",
        "            while ('pagination' in res_dict['result'].keys()) and ('nextPage'in res_dict['result']['pagination'].keys() ):\n",
        "                p += 1\n",
        "                print('page',p,startdate )\n",
        "                response = requests.get(res_dict['result']['pagination']['nextPage'])\n",
        "                t = random.randint(0, 30) \n",
        "                time.sleep(t)\n",
        "                res_dict = response.json()\n",
        "                post += res_dict['result']['posts']\n",
        "\n",
        "        elif response.status_code !=200:\n",
        "            print('test error')\n",
        "            fail = x\n",
        "        else:\n",
        "            pass\n",
        "\n",
        "    except:\n",
        "        fail = x\n",
        "    return res, post, fail"
      ],
      "execution_count": null,
      "outputs": []
    },
    {
      "cell_type": "code",
      "metadata": {
        "id": "ww4L-aHA8Ih4"
      },
      "source": [
        ""
      ],
      "execution_count": null,
      "outputs": []
    },
    {
      "cell_type": "code",
      "metadata": {
        "id": "fVf_8Qoq60hw"
      },
      "source": [
        "#get a demo table\n",
        "res = check_data(list_account.platformId[0],'2020-01-01','2020-03-01')"
      ],
      "execution_count": null,
      "outputs": []
    },
    {
      "cell_type": "code",
      "metadata": {
        "id": "jNLbLmLk60hx"
      },
      "source": [
        "demo = pd.DataFrame(res[1])"
      ],
      "execution_count": null,
      "outputs": []
    },
    {
      "cell_type": "code",
      "metadata": {
        "id": "q3a3aDFX60hx",
        "outputId": "dfd9198d-f668-4583-9081-552f91595016"
      },
      "source": [
        "demo.shape"
      ],
      "execution_count": null,
      "outputs": [
        {
          "output_type": "execute_result",
          "data": {
            "text/plain": [
              "(12, 21)"
            ]
          },
          "metadata": {
            "tags": []
          },
          "execution_count": 18
        }
      ]
    },
    {
      "cell_type": "code",
      "metadata": {
        "scrolled": true,
        "id": "5dfMB0ex60hx",
        "outputId": "3ce79d43-cc9e-476f-c19e-c84c7f3ecf04"
      },
      "source": [
        "demo.columns"
      ],
      "execution_count": null,
      "outputs": [
        {
          "output_type": "execute_result",
          "data": {
            "text/plain": [
              "Index(['platformId', 'platform', 'date', 'updated', 'type', 'message',\n",
              "       'expandedLinks', 'link', 'postUrl', 'subscriberCount', 'score', 'media',\n",
              "       'statistics', 'account', 'legacyId', 'id', 'title', 'caption',\n",
              "       'description', 'imageText', 'videoLengthMS'],\n",
              "      dtype='object')"
            ]
          },
          "metadata": {
            "tags": []
          },
          "execution_count": 19
        }
      ]
    },
    {
      "cell_type": "code",
      "metadata": {
        "id": "dpDxCfnC60hy"
      },
      "source": [
        "result = pd.DataFrame(columns = list(demo.columns))"
      ],
      "execution_count": null,
      "outputs": []
    },
    {
      "cell_type": "code",
      "metadata": {
        "id": "0OcspV8e60hy"
      },
      "source": [
        "datelist = ['2020-01-01', '2020-02-01', '2020-03-01', '2020-04-01', '2020-05-01', '2020-06-01',\\\n",
        "           '2020-07-01', '2020-08-01', '2020-09-01', '2020-10-01', '2020-11-01', '2020-12-01',\\\n",
        "            '2021-01-01', '2021-02-01', '2021-03-01']"
      ],
      "execution_count": null,
      "outputs": []
    },
    {
      "cell_type": "code",
      "metadata": {
        "id": "UC0onfXA60hy"
      },
      "source": [
        "c_acc = 0\n",
        "length = 0\n",
        "fail_list = []\n",
        "\n",
        "for idx in list_account.index:\n",
        "    \n",
        "    print(list_account.platformId[idx])\n",
        "    \n",
        "    \n",
        "    c_acc += 1\n",
        "    if c_acc%10 == 0:\n",
        "        print(c_acc)\n",
        "    idfb = list_account.platformId[idx]\n",
        "    \n",
        "    for didx, _ in enumerate(datelist):\n",
        "        #print(didx)\n",
        "        if didx >=  len(datelist)-1:\n",
        "            break\n",
        "\n",
        "        else:\n",
        "            res = check_data(idfb, datelist[didx], datelist[didx+1])\n",
        "\n",
        "            error_c = 0\n",
        "            if res[2] == None:\n",
        "                error_c += 1\n",
        "                if error_c >= len(datelist):\n",
        "                    fail_list.append(res[2])\n",
        "                    print('error 2')\n",
        "\n",
        "            if res[0] == 1:\n",
        "                #print(res[0])\n",
        "                temp =  pd.DataFrame(res[1])\n",
        "\n",
        "                if len(temp) >= 100:\n",
        "                    print('*****') # for most of the cases, the posts for each account are less than 100\n",
        "\n",
        "                length += len(temp)\n",
        "\n",
        "                result = result.append( temp ,ignore_index=True)"
      ],
      "execution_count": null,
      "outputs": []
    },
    {
      "cell_type": "code",
      "metadata": {
        "id": "nX3wbOHk60hz",
        "outputId": "7dbaa900-2c3c-49fb-c8a6-eba9730fec1a"
      },
      "source": [
        "result.shape"
      ],
      "execution_count": null,
      "outputs": [
        {
          "output_type": "execute_result",
          "data": {
            "text/plain": [
              "(142728, 23)"
            ]
          },
          "metadata": {
            "tags": []
          },
          "execution_count": 27
        }
      ]
    },
    {
      "cell_type": "code",
      "metadata": {
        "id": "z1Jjwr_F60h0",
        "outputId": "d17087a4-574f-4a9c-c19a-0c6e76f5ee3e"
      },
      "source": [
        "result[result.astype(str).duplicated()].index"
      ],
      "execution_count": null,
      "outputs": [
        {
          "output_type": "execute_result",
          "data": {
            "text/plain": [
              "Int64Index([  1885,   1886,   1887,   1888,   1889,   1890,   1891,   1892,\n",
              "              1893,   1894,\n",
              "            ...\n",
              "            142651, 142652, 142653, 142654, 142657, 142658, 142659, 142662,\n",
              "            142663, 142664],\n",
              "           dtype='int64', length=18093)"
            ]
          },
          "metadata": {
            "tags": []
          },
          "execution_count": 34
        }
      ]
    },
    {
      "cell_type": "code",
      "metadata": {
        "id": "XJi7-0np60h0"
      },
      "source": [
        "result_1 = result.drop(result[result.astype(str).duplicated()].index)"
      ],
      "execution_count": null,
      "outputs": []
    },
    {
      "cell_type": "code",
      "metadata": {
        "id": "mNnsSG3h60h0",
        "outputId": "b009e9fd-47d8-4215-ad11-96fc228d2bf1"
      },
      "source": [
        "result_1.shape"
      ],
      "execution_count": null,
      "outputs": [
        {
          "output_type": "execute_result",
          "data": {
            "text/plain": [
              "(124635, 23)"
            ]
          },
          "metadata": {
            "tags": []
          },
          "execution_count": 36
        }
      ]
    },
    {
      "cell_type": "code",
      "metadata": {
        "id": "RKo7inbl60h6"
      },
      "source": [
        "df_api.columns"
      ],
      "execution_count": null,
      "outputs": []
    },
    {
      "cell_type": "code",
      "metadata": {
        "id": "fT9qV8Sz60h6"
      },
      "source": [
        "# DONE"
      ],
      "execution_count": null,
      "outputs": []
    }
  ]
}