{
  "nbformat": 4,
  "nbformat_minor": 0,
  "metadata": {
    "colab": {
      "name": "mergesummary.ipynb",
      "provenance": [],
      "include_colab_link": true
    },
    "kernelspec": {
      "display_name": "Python 3",
      "language": "python",
      "name": "python3"
    },
    "language_info": {
      "codemirror_mode": {
        "name": "ipython",
        "version": 3
      },
      "file_extension": ".py",
      "mimetype": "text/x-python",
      "name": "python",
      "nbconvert_exporter": "python",
      "pygments_lexer": "ipython3",
      "version": "3.7.3"
    }
  },
  "cells": [
    {
      "cell_type": "markdown",
      "metadata": {
        "id": "view-in-github",
        "colab_type": "text"
      },
      "source": [
        "<a href=\"https://colab.research.google.com/github/pepperamy/others/blob/main/mergesummary.ipynb\" target=\"_parent\"><img src=\"https://colab.research.google.com/assets/colab-badge.svg\" alt=\"Open In Colab\"/></a>"
      ]
    },
    {
      "cell_type": "code",
      "metadata": {
        "id": "BoCW4tE2CM7f"
      },
      "source": [
        "import pandas as pd\n",
        "import numpy as np"
      ],
      "execution_count": null,
      "outputs": []
    },
    {
      "cell_type": "code",
      "metadata": {
        "id": "87PBgwUGCM7m"
      },
      "source": [
        "from datetime import datetime"
      ],
      "execution_count": null,
      "outputs": []
    },
    {
      "cell_type": "code",
      "metadata": {
        "id": "f_a7PmpcCM7m"
      },
      "source": [
        "#data from the \"historical data\"\r\n",
        "df = pd.read_csv('ins_2021-03-06-20-44-07-EST-Historical-Report-SP-500-2020-01-01--2021-03-01.csv')"
      ],
      "execution_count": null,
      "outputs": []
    },
    {
      "cell_type": "code",
      "metadata": {
        "id": "We4_EWe_z9Q-"
      },
      "source": [
        "#df['ins_id'] = df['URL'].apply(lambda x: [i for i in x.split('/') if i != ''][-1])"
      ],
      "execution_count": null,
      "outputs": []
    },
    {
      "cell_type": "code",
      "metadata": {
        "id": "G8xQKSiJz9Q_",
        "outputId": "2f0217fa-ab41-4234-a906-284d8634b7c1"
      },
      "source": [
        "df['User Name'].isnull().sum()"
      ],
      "execution_count": null,
      "outputs": [
        {
          "output_type": "execute_result",
          "data": {
            "text/plain": [
              "0"
            ]
          },
          "metadata": {
            "tags": []
          },
          "execution_count": 5
        }
      ]
    },
    {
      "cell_type": "code",
      "metadata": {
        "id": "CPFN4mHMz9RA",
        "outputId": "466d80c5-7f3a-4bbd-867d-5b5d94109022"
      },
      "source": [
        "df.head()"
      ],
      "execution_count": null,
      "outputs": [
        {
          "output_type": "execute_result",
          "data": {
            "text/html": [
              "<div>\n",
              "<style scoped>\n",
              "    .dataframe tbody tr th:only-of-type {\n",
              "        vertical-align: middle;\n",
              "    }\n",
              "\n",
              "    .dataframe tbody tr th {\n",
              "        vertical-align: top;\n",
              "    }\n",
              "\n",
              "    .dataframe thead th {\n",
              "        text-align: right;\n",
              "    }\n",
              "</style>\n",
              "<table border=\"1\" class=\"dataframe\">\n",
              "  <thead>\n",
              "    <tr style=\"text-align: right;\">\n",
              "      <th></th>\n",
              "      <th>Account</th>\n",
              "      <th>User Name</th>\n",
              "      <th>Followers at Posting</th>\n",
              "      <th>Created</th>\n",
              "      <th>Type</th>\n",
              "      <th>Likes</th>\n",
              "      <th>Comments</th>\n",
              "      <th>Views</th>\n",
              "      <th>URL</th>\n",
              "      <th>Link</th>\n",
              "      <th>Photo</th>\n",
              "      <th>Title</th>\n",
              "      <th>Description</th>\n",
              "      <th>Image Text</th>\n",
              "      <th>Sponsor Id</th>\n",
              "      <th>Sponsor Name</th>\n",
              "      <th>Total Interactions</th>\n",
              "      <th>Overperforming Score (weighted  —  Likes 1x Comments 1x )</th>\n",
              "    </tr>\n",
              "  </thead>\n",
              "  <tbody>\n",
              "    <tr>\n",
              "      <th>0</th>\n",
              "      <td>HCA Healthcare</td>\n",
              "      <td>hcahealthcare</td>\n",
              "      <td>8921.0</td>\n",
              "      <td>2021-02-28 11:38:56 EST</td>\n",
              "      <td>Photo</td>\n",
              "      <td>72</td>\n",
              "      <td>1</td>\n",
              "      <td>0</td>\n",
              "      <td>https://www.instagram.com/p/CL18eAlBgsB/</td>\n",
              "      <td>https://www.instagram.com/p/CL18eAlBgsB/</td>\n",
              "      <td>https://scontent-lax3-1.cdninstagram.com/v/t51...</td>\n",
              "      <td>NaN</td>\n",
              "      <td>Throughout #BlackHistoryMonth we’ve been celeb...</td>\n",
              "      <td>FAIRVII HOS FAIRVIEW PA HOSPITA IRVIEW HO PAR ...</td>\n",
              "      <td>NaN</td>\n",
              "      <td>NaN</td>\n",
              "      <td>73</td>\n",
              "      <td>-1.63</td>\n",
              "    </tr>\n",
              "    <tr>\n",
              "      <th>1</th>\n",
              "      <td>Illumina Inc.</td>\n",
              "      <td>illuminainc</td>\n",
              "      <td>5680.0</td>\n",
              "      <td>2021-02-27 17:00:12 EST</td>\n",
              "      <td>Photo</td>\n",
              "      <td>67</td>\n",
              "      <td>0</td>\n",
              "      <td>0</td>\n",
              "      <td>https://www.instagram.com/p/CLz8b8nniw_/</td>\n",
              "      <td>https://www.instagram.com/p/CLz8b8nniw_/</td>\n",
              "      <td>https://scontent-sea1-1.cdninstagram.com/v/t51...</td>\n",
              "      <td>NaN</td>\n",
              "      <td>Whole genome sequencing is changing the lives ...</td>\n",
              "      <td>Working from home, doing remote learning, havi...</td>\n",
              "      <td>NaN</td>\n",
              "      <td>NaN</td>\n",
              "      <td>67</td>\n",
              "      <td>-2.16</td>\n",
              "    </tr>\n",
              "    <tr>\n",
              "      <th>2</th>\n",
              "      <td>Humana</td>\n",
              "      <td>humana</td>\n",
              "      <td>10012.0</td>\n",
              "      <td>2021-02-27 10:41:07 EST</td>\n",
              "      <td>Album</td>\n",
              "      <td>219</td>\n",
              "      <td>3</td>\n",
              "      <td>0</td>\n",
              "      <td>https://www.instagram.com/p/CLzRDn-lsen/</td>\n",
              "      <td>https://www.instagram.com/p/CLzRDn-lsen/</td>\n",
              "      <td>https://scontent-sea1-1.cdninstagram.com/v/t51...</td>\n",
              "      <td>NaN</td>\n",
              "      <td>Caregiving may be loving and rewarding work, b...</td>\n",
              "      <td>NaN</td>\n",
              "      <td>NaN</td>\n",
              "      <td>NaN</td>\n",
              "      <td>222</td>\n",
              "      <td>1.55</td>\n",
              "    </tr>\n",
              "    <tr>\n",
              "      <th>3</th>\n",
              "      <td>J.B. Hunt Transport, Inc.</td>\n",
              "      <td>jbhunttransport</td>\n",
              "      <td>1966.0</td>\n",
              "      <td>2021-02-26 17:15:07 EST</td>\n",
              "      <td>Photo</td>\n",
              "      <td>113</td>\n",
              "      <td>5</td>\n",
              "      <td>0</td>\n",
              "      <td>https://www.instagram.com/p/CLxZWNhlifm/</td>\n",
              "      <td>https://www.instagram.com/p/CLxZWNhlifm/</td>\n",
              "      <td>https://scontent-sea1-1.cdninstagram.com/v/t51...</td>\n",
              "      <td>NaN</td>\n",
              "      <td>Our parking lot looked a bit different today! ...</td>\n",
              "      <td>NaN</td>\n",
              "      <td>NaN</td>\n",
              "      <td>NaN</td>\n",
              "      <td>118</td>\n",
              "      <td>2.81</td>\n",
              "    </tr>\n",
              "    <tr>\n",
              "      <th>4</th>\n",
              "      <td>Gap Inc.</td>\n",
              "      <td>gapinc</td>\n",
              "      <td>28387.0</td>\n",
              "      <td>2021-02-26 15:36:58 EST</td>\n",
              "      <td>Photo</td>\n",
              "      <td>428</td>\n",
              "      <td>11</td>\n",
              "      <td>0</td>\n",
              "      <td>https://www.instagram.com/p/CLxOHlwH-V8/</td>\n",
              "      <td>https://www.instagram.com/p/CLxOHlwH-V8/</td>\n",
              "      <td>https://scontent-sea1-1.cdninstagram.com/v/t51...</td>\n",
              "      <td>NaN</td>\n",
              "      <td>We’re answering the call from the White House ...</td>\n",
              "      <td>We're answering the call from the White House ...</td>\n",
              "      <td>NaN</td>\n",
              "      <td>NaN</td>\n",
              "      <td>439</td>\n",
              "      <td>1.96</td>\n",
              "    </tr>\n",
              "  </tbody>\n",
              "</table>\n",
              "</div>"
            ],
            "text/plain": [
              "                     Account        User Name  Followers at Posting  \\\n",
              "0             HCA Healthcare    hcahealthcare                8921.0   \n",
              "1              Illumina Inc.      illuminainc                5680.0   \n",
              "2                     Humana           humana               10012.0   \n",
              "3  J.B. Hunt Transport, Inc.  jbhunttransport                1966.0   \n",
              "4                   Gap Inc.           gapinc               28387.0   \n",
              "\n",
              "                   Created   Type  Likes  Comments  Views  \\\n",
              "0  2021-02-28 11:38:56 EST  Photo     72         1      0   \n",
              "1  2021-02-27 17:00:12 EST  Photo     67         0      0   \n",
              "2  2021-02-27 10:41:07 EST  Album    219         3      0   \n",
              "3  2021-02-26 17:15:07 EST  Photo    113         5      0   \n",
              "4  2021-02-26 15:36:58 EST  Photo    428        11      0   \n",
              "\n",
              "                                        URL  \\\n",
              "0  https://www.instagram.com/p/CL18eAlBgsB/   \n",
              "1  https://www.instagram.com/p/CLz8b8nniw_/   \n",
              "2  https://www.instagram.com/p/CLzRDn-lsen/   \n",
              "3  https://www.instagram.com/p/CLxZWNhlifm/   \n",
              "4  https://www.instagram.com/p/CLxOHlwH-V8/   \n",
              "\n",
              "                                       Link  \\\n",
              "0  https://www.instagram.com/p/CL18eAlBgsB/   \n",
              "1  https://www.instagram.com/p/CLz8b8nniw_/   \n",
              "2  https://www.instagram.com/p/CLzRDn-lsen/   \n",
              "3  https://www.instagram.com/p/CLxZWNhlifm/   \n",
              "4  https://www.instagram.com/p/CLxOHlwH-V8/   \n",
              "\n",
              "                                               Photo Title  \\\n",
              "0  https://scontent-lax3-1.cdninstagram.com/v/t51...   NaN   \n",
              "1  https://scontent-sea1-1.cdninstagram.com/v/t51...   NaN   \n",
              "2  https://scontent-sea1-1.cdninstagram.com/v/t51...   NaN   \n",
              "3  https://scontent-sea1-1.cdninstagram.com/v/t51...   NaN   \n",
              "4  https://scontent-sea1-1.cdninstagram.com/v/t51...   NaN   \n",
              "\n",
              "                                         Description  \\\n",
              "0  Throughout #BlackHistoryMonth we’ve been celeb...   \n",
              "1  Whole genome sequencing is changing the lives ...   \n",
              "2  Caregiving may be loving and rewarding work, b...   \n",
              "3  Our parking lot looked a bit different today! ...   \n",
              "4  We’re answering the call from the White House ...   \n",
              "\n",
              "                                          Image Text  Sponsor Id Sponsor Name  \\\n",
              "0  FAIRVII HOS FAIRVIEW PA HOSPITA IRVIEW HO PAR ...         NaN          NaN   \n",
              "1  Working from home, doing remote learning, havi...         NaN          NaN   \n",
              "2                                                NaN         NaN          NaN   \n",
              "3                                                NaN         NaN          NaN   \n",
              "4  We're answering the call from the White House ...         NaN          NaN   \n",
              "\n",
              "  Total Interactions  \\\n",
              "0                 73   \n",
              "1                 67   \n",
              "2                222   \n",
              "3                118   \n",
              "4                439   \n",
              "\n",
              "   Overperforming Score (weighted  —  Likes 1x Comments 1x )  \n",
              "0                                              -1.63          \n",
              "1                                              -2.16          \n",
              "2                                               1.55          \n",
              "3                                               2.81          \n",
              "4                                               1.96          "
            ]
          },
          "metadata": {
            "tags": []
          },
          "execution_count": 6
        }
      ]
    },
    {
      "cell_type": "code",
      "metadata": {
        "id": "oEVbg6hzCM7o"
      },
      "source": [
        "from dateutil import parser"
      ],
      "execution_count": null,
      "outputs": []
    },
    {
      "cell_type": "code",
      "metadata": {
        "colab": {
          "base_uri": "https://localhost:8080/"
        },
        "id": "BtPPShpzCM7o",
        "outputId": "358c4f59-fe18-4015-ff5c-1c90ef872615"
      },
      "source": [
        "# change the date type\r\n",
        "df.Created = df.Created.apply(lambda x: parser.parse(x))"
      ],
      "execution_count": null,
      "outputs": [
        {
          "output_type": "stream",
          "text": [
            "C:\\Users\\KK\\Anaconda3\\lib\\site-packages\\dateutil\\parser\\_parser.py:1218: UnknownTimezoneWarning: tzname EST identified but not understood.  Pass `tzinfos` argument in order to correctly return a timezone-aware datetime.  In a future version, this will raise an exception.\n",
            "  category=UnknownTimezoneWarning)\n",
            "C:\\Users\\KK\\Anaconda3\\lib\\site-packages\\dateutil\\parser\\_parser.py:1218: UnknownTimezoneWarning: tzname EDT identified but not understood.  Pass `tzinfos` argument in order to correctly return a timezone-aware datetime.  In a future version, this will raise an exception.\n",
            "  category=UnknownTimezoneWarning)\n"
          ],
          "name": "stderr"
        }
      ]
    },
    {
      "cell_type": "code",
      "metadata": {
        "id": "dMo5DyZpCM7p"
      },
      "source": [
        "result_1 = df.groupby(['User Name'])['User Name'].count()"
      ],
      "execution_count": null,
      "outputs": []
    },
    {
      "cell_type": "code",
      "metadata": {
        "id": "793sZKnPCM7p"
      },
      "source": [
        "result_1 = result_1.to_frame()"
      ],
      "execution_count": null,
      "outputs": []
    },
    {
      "cell_type": "code",
      "metadata": {
        "id": "bIUka1zyDQc-"
      },
      "source": [
        "result_1 = result_1.rename(columns = {'User Name':'count'})"
      ],
      "execution_count": null,
      "outputs": []
    },
    {
      "cell_type": "code",
      "metadata": {
        "id": "VBmR-dUvz9RC",
        "outputId": "6a2c74f2-7e01-44df-a85a-61b9f855f7c2"
      },
      "source": [
        "result_1.head()"
      ],
      "execution_count": null,
      "outputs": [
        {
          "output_type": "execute_result",
          "data": {
            "text/html": [
              "<div>\n",
              "<style scoped>\n",
              "    .dataframe tbody tr th:only-of-type {\n",
              "        vertical-align: middle;\n",
              "    }\n",
              "\n",
              "    .dataframe tbody tr th {\n",
              "        vertical-align: top;\n",
              "    }\n",
              "\n",
              "    .dataframe thead th {\n",
              "        text-align: right;\n",
              "    }\n",
              "</style>\n",
              "<table border=\"1\" class=\"dataframe\">\n",
              "  <thead>\n",
              "    <tr style=\"text-align: right;\">\n",
              "      <th></th>\n",
              "      <th>count</th>\n",
              "    </tr>\n",
              "    <tr>\n",
              "      <th>User Name</th>\n",
              "      <th></th>\n",
              "    </tr>\n",
              "  </thead>\n",
              "  <tbody>\n",
              "    <tr>\n",
              "      <th>3m</th>\n",
              "      <td>13</td>\n",
              "    </tr>\n",
              "    <tr>\n",
              "      <th>abbottglobal</th>\n",
              "      <td>24</td>\n",
              "    </tr>\n",
              "    <tr>\n",
              "      <th>abbvie</th>\n",
              "      <td>4</td>\n",
              "    </tr>\n",
              "    <tr>\n",
              "      <th>accenture</th>\n",
              "      <td>1</td>\n",
              "    </tr>\n",
              "    <tr>\n",
              "      <th>adobe</th>\n",
              "      <td>2</td>\n",
              "    </tr>\n",
              "  </tbody>\n",
              "</table>\n",
              "</div>"
            ],
            "text/plain": [
              "              count\n",
              "User Name          \n",
              "3m               13\n",
              "abbottglobal     24\n",
              "abbvie            4\n",
              "accenture         1\n",
              "adobe             2"
            ]
          },
          "metadata": {
            "tags": []
          },
          "execution_count": 12
        }
      ]
    },
    {
      "cell_type": "code",
      "metadata": {
        "colab": {
          "base_uri": "https://localhost:8080/"
        },
        "id": "w9wutYDOCM7p",
        "outputId": "820023a9-6a48-4519-aa63-04b5ab2d9f50"
      },
      "source": [
        "result_2 = df.groupby(['User Name'])['Total Interactions','Comments','Views','Likes'].sum() # the column name is different from facebook data and the ins data\r\n",
        "                                                 #need to change the column name"
      ],
      "execution_count": null,
      "outputs": [
        {
          "output_type": "stream",
          "text": [
            "C:\\Users\\KK\\Anaconda3\\lib\\site-packages\\ipykernel_launcher.py:1: FutureWarning: Indexing with multiple keys (implicitly converted to a tuple of keys) will be deprecated, use a list instead.\n",
            "  \"\"\"Entry point for launching an IPython kernel.\n"
          ],
          "name": "stderr"
        }
      ]
    },
    {
      "cell_type": "code",
      "metadata": {
        "id": "HxzA9Tkdz9RD",
        "outputId": "535a3548-0b46-44af-f38e-b2a28b059799"
      },
      "source": [
        "result_2.head()"
      ],
      "execution_count": null,
      "outputs": [
        {
          "output_type": "execute_result",
          "data": {
            "text/html": [
              "<div>\n",
              "<style scoped>\n",
              "    .dataframe tbody tr th:only-of-type {\n",
              "        vertical-align: middle;\n",
              "    }\n",
              "\n",
              "    .dataframe tbody tr th {\n",
              "        vertical-align: top;\n",
              "    }\n",
              "\n",
              "    .dataframe thead th {\n",
              "        text-align: right;\n",
              "    }\n",
              "</style>\n",
              "<table border=\"1\" class=\"dataframe\">\n",
              "  <thead>\n",
              "    <tr style=\"text-align: right;\">\n",
              "      <th></th>\n",
              "      <th>Comments</th>\n",
              "      <th>Views</th>\n",
              "      <th>Likes</th>\n",
              "    </tr>\n",
              "    <tr>\n",
              "      <th>User Name</th>\n",
              "      <th></th>\n",
              "      <th></th>\n",
              "      <th></th>\n",
              "    </tr>\n",
              "  </thead>\n",
              "  <tbody>\n",
              "    <tr>\n",
              "      <th>3m</th>\n",
              "      <td>3190</td>\n",
              "      <td>75396</td>\n",
              "      <td>30667</td>\n",
              "    </tr>\n",
              "    <tr>\n",
              "      <th>abbottglobal</th>\n",
              "      <td>2789</td>\n",
              "      <td>122160</td>\n",
              "      <td>47773</td>\n",
              "    </tr>\n",
              "    <tr>\n",
              "      <th>abbvie</th>\n",
              "      <td>60</td>\n",
              "      <td>2122</td>\n",
              "      <td>2520</td>\n",
              "    </tr>\n",
              "    <tr>\n",
              "      <th>accenture</th>\n",
              "      <td>18</td>\n",
              "      <td>0</td>\n",
              "      <td>2475</td>\n",
              "    </tr>\n",
              "    <tr>\n",
              "      <th>adobe</th>\n",
              "      <td>163</td>\n",
              "      <td>0</td>\n",
              "      <td>5760</td>\n",
              "    </tr>\n",
              "  </tbody>\n",
              "</table>\n",
              "</div>"
            ],
            "text/plain": [
              "              Comments   Views  Likes\n",
              "User Name                            \n",
              "3m                3190   75396  30667\n",
              "abbottglobal      2789  122160  47773\n",
              "abbvie              60    2122   2520\n",
              "accenture           18       0   2475\n",
              "adobe              163       0   5760"
            ]
          },
          "metadata": {
            "tags": []
          },
          "execution_count": 42
        }
      ]
    },
    {
      "cell_type": "code",
      "metadata": {
        "id": "KvKqkA-wCM7q"
      },
      "source": [
        "result = result_1.merge(result_2, right_index =True, left_index = True)"
      ],
      "execution_count": null,
      "outputs": []
    },
    {
      "cell_type": "code",
      "metadata": {
        "id": "lhee1hxPCM7q"
      },
      "source": [
        "result = result.reset_index()"
      ],
      "execution_count": null,
      "outputs": []
    },
    {
      "cell_type": "code",
      "metadata": {
        "colab": {
          "base_uri": "https://localhost:8080/",
          "height": 195
        },
        "id": "gLQfRfQQDGI4",
        "outputId": "8eb81fa4-ae28-4e2e-b694-7d0e2e073090"
      },
      "source": [
        "result.head()"
      ],
      "execution_count": null,
      "outputs": [
        {
          "output_type": "execute_result",
          "data": {
            "text/html": [
              "<div>\n",
              "<style scoped>\n",
              "    .dataframe tbody tr th:only-of-type {\n",
              "        vertical-align: middle;\n",
              "    }\n",
              "\n",
              "    .dataframe tbody tr th {\n",
              "        vertical-align: top;\n",
              "    }\n",
              "\n",
              "    .dataframe thead th {\n",
              "        text-align: right;\n",
              "    }\n",
              "</style>\n",
              "<table border=\"1\" class=\"dataframe\">\n",
              "  <thead>\n",
              "    <tr style=\"text-align: right;\">\n",
              "      <th></th>\n",
              "      <th>User Name</th>\n",
              "      <th>count</th>\n",
              "      <th>Comments</th>\n",
              "      <th>Views</th>\n",
              "      <th>Likes</th>\n",
              "    </tr>\n",
              "  </thead>\n",
              "  <tbody>\n",
              "    <tr>\n",
              "      <th>0</th>\n",
              "      <td>3m</td>\n",
              "      <td>13</td>\n",
              "      <td>3190</td>\n",
              "      <td>75396</td>\n",
              "      <td>30667</td>\n",
              "    </tr>\n",
              "    <tr>\n",
              "      <th>1</th>\n",
              "      <td>abbottglobal</td>\n",
              "      <td>24</td>\n",
              "      <td>2789</td>\n",
              "      <td>122160</td>\n",
              "      <td>47773</td>\n",
              "    </tr>\n",
              "    <tr>\n",
              "      <th>2</th>\n",
              "      <td>abbvie</td>\n",
              "      <td>4</td>\n",
              "      <td>60</td>\n",
              "      <td>2122</td>\n",
              "      <td>2520</td>\n",
              "    </tr>\n",
              "    <tr>\n",
              "      <th>3</th>\n",
              "      <td>accenture</td>\n",
              "      <td>1</td>\n",
              "      <td>18</td>\n",
              "      <td>0</td>\n",
              "      <td>2475</td>\n",
              "    </tr>\n",
              "    <tr>\n",
              "      <th>4</th>\n",
              "      <td>adobe</td>\n",
              "      <td>2</td>\n",
              "      <td>163</td>\n",
              "      <td>0</td>\n",
              "      <td>5760</td>\n",
              "    </tr>\n",
              "  </tbody>\n",
              "</table>\n",
              "</div>"
            ],
            "text/plain": [
              "      User Name  count  Comments   Views  Likes\n",
              "0            3m     13      3190   75396  30667\n",
              "1  abbottglobal     24      2789  122160  47773\n",
              "2        abbvie      4        60    2122   2520\n",
              "3     accenture      1        18       0   2475\n",
              "4         adobe      2       163       0   5760"
            ]
          },
          "metadata": {
            "tags": []
          },
          "execution_count": 45
        }
      ]
    },
    {
      "cell_type": "code",
      "metadata": {
        "id": "IAXuTqIdCM7q"
      },
      "source": [
        "#get the start date and end date of each account\n",
        "def get_date(x):\n",
        "    global df\n",
        "    temp = df[df['User Name'] == x]\n",
        "    temp_sort = temp.sort_values(by = ['Created'])\n",
        "    sd = temp_sort.Created.iloc[0]\n",
        "    ed = temp_sort.Created.iloc[-1]\n",
        "    return sd, ed"
      ],
      "execution_count": null,
      "outputs": []
    },
    {
      "cell_type": "code",
      "metadata": {
        "id": "zBa9MJ9RCM7r"
      },
      "source": [
        "result['start_date'] = result['User Name'].apply(lambda x:get_date(x)[0])"
      ],
      "execution_count": null,
      "outputs": []
    },
    {
      "cell_type": "code",
      "metadata": {
        "id": "AR1huXBRCM7r"
      },
      "source": [
        "result['end_date'] = result['User Name'].apply(lambda x:get_date(x)[1])"
      ],
      "execution_count": null,
      "outputs": []
    },
    {
      "cell_type": "code",
      "metadata": {
        "colab": {
          "base_uri": "https://localhost:8080/",
          "height": 195
        },
        "id": "pDi1scX5CM7r",
        "scrolled": true,
        "outputId": "26676574-83e9-42d8-e9d3-82a3d9e4de2d"
      },
      "source": [
        "result.head()"
      ],
      "execution_count": null,
      "outputs": [
        {
          "output_type": "execute_result",
          "data": {
            "text/html": [
              "<div>\n",
              "<style scoped>\n",
              "    .dataframe tbody tr th:only-of-type {\n",
              "        vertical-align: middle;\n",
              "    }\n",
              "\n",
              "    .dataframe tbody tr th {\n",
              "        vertical-align: top;\n",
              "    }\n",
              "\n",
              "    .dataframe thead th {\n",
              "        text-align: right;\n",
              "    }\n",
              "</style>\n",
              "<table border=\"1\" class=\"dataframe\">\n",
              "  <thead>\n",
              "    <tr style=\"text-align: right;\">\n",
              "      <th></th>\n",
              "      <th>User Name</th>\n",
              "      <th>count</th>\n",
              "      <th>Comments</th>\n",
              "      <th>Views</th>\n",
              "      <th>Likes</th>\n",
              "      <th>start_date</th>\n",
              "      <th>end_date</th>\n",
              "    </tr>\n",
              "  </thead>\n",
              "  <tbody>\n",
              "    <tr>\n",
              "      <th>0</th>\n",
              "      <td>3m</td>\n",
              "      <td>13</td>\n",
              "      <td>3190</td>\n",
              "      <td>75396</td>\n",
              "      <td>30667</td>\n",
              "      <td>2020-03-20 15:04:00</td>\n",
              "      <td>2020-11-09 13:14:30</td>\n",
              "    </tr>\n",
              "    <tr>\n",
              "      <th>1</th>\n",
              "      <td>abbottglobal</td>\n",
              "      <td>24</td>\n",
              "      <td>2789</td>\n",
              "      <td>122160</td>\n",
              "      <td>47773</td>\n",
              "      <td>2020-03-18 20:08:04</td>\n",
              "      <td>2021-02-02 11:07:28</td>\n",
              "    </tr>\n",
              "    <tr>\n",
              "      <th>2</th>\n",
              "      <td>abbvie</td>\n",
              "      <td>4</td>\n",
              "      <td>60</td>\n",
              "      <td>2122</td>\n",
              "      <td>2520</td>\n",
              "      <td>2020-03-26 08:30:08</td>\n",
              "      <td>2020-12-21 08:00:10</td>\n",
              "    </tr>\n",
              "    <tr>\n",
              "      <th>3</th>\n",
              "      <td>accenture</td>\n",
              "      <td>1</td>\n",
              "      <td>18</td>\n",
              "      <td>0</td>\n",
              "      <td>2475</td>\n",
              "      <td>2020-05-06 10:28:49</td>\n",
              "      <td>2020-05-06 10:28:49</td>\n",
              "    </tr>\n",
              "    <tr>\n",
              "      <th>4</th>\n",
              "      <td>adobe</td>\n",
              "      <td>2</td>\n",
              "      <td>163</td>\n",
              "      <td>0</td>\n",
              "      <td>5760</td>\n",
              "      <td>2020-04-15 12:39:38</td>\n",
              "      <td>2020-07-09 15:13:20</td>\n",
              "    </tr>\n",
              "  </tbody>\n",
              "</table>\n",
              "</div>"
            ],
            "text/plain": [
              "      User Name  count  Comments   Views  Likes          start_date  \\\n",
              "0            3m     13      3190   75396  30667 2020-03-20 15:04:00   \n",
              "1  abbottglobal     24      2789  122160  47773 2020-03-18 20:08:04   \n",
              "2        abbvie      4        60    2122   2520 2020-03-26 08:30:08   \n",
              "3     accenture      1        18       0   2475 2020-05-06 10:28:49   \n",
              "4         adobe      2       163       0   5760 2020-04-15 12:39:38   \n",
              "\n",
              "             end_date  \n",
              "0 2020-11-09 13:14:30  \n",
              "1 2021-02-02 11:07:28  \n",
              "2 2020-12-21 08:00:10  \n",
              "3 2020-05-06 10:28:49  \n",
              "4 2020-07-09 15:13:20  "
            ]
          },
          "metadata": {
            "tags": []
          },
          "execution_count": 49
        }
      ]
    },
    {
      "cell_type": "code",
      "metadata": {
        "id": "Z40KZ37LCM7r"
      },
      "source": [
        "#data from the leaderboad\r\n",
        "leaderboard = pd.read_csv('ins_2021-03-06-20-45-23-EST-instagram_leaderboard_S&P-500_2020-01-01_00-00-00_ET_2021-02-28_23-59-59_ET.csv')"
      ],
      "execution_count": null,
      "outputs": []
    },
    {
      "cell_type": "code",
      "metadata": {
        "colab": {
          "base_uri": "https://localhost:8080/"
        },
        "id": "xFOicu9pCM7s",
        "outputId": "48f1c758-bbd6-40d4-d8e2-caf7c332be9a"
      },
      "source": [
        "leaderboard.shape"
      ],
      "execution_count": null,
      "outputs": [
        {
          "output_type": "execute_result",
          "data": {
            "text/plain": [
              "(422, 32)"
            ]
          },
          "metadata": {
            "tags": []
          },
          "execution_count": 51
        }
      ]
    },
    {
      "cell_type": "code",
      "metadata": {
        "colab": {
          "base_uri": "https://localhost:8080/",
          "height": 266
        },
        "id": "STBeWduaCM7s",
        "outputId": "3ad4ff69-3e32-4527-ac4d-1a4b1a8a80c4"
      },
      "source": [
        "leaderboard.head()"
      ],
      "execution_count": null,
      "outputs": [
        {
          "output_type": "execute_result",
          "data": {
            "text/html": [
              "<div>\n",
              "<style scoped>\n",
              "    .dataframe tbody tr th:only-of-type {\n",
              "        vertical-align: middle;\n",
              "    }\n",
              "\n",
              "    .dataframe tbody tr th {\n",
              "        vertical-align: top;\n",
              "    }\n",
              "\n",
              "    .dataframe thead th {\n",
              "        text-align: right;\n",
              "    }\n",
              "</style>\n",
              "<table border=\"1\" class=\"dataframe\">\n",
              "  <thead>\n",
              "    <tr style=\"text-align: right;\">\n",
              "      <th></th>\n",
              "      <th>Account</th>\n",
              "      <th>Codename</th>\n",
              "      <th>URL</th>\n",
              "      <th>Total Interactions</th>\n",
              "      <th>Likes</th>\n",
              "      <th>Comments</th>\n",
              "      <th>Views</th>\n",
              "      <th>All Interaction Rate</th>\n",
              "      <th>Albums</th>\n",
              "      <th>Photos</th>\n",
              "      <th>...</th>\n",
              "      <th>Album Comments</th>\n",
              "      <th>Photo Comments</th>\n",
              "      <th>Video Comments</th>\n",
              "      <th>IGTV Comments</th>\n",
              "      <th>Album Video Views</th>\n",
              "      <th>Video Video Views</th>\n",
              "      <th>IGTV Video Views</th>\n",
              "      <th>Followers</th>\n",
              "      <th>Follower Growth</th>\n",
              "      <th>Follower Growth %</th>\n",
              "    </tr>\n",
              "  </thead>\n",
              "  <tbody>\n",
              "    <tr>\n",
              "      <th>0</th>\n",
              "      <td>Disney</td>\n",
              "      <td>disney</td>\n",
              "      <td>https://www.instagram.com/disney/</td>\n",
              "      <td>205,387,804</td>\n",
              "      <td>204,377,116</td>\n",
              "      <td>1,010,688</td>\n",
              "      <td>234,110,605</td>\n",
              "      <td>0.69%</td>\n",
              "      <td>1.05%</td>\n",
              "      <td>1.02%</td>\n",
              "      <td>...</td>\n",
              "      <td>121,075</td>\n",
              "      <td>537,751</td>\n",
              "      <td>242,080</td>\n",
              "      <td>109,782</td>\n",
              "      <td>9,673,381</td>\n",
              "      <td>128,031,228</td>\n",
              "      <td>96,405,996</td>\n",
              "      <td>29,132,077</td>\n",
              "      <td>6,757,337</td>\n",
              "      <td>30.2%</td>\n",
              "    </tr>\n",
              "    <tr>\n",
              "      <th>1</th>\n",
              "      <td>apple</td>\n",
              "      <td>apple</td>\n",
              "      <td>https://www.instagram.com/apple/</td>\n",
              "      <td>47,927,910</td>\n",
              "      <td>47,620,270</td>\n",
              "      <td>307,640</td>\n",
              "      <td>44,416,024</td>\n",
              "      <td>1.19%</td>\n",
              "      <td>1.19%</td>\n",
              "      <td>1.38%</td>\n",
              "      <td>...</td>\n",
              "      <td>158,821</td>\n",
              "      <td>52,404</td>\n",
              "      <td>27,392</td>\n",
              "      <td>69,023</td>\n",
              "      <td>14,107,341</td>\n",
              "      <td>15,510,082</td>\n",
              "      <td>14,798,601</td>\n",
              "      <td>25,278,639</td>\n",
              "      <td>4,121,248</td>\n",
              "      <td>19.48%</td>\n",
              "    </tr>\n",
              "    <tr>\n",
              "      <th>2</th>\n",
              "      <td>Starbucks Coffee ☕</td>\n",
              "      <td>starbucks</td>\n",
              "      <td>https://www.instagram.com/starbucks/</td>\n",
              "      <td>26,980,816</td>\n",
              "      <td>26,614,593</td>\n",
              "      <td>366,223</td>\n",
              "      <td>17,294,301</td>\n",
              "      <td>0.62%</td>\n",
              "      <td>0.63%</td>\n",
              "      <td>0.67%</td>\n",
              "      <td>...</td>\n",
              "      <td>34,923</td>\n",
              "      <td>283,426</td>\n",
              "      <td>47,874</td>\n",
              "      <td>0</td>\n",
              "      <td>641,127</td>\n",
              "      <td>16,653,174</td>\n",
              "      <td>0</td>\n",
              "      <td>18,072,087</td>\n",
              "      <td>-397,128</td>\n",
              "      <td>-2.15%</td>\n",
              "    </tr>\n",
              "    <tr>\n",
              "      <th>3</th>\n",
              "      <td>Monster Energy</td>\n",
              "      <td>monsterenergy</td>\n",
              "      <td>https://www.instagram.com/monsterenergy/</td>\n",
              "      <td>23,947,962</td>\n",
              "      <td>23,840,694</td>\n",
              "      <td>107,268</td>\n",
              "      <td>111,976,146</td>\n",
              "      <td>0.43%</td>\n",
              "      <td>0.58%</td>\n",
              "      <td>0.8%</td>\n",
              "      <td>...</td>\n",
              "      <td>18,631</td>\n",
              "      <td>28,924</td>\n",
              "      <td>54,477</td>\n",
              "      <td>5,236</td>\n",
              "      <td>11,907,998</td>\n",
              "      <td>92,295,543</td>\n",
              "      <td>7,772,605</td>\n",
              "      <td>7,389,883</td>\n",
              "      <td>1,060,279</td>\n",
              "      <td>16.75%</td>\n",
              "    </tr>\n",
              "    <tr>\n",
              "      <th>4</th>\n",
              "      <td>Nike</td>\n",
              "      <td>nike</td>\n",
              "      <td>https://www.instagram.com/nike/</td>\n",
              "      <td>21,527,364</td>\n",
              "      <td>21,285,473</td>\n",
              "      <td>241,891</td>\n",
              "      <td>74,921,239</td>\n",
              "      <td>0.51%</td>\n",
              "      <td>0.33%</td>\n",
              "      <td>0.68%</td>\n",
              "      <td>...</td>\n",
              "      <td>43,713</td>\n",
              "      <td>66,535</td>\n",
              "      <td>121,733</td>\n",
              "      <td>9,910</td>\n",
              "      <td>0</td>\n",
              "      <td>66,130,830</td>\n",
              "      <td>8,790,409</td>\n",
              "      <td>136,112,965</td>\n",
              "      <td>38,318,623</td>\n",
              "      <td>39.18%</td>\n",
              "    </tr>\n",
              "  </tbody>\n",
              "</table>\n",
              "<p>5 rows × 32 columns</p>\n",
              "</div>"
            ],
            "text/plain": [
              "              Account       Codename  \\\n",
              "0              Disney         disney   \n",
              "1               apple          apple   \n",
              "2  Starbucks Coffee ☕      starbucks   \n",
              "3      Monster Energy  monsterenergy   \n",
              "4                Nike           nike   \n",
              "\n",
              "                                        URL Total Interactions        Likes  \\\n",
              "0         https://www.instagram.com/disney/        205,387,804  204,377,116   \n",
              "1          https://www.instagram.com/apple/         47,927,910   47,620,270   \n",
              "2      https://www.instagram.com/starbucks/         26,980,816   26,614,593   \n",
              "3  https://www.instagram.com/monsterenergy/         23,947,962   23,840,694   \n",
              "4           https://www.instagram.com/nike/         21,527,364   21,285,473   \n",
              "\n",
              "    Comments        Views All Interaction Rate Albums Photos  ...  \\\n",
              "0  1,010,688  234,110,605                0.69%  1.05%  1.02%  ...   \n",
              "1    307,640   44,416,024                1.19%  1.19%  1.38%  ...   \n",
              "2    366,223   17,294,301                0.62%  0.63%  0.67%  ...   \n",
              "3    107,268  111,976,146                0.43%  0.58%   0.8%  ...   \n",
              "4    241,891   74,921,239                0.51%  0.33%  0.68%  ...   \n",
              "\n",
              "  Album Comments Photo Comments Video Comments  IGTV Comments  \\\n",
              "0        121,075        537,751        242,080        109,782   \n",
              "1        158,821         52,404         27,392         69,023   \n",
              "2         34,923        283,426         47,874              0   \n",
              "3         18,631         28,924         54,477          5,236   \n",
              "4         43,713         66,535        121,733          9,910   \n",
              "\n",
              "  Album Video Views  Video Video Views  IGTV Video Views    Followers  \\\n",
              "0         9,673,381        128,031,228        96,405,996   29,132,077   \n",
              "1        14,107,341         15,510,082        14,798,601   25,278,639   \n",
              "2           641,127         16,653,174                 0   18,072,087   \n",
              "3        11,907,998         92,295,543         7,772,605    7,389,883   \n",
              "4                 0         66,130,830         8,790,409  136,112,965   \n",
              "\n",
              "  Follower Growth Follower Growth %  \n",
              "0       6,757,337             30.2%  \n",
              "1       4,121,248            19.48%  \n",
              "2        -397,128            -2.15%  \n",
              "3       1,060,279            16.75%  \n",
              "4      38,318,623            39.18%  \n",
              "\n",
              "[5 rows x 32 columns]"
            ]
          },
          "metadata": {
            "tags": []
          },
          "execution_count": 52
        }
      ]
    },
    {
      "cell_type": "code",
      "metadata": {
        "id": "ZEDFp552CM7t"
      },
      "source": [
        "leaderboard_1 = leaderboard.loc[:,['Codename','URL','Total Posts','Followers','Total Interactions','Likes','Comments','Views']]"
      ],
      "execution_count": null,
      "outputs": []
    },
    {
      "cell_type": "code",
      "metadata": {
        "id": "P9CLRZXiGhjz"
      },
      "source": [
        "#leaderboard_1['id'] = leaderboard_1.URL.apply(lambda x: x.split('/')[-1] if (type(x) == str) else x)"
      ],
      "execution_count": null,
      "outputs": []
    },
    {
      "cell_type": "code",
      "metadata": {
        "id": "HYFlMi5ZGhlS"
      },
      "source": [
        "#leaderboard_1[leaderboard_1['id'].isnull()]"
      ],
      "execution_count": null,
      "outputs": []
    },
    {
      "cell_type": "code",
      "metadata": {
        "id": "JFAdVXIwHzlq"
      },
      "source": [
        "#convert the type of id (float)\n",
        "#result['Facebook Id'] = result['Facebook Id'].apply(lambda x: str(x))"
      ],
      "execution_count": null,
      "outputs": []
    },
    {
      "cell_type": "code",
      "metadata": {
        "id": "zCaZPKu_CM7u"
      },
      "source": [
        "result_merge =pd.merge(result, leaderboard_1,left_on = ['User Name'], right_on = ['Codename'],how = 'right' )"
      ],
      "execution_count": null,
      "outputs": []
    },
    {
      "cell_type": "code",
      "metadata": {
        "colab": {
          "base_uri": "https://localhost:8080/",
          "height": 707
        },
        "id": "evBC6Is0CM7u",
        "outputId": "9139e5fb-4d83-4058-e0c7-ad01a59c9883"
      },
      "source": [
        "result_merge"
      ],
      "execution_count": null,
      "outputs": [
        {
          "output_type": "execute_result",
          "data": {
            "text/html": [
              "<div>\n",
              "<style scoped>\n",
              "    .dataframe tbody tr th:only-of-type {\n",
              "        vertical-align: middle;\n",
              "    }\n",
              "\n",
              "    .dataframe tbody tr th {\n",
              "        vertical-align: top;\n",
              "    }\n",
              "\n",
              "    .dataframe thead th {\n",
              "        text-align: right;\n",
              "    }\n",
              "</style>\n",
              "<table border=\"1\" class=\"dataframe\">\n",
              "  <thead>\n",
              "    <tr style=\"text-align: right;\">\n",
              "      <th></th>\n",
              "      <th>User Name</th>\n",
              "      <th>count</th>\n",
              "      <th>Comments_x</th>\n",
              "      <th>Views_x</th>\n",
              "      <th>Likes_x</th>\n",
              "      <th>start_date</th>\n",
              "      <th>end_date</th>\n",
              "      <th>Codename</th>\n",
              "      <th>URL</th>\n",
              "      <th>Total Posts</th>\n",
              "      <th>Followers</th>\n",
              "      <th>Total Interactions</th>\n",
              "      <th>Likes_y</th>\n",
              "      <th>Comments_y</th>\n",
              "      <th>Views_y</th>\n",
              "    </tr>\n",
              "  </thead>\n",
              "  <tbody>\n",
              "    <tr>\n",
              "      <th>0</th>\n",
              "      <td>NaN</td>\n",
              "      <td>NaN</td>\n",
              "      <td>NaN</td>\n",
              "      <td>NaN</td>\n",
              "      <td>NaN</td>\n",
              "      <td>NaT</td>\n",
              "      <td>NaT</td>\n",
              "      <td>disney</td>\n",
              "      <td>https://www.instagram.com/disney/</td>\n",
              "      <td>1,158</td>\n",
              "      <td>29,132,077</td>\n",
              "      <td>205,387,804</td>\n",
              "      <td>204,377,116</td>\n",
              "      <td>1,010,688</td>\n",
              "      <td>234,110,605</td>\n",
              "    </tr>\n",
              "    <tr>\n",
              "      <th>1</th>\n",
              "      <td>apple</td>\n",
              "      <td>2.0</td>\n",
              "      <td>4258.0</td>\n",
              "      <td>0.0</td>\n",
              "      <td>1010454.0</td>\n",
              "      <td>2020-07-26 11:53:58</td>\n",
              "      <td>2020-11-02 11:29:26</td>\n",
              "      <td>apple</td>\n",
              "      <td>https://www.instagram.com/apple/</td>\n",
              "      <td>174</td>\n",
              "      <td>25,278,639</td>\n",
              "      <td>47,927,910</td>\n",
              "      <td>47,620,270</td>\n",
              "      <td>307,640</td>\n",
              "      <td>44,416,024</td>\n",
              "    </tr>\n",
              "    <tr>\n",
              "      <th>2</th>\n",
              "      <td>starbucks</td>\n",
              "      <td>2.0</td>\n",
              "      <td>611.0</td>\n",
              "      <td>0.0</td>\n",
              "      <td>116897.0</td>\n",
              "      <td>2020-11-24 11:00:09</td>\n",
              "      <td>2020-12-15 11:00:50</td>\n",
              "      <td>starbucks</td>\n",
              "      <td>https://www.instagram.com/starbucks/</td>\n",
              "      <td>239</td>\n",
              "      <td>18,072,087</td>\n",
              "      <td>26,980,816</td>\n",
              "      <td>26,614,593</td>\n",
              "      <td>366,223</td>\n",
              "      <td>17,294,301</td>\n",
              "    </tr>\n",
              "    <tr>\n",
              "      <th>3</th>\n",
              "      <td>monsterenergy</td>\n",
              "      <td>2.0</td>\n",
              "      <td>191.0</td>\n",
              "      <td>297751.0</td>\n",
              "      <td>38919.0</td>\n",
              "      <td>2020-04-24 13:57:39</td>\n",
              "      <td>2020-04-25 12:00:28</td>\n",
              "      <td>monsterenergy</td>\n",
              "      <td>https://www.instagram.com/monsterenergy/</td>\n",
              "      <td>820</td>\n",
              "      <td>7,389,883</td>\n",
              "      <td>23,947,962</td>\n",
              "      <td>23,840,694</td>\n",
              "      <td>107,268</td>\n",
              "      <td>111,976,146</td>\n",
              "    </tr>\n",
              "    <tr>\n",
              "      <th>4</th>\n",
              "      <td>NaN</td>\n",
              "      <td>NaN</td>\n",
              "      <td>NaN</td>\n",
              "      <td>NaN</td>\n",
              "      <td>NaN</td>\n",
              "      <td>NaT</td>\n",
              "      <td>NaT</td>\n",
              "      <td>nike</td>\n",
              "      <td>https://www.instagram.com/nike/</td>\n",
              "      <td>36</td>\n",
              "      <td>136,112,965</td>\n",
              "      <td>21,527,364</td>\n",
              "      <td>21,285,473</td>\n",
              "      <td>241,891</td>\n",
              "      <td>74,921,239</td>\n",
              "    </tr>\n",
              "    <tr>\n",
              "      <th>...</th>\n",
              "      <td>...</td>\n",
              "      <td>...</td>\n",
              "      <td>...</td>\n",
              "      <td>...</td>\n",
              "      <td>...</td>\n",
              "      <td>...</td>\n",
              "      <td>...</td>\n",
              "      <td>...</td>\n",
              "      <td>...</td>\n",
              "      <td>...</td>\n",
              "      <td>...</td>\n",
              "      <td>...</td>\n",
              "      <td>...</td>\n",
              "      <td>...</td>\n",
              "      <td>...</td>\n",
              "    </tr>\n",
              "    <tr>\n",
              "      <th>417</th>\n",
              "      <td>NaN</td>\n",
              "      <td>NaN</td>\n",
              "      <td>NaN</td>\n",
              "      <td>NaN</td>\n",
              "      <td>NaN</td>\n",
              "      <td>NaT</td>\n",
              "      <td>NaT</td>\n",
              "      <td>vfcorp</td>\n",
              "      <td>https://www.instagram.com/vfcorp/</td>\n",
              "      <td>No posts in this timeframe</td>\n",
              "      <td>0</td>\n",
              "      <td>0</td>\n",
              "      <td>0</td>\n",
              "      <td>0</td>\n",
              "      <td>0</td>\n",
              "    </tr>\n",
              "    <tr>\n",
              "      <th>418</th>\n",
              "      <td>NaN</td>\n",
              "      <td>NaN</td>\n",
              "      <td>NaN</td>\n",
              "      <td>NaN</td>\n",
              "      <td>NaN</td>\n",
              "      <td>NaT</td>\n",
              "      <td>NaT</td>\n",
              "      <td>ross.stores</td>\n",
              "      <td>https://www.instagram.com/ross.stores/</td>\n",
              "      <td>No posts in this timeframe</td>\n",
              "      <td>0</td>\n",
              "      <td>0</td>\n",
              "      <td>0</td>\n",
              "      <td>0</td>\n",
              "      <td>0</td>\n",
              "    </tr>\n",
              "    <tr>\n",
              "      <th>419</th>\n",
              "      <td>NaN</td>\n",
              "      <td>NaN</td>\n",
              "      <td>NaN</td>\n",
              "      <td>NaN</td>\n",
              "      <td>NaN</td>\n",
              "      <td>NaT</td>\n",
              "      <td>NaT</td>\n",
              "      <td>realtyincome</td>\n",
              "      <td>https://www.instagram.com/realtyincome/</td>\n",
              "      <td>No posts in this timeframe</td>\n",
              "      <td>0</td>\n",
              "      <td>0</td>\n",
              "      <td>0</td>\n",
              "      <td>0</td>\n",
              "      <td>0</td>\n",
              "    </tr>\n",
              "    <tr>\n",
              "      <th>420</th>\n",
              "      <td>NaN</td>\n",
              "      <td>NaN</td>\n",
              "      <td>NaN</td>\n",
              "      <td>NaN</td>\n",
              "      <td>NaN</td>\n",
              "      <td>NaT</td>\n",
              "      <td>NaT</td>\n",
              "      <td>moodyscorporation</td>\n",
              "      <td>https://www.instagram.com/moodyscorporation/</td>\n",
              "      <td>No posts in this timeframe</td>\n",
              "      <td>0</td>\n",
              "      <td>0</td>\n",
              "      <td>0</td>\n",
              "      <td>0</td>\n",
              "      <td>0</td>\n",
              "    </tr>\n",
              "    <tr>\n",
              "      <th>421</th>\n",
              "      <td>NaN</td>\n",
              "      <td>NaN</td>\n",
              "      <td>NaN</td>\n",
              "      <td>NaN</td>\n",
              "      <td>NaN</td>\n",
              "      <td>NaT</td>\n",
              "      <td>NaT</td>\n",
              "      <td>NaN</td>\n",
              "      <td>NaN</td>\n",
              "      <td>126.3</td>\n",
              "      <td>780,355.17</td>\n",
              "      <td>1,090,905.48</td>\n",
              "      <td>1,078,312.19</td>\n",
              "      <td>12,593.29</td>\n",
              "      <td>1,753,337.8</td>\n",
              "    </tr>\n",
              "  </tbody>\n",
              "</table>\n",
              "<p>422 rows × 15 columns</p>\n",
              "</div>"
            ],
            "text/plain": [
              "         User Name  count  Comments_x   Views_x    Likes_x  \\\n",
              "0              NaN    NaN         NaN       NaN        NaN   \n",
              "1            apple    2.0      4258.0       0.0  1010454.0   \n",
              "2        starbucks    2.0       611.0       0.0   116897.0   \n",
              "3    monsterenergy    2.0       191.0  297751.0    38919.0   \n",
              "4              NaN    NaN         NaN       NaN        NaN   \n",
              "..             ...    ...         ...       ...        ...   \n",
              "417            NaN    NaN         NaN       NaN        NaN   \n",
              "418            NaN    NaN         NaN       NaN        NaN   \n",
              "419            NaN    NaN         NaN       NaN        NaN   \n",
              "420            NaN    NaN         NaN       NaN        NaN   \n",
              "421            NaN    NaN         NaN       NaN        NaN   \n",
              "\n",
              "             start_date            end_date           Codename  \\\n",
              "0                   NaT                 NaT             disney   \n",
              "1   2020-07-26 11:53:58 2020-11-02 11:29:26              apple   \n",
              "2   2020-11-24 11:00:09 2020-12-15 11:00:50          starbucks   \n",
              "3   2020-04-24 13:57:39 2020-04-25 12:00:28      monsterenergy   \n",
              "4                   NaT                 NaT               nike   \n",
              "..                  ...                 ...                ...   \n",
              "417                 NaT                 NaT             vfcorp   \n",
              "418                 NaT                 NaT        ross.stores   \n",
              "419                 NaT                 NaT       realtyincome   \n",
              "420                 NaT                 NaT  moodyscorporation   \n",
              "421                 NaT                 NaT                NaN   \n",
              "\n",
              "                                              URL                 Total Posts  \\\n",
              "0               https://www.instagram.com/disney/                       1,158   \n",
              "1                https://www.instagram.com/apple/                         174   \n",
              "2            https://www.instagram.com/starbucks/                         239   \n",
              "3        https://www.instagram.com/monsterenergy/                         820   \n",
              "4                 https://www.instagram.com/nike/                          36   \n",
              "..                                            ...                         ...   \n",
              "417             https://www.instagram.com/vfcorp/  No posts in this timeframe   \n",
              "418        https://www.instagram.com/ross.stores/  No posts in this timeframe   \n",
              "419       https://www.instagram.com/realtyincome/  No posts in this timeframe   \n",
              "420  https://www.instagram.com/moodyscorporation/  No posts in this timeframe   \n",
              "421                                           NaN                       126.3   \n",
              "\n",
              "       Followers Total Interactions       Likes_y Comments_y      Views_y  \n",
              "0     29,132,077        205,387,804   204,377,116  1,010,688  234,110,605  \n",
              "1     25,278,639         47,927,910    47,620,270    307,640   44,416,024  \n",
              "2     18,072,087         26,980,816    26,614,593    366,223   17,294,301  \n",
              "3      7,389,883         23,947,962    23,840,694    107,268  111,976,146  \n",
              "4    136,112,965         21,527,364    21,285,473    241,891   74,921,239  \n",
              "..           ...                ...           ...        ...          ...  \n",
              "417            0                  0             0          0            0  \n",
              "418            0                  0             0          0            0  \n",
              "419            0                  0             0          0            0  \n",
              "420            0                  0             0          0            0  \n",
              "421   780,355.17       1,090,905.48  1,078,312.19  12,593.29  1,753,337.8  \n",
              "\n",
              "[422 rows x 15 columns]"
            ]
          },
          "metadata": {
            "tags": []
          },
          "execution_count": 59
        }
      ]
    },
    {
      "cell_type": "code",
      "metadata": {
        "id": "J2zevxmsCM7v"
      },
      "source": [
        "result_merge.to_excel('ins_summary_posts_2020-01-01--2021-02-28.xlsx',index = False)"
      ],
      "execution_count": null,
      "outputs": []
    },
    {
      "cell_type": "code",
      "metadata": {
        "id": "Y2QETTEeCM7v"
      },
      "source": [
        ""
      ],
      "execution_count": null,
      "outputs": []
    }
  ]
}