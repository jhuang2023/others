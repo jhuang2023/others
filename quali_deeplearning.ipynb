{
  "nbformat": 4,
  "nbformat_minor": 5,
  "metadata": {
    "kernelspec": {
      "display_name": "Python 3",
      "language": "python",
      "name": "python3"
    },
    "language_info": {
      "codemirror_mode": {
        "name": "ipython",
        "version": 3
      },
      "file_extension": ".py",
      "mimetype": "text/x-python",
      "name": "python",
      "nbconvert_exporter": "python",
      "pygments_lexer": "ipython3",
      "version": "3.8.8"
    },
    "colab": {
      "name": "quali_deeplearning.ipynb",
      "provenance": [],
      "include_colab_link": true
    }
  },
  "cells": [
    {
      "cell_type": "markdown",
      "metadata": {
        "id": "view-in-github",
        "colab_type": "text"
      },
      "source": [
        "<a href=\"https://colab.research.google.com/github/pepperamy/others/blob/main/quali_deeplearning.ipynb\" target=\"_parent\"><img src=\"https://colab.research.google.com/assets/colab-badge.svg\" alt=\"Open In Colab\"/></a>"
      ]
    },
    {
      "cell_type": "code",
      "metadata": {
        "id": "generous-assurance"
      },
      "source": [
        "import pandas as pd\n",
        "import numpy as np\n",
        "import matplotlib.pyplot as plt\n",
        "import re\n",
        "\n",
        "import collections\n",
        "from gensim.models import Word2Vec"
      ],
      "id": "generous-assurance",
      "execution_count": null,
      "outputs": []
    },
    {
      "cell_type": "code",
      "metadata": {
        "id": "royal-panama"
      },
      "source": [
        "from keras.preprocessing.text import Tokenizer, text_to_word_sequence\n",
        "#import keras "
      ],
      "id": "royal-panama",
      "execution_count": null,
      "outputs": []
    },
    {
      "cell_type": "code",
      "metadata": {
        "id": "respected-bulletin"
      },
      "source": [
        "df = pd.read_csv('Womens Clothing E-Commerce Reviews.csv',index_col=False)"
      ],
      "id": "respected-bulletin",
      "execution_count": null,
      "outputs": []
    },
    {
      "cell_type": "code",
      "metadata": {
        "colab": {
          "base_uri": "https://localhost:8080/",
          "height": 244
        },
        "id": "twenty-electronics",
        "outputId": "2dfc5ad7-9db1-434c-e844-255273421665"
      },
      "source": [
        "df.head()"
      ],
      "id": "twenty-electronics",
      "execution_count": null,
      "outputs": [
        {
          "output_type": "execute_result",
          "data": {
            "text/html": [
              "<div>\n",
              "<style scoped>\n",
              "    .dataframe tbody tr th:only-of-type {\n",
              "        vertical-align: middle;\n",
              "    }\n",
              "\n",
              "    .dataframe tbody tr th {\n",
              "        vertical-align: top;\n",
              "    }\n",
              "\n",
              "    .dataframe thead th {\n",
              "        text-align: right;\n",
              "    }\n",
              "</style>\n",
              "<table border=\"1\" class=\"dataframe\">\n",
              "  <thead>\n",
              "    <tr style=\"text-align: right;\">\n",
              "      <th></th>\n",
              "      <th>Clothing ID</th>\n",
              "      <th>Age</th>\n",
              "      <th>Title</th>\n",
              "      <th>Review Text</th>\n",
              "      <th>Rating</th>\n",
              "      <th>Recommended IND</th>\n",
              "      <th>Positive Feedback Count</th>\n",
              "      <th>Division Name</th>\n",
              "      <th>Department Name</th>\n",
              "      <th>Class Name</th>\n",
              "    </tr>\n",
              "  </thead>\n",
              "  <tbody>\n",
              "    <tr>\n",
              "      <th>0</th>\n",
              "      <td>767</td>\n",
              "      <td>33</td>\n",
              "      <td>NaN</td>\n",
              "      <td>Absolutely wonderful - silky and sexy and comf...</td>\n",
              "      <td>4</td>\n",
              "      <td>1</td>\n",
              "      <td>0</td>\n",
              "      <td>Initmates</td>\n",
              "      <td>Intimate</td>\n",
              "      <td>Intimates</td>\n",
              "    </tr>\n",
              "    <tr>\n",
              "      <th>1</th>\n",
              "      <td>1080</td>\n",
              "      <td>34</td>\n",
              "      <td>NaN</td>\n",
              "      <td>Love this dress!  it's sooo pretty.  i happene...</td>\n",
              "      <td>5</td>\n",
              "      <td>1</td>\n",
              "      <td>4</td>\n",
              "      <td>General</td>\n",
              "      <td>Dresses</td>\n",
              "      <td>Dresses</td>\n",
              "    </tr>\n",
              "    <tr>\n",
              "      <th>2</th>\n",
              "      <td>1077</td>\n",
              "      <td>60</td>\n",
              "      <td>Some major design flaws</td>\n",
              "      <td>I had such high hopes for this dress and reall...</td>\n",
              "      <td>3</td>\n",
              "      <td>0</td>\n",
              "      <td>0</td>\n",
              "      <td>General</td>\n",
              "      <td>Dresses</td>\n",
              "      <td>Dresses</td>\n",
              "    </tr>\n",
              "    <tr>\n",
              "      <th>3</th>\n",
              "      <td>1049</td>\n",
              "      <td>50</td>\n",
              "      <td>My favorite buy!</td>\n",
              "      <td>I love, love, love this jumpsuit. it's fun, fl...</td>\n",
              "      <td>5</td>\n",
              "      <td>1</td>\n",
              "      <td>0</td>\n",
              "      <td>General Petite</td>\n",
              "      <td>Bottoms</td>\n",
              "      <td>Pants</td>\n",
              "    </tr>\n",
              "    <tr>\n",
              "      <th>4</th>\n",
              "      <td>847</td>\n",
              "      <td>47</td>\n",
              "      <td>Flattering shirt</td>\n",
              "      <td>This shirt is very flattering to all due to th...</td>\n",
              "      <td>5</td>\n",
              "      <td>1</td>\n",
              "      <td>6</td>\n",
              "      <td>General</td>\n",
              "      <td>Tops</td>\n",
              "      <td>Blouses</td>\n",
              "    </tr>\n",
              "  </tbody>\n",
              "</table>\n",
              "</div>"
            ],
            "text/plain": [
              "   Clothing ID  Age  ... Department Name Class Name\n",
              "0          767   33  ...        Intimate  Intimates\n",
              "1         1080   34  ...         Dresses    Dresses\n",
              "2         1077   60  ...         Dresses    Dresses\n",
              "3         1049   50  ...         Bottoms      Pants\n",
              "4          847   47  ...            Tops    Blouses\n",
              "\n",
              "[5 rows x 10 columns]"
            ]
          },
          "metadata": {
            "tags": []
          },
          "execution_count": 4
        }
      ]
    },
    {
      "cell_type": "code",
      "metadata": {
        "colab": {
          "base_uri": "https://localhost:8080/"
        },
        "id": "electric-arrangement",
        "outputId": "85de6faf-d7c2-49d7-e0e1-9ce86d9c15dc"
      },
      "source": [
        "df.shape"
      ],
      "id": "electric-arrangement",
      "execution_count": null,
      "outputs": [
        {
          "output_type": "execute_result",
          "data": {
            "text/plain": [
              "(23486, 10)"
            ]
          },
          "metadata": {
            "tags": []
          },
          "execution_count": 5
        }
      ]
    },
    {
      "cell_type": "code",
      "metadata": {
        "colab": {
          "base_uri": "https://localhost:8080/"
        },
        "id": "floppy-table",
        "outputId": "b1a11ddd-4b5b-4fff-ad72-a4622ce0d50f"
      },
      "source": [
        "df[(df['Review Text'].isnull()) & (df['Title'].isnull())].shape"
      ],
      "id": "floppy-table",
      "execution_count": null,
      "outputs": [
        {
          "output_type": "execute_result",
          "data": {
            "text/plain": [
              "(844, 10)"
            ]
          },
          "metadata": {
            "tags": []
          },
          "execution_count": 6
        }
      ]
    },
    {
      "cell_type": "code",
      "metadata": {
        "id": "judicial-brunei"
      },
      "source": [
        "df = df.dropna(subset= ['Review Text','Title'])"
      ],
      "id": "judicial-brunei",
      "execution_count": null,
      "outputs": []
    },
    {
      "cell_type": "code",
      "metadata": {
        "colab": {
          "base_uri": "https://localhost:8080/"
        },
        "id": "automatic-insulation",
        "outputId": "1f5d6422-cde3-4e26-c25d-b2fb373eca64"
      },
      "source": [
        "df.shape"
      ],
      "id": "automatic-insulation",
      "execution_count": null,
      "outputs": [
        {
          "output_type": "execute_result",
          "data": {
            "text/plain": [
              "(19675, 10)"
            ]
          },
          "metadata": {
            "tags": []
          },
          "execution_count": 10
        }
      ]
    },
    {
      "cell_type": "code",
      "metadata": {
        "id": "indirect-nebraska"
      },
      "source": [
        ""
      ],
      "id": "indirect-nebraska",
      "execution_count": null,
      "outputs": []
    },
    {
      "cell_type": "markdown",
      "metadata": {
        "id": "BgoBWEgOg0uh"
      },
      "source": [
        "\n",
        "\n",
        "```\n",
        "# This is formatted as code\n",
        "```\n",
        "\n",
        "# EDA\n"
      ],
      "id": "BgoBWEgOg0uh"
    },
    {
      "cell_type": "code",
      "metadata": {
        "colab": {
          "base_uri": "https://localhost:8080/"
        },
        "id": "threaded-season",
        "outputId": "debad7d5-0b54-436a-efbc-5d6677b6b02a"
      },
      "source": [
        "df.groupby(['Division Name', 'Department Name', 'Class Name']).size()"
      ],
      "id": "threaded-season",
      "execution_count": null,
      "outputs": [
        {
          "output_type": "execute_result",
          "data": {
            "text/plain": [
              "Division Name   Department Name  Class Name    \n",
              "General         Bottoms          Casual bottoms       1\n",
              "                                 Jeans              659\n",
              "                                 Pants              698\n",
              "                                 Shorts             260\n",
              "                                 Skirts             503\n",
              "                Dresses          Dresses           3165\n",
              "                Jackets          Jackets            333\n",
              "                                 Outerwear          214\n",
              "                Tops             Blouses           1683\n",
              "                                 Fine gauge         579\n",
              "                                 Knits             2708\n",
              "                                 Sweaters           773\n",
              "                Trend            Trend               88\n",
              "General Petite  Bottoms          Jeans              311\n",
              "                                 Pants              459\n",
              "                                 Skirts             293\n",
              "                Dresses          Dresses           2206\n",
              "                Intimate         Lounge             188\n",
              "                Jackets          Jackets            265\n",
              "                                 Outerwear           67\n",
              "                Tops             Blouses            904\n",
              "                                 Fine gauge         348\n",
              "                                 Knits             1273\n",
              "                                 Sweaters           445\n",
              "                Trend            Trend               19\n",
              "Initmates       Intimate         Chemises             1\n",
              "                                 Intimates          120\n",
              "                                 Layering           115\n",
              "                                 Legwear            131\n",
              "                                 Lounge             386\n",
              "                                 Sleep              174\n",
              "                                 Swim               293\n",
              "dtype: int64"
            ]
          },
          "metadata": {
            "tags": []
          },
          "execution_count": 9
        }
      ]
    },
    {
      "cell_type": "code",
      "metadata": {
        "colab": {
          "base_uri": "https://localhost:8080/",
          "height": 509
        },
        "id": "enclosed-america",
        "outputId": "3f383434-688e-46ce-a4e3-c6d1424edf6e"
      },
      "source": [
        "df['Positive Feedback Count'].value_counts().sort_index().plot(kind='bar',figsize=(20,8))"
      ],
      "id": "enclosed-america",
      "execution_count": null,
      "outputs": [
        {
          "output_type": "execute_result",
          "data": {
            "text/plain": [
              "<matplotlib.axes._subplots.AxesSubplot at 0x7f2c07f53790>"
            ]
          },
          "metadata": {
            "tags": []
          },
          "execution_count": 10
        },
        {
          "output_type": "display_data",
          "data": {
            "image/png": "[encoded data removed]",
            "text/plain": [
              "<Figure size 1440x576 with 1 Axes>"
            ]
          },
          "metadata": {
            "tags": [],
            "needs_background": "light"
          }
        }
      ]
    },
    {
      "cell_type": "code",
      "metadata": {
        "colab": {
          "base_uri": "https://localhost:8080/",
          "height": 398
        },
        "id": "adopted-saudi",
        "outputId": "8e9815ec-4a6e-45ab-ef03-eb677e3ed021"
      },
      "source": [
        "df['Division Name'].value_counts().sort_index().plot(kind='bar',figsize=(10,5))"
      ],
      "id": "adopted-saudi",
      "execution_count": null,
      "outputs": [
        {
          "output_type": "execute_result",
          "data": {
            "text/plain": [
              "<matplotlib.axes._subplots.AxesSubplot at 0x7f2c07c66d50>"
            ]
          },
          "metadata": {
            "tags": []
          },
          "execution_count": 11
        },
        {
          "output_type": "display_data",
          "data": {
            "image/png": "[encoded data removed]",
            "text/plain": [
              "<Figure size 720x360 with 1 Axes>"
            ]
          },
          "metadata": {
            "tags": [],
            "needs_background": "light"
          }
        }
      ]
    },
    {
      "cell_type": "code",
      "metadata": {
        "colab": {
          "base_uri": "https://localhost:8080/",
          "height": 368
        },
        "id": "established-reply",
        "outputId": "4ba59e42-42e7-4c62-9fe0-7499d714f990"
      },
      "source": [
        "df['Department Name'].value_counts().sort_index().plot(kind='bar',figsize=(10,5))"
      ],
      "id": "established-reply",
      "execution_count": null,
      "outputs": [
        {
          "output_type": "execute_result",
          "data": {
            "text/plain": [
              "<matplotlib.axes._subplots.AxesSubplot at 0x7f2c077c3ad0>"
            ]
          },
          "metadata": {
            "tags": []
          },
          "execution_count": 12
        },
        {
          "output_type": "display_data",
          "data": {
            "image/png": "[encoded data removed]",
            "text/plain": [
              "<Figure size 720x360 with 1 Axes>"
            ]
          },
          "metadata": {
            "tags": [],
            "needs_background": "light"
          }
        }
      ]
    },
    {
      "cell_type": "code",
      "metadata": {
        "colab": {
          "base_uri": "https://localhost:8080/",
          "height": 404
        },
        "id": "descending-honey",
        "outputId": "7fbaf350-80ca-44bf-8f11-bc60601bc2bd"
      },
      "source": [
        "df['Class Name'].value_counts().sort_index().plot(kind='bar',figsize=(10,5))"
      ],
      "id": "descending-honey",
      "execution_count": null,
      "outputs": [
        {
          "output_type": "execute_result",
          "data": {
            "text/plain": [
              "<matplotlib.axes._subplots.AxesSubplot at 0x7f2c0772dc90>"
            ]
          },
          "metadata": {
            "tags": []
          },
          "execution_count": 13
        },
        {
          "output_type": "display_data",
          "data": {
            "image/png": "[encoded data removed]",
            "text/plain": [
              "<Figure size 720x360 with 1 Axes>"
            ]
          },
          "metadata": {
            "tags": [],
            "needs_background": "light"
          }
        }
      ]
    },
    {
      "cell_type": "code",
      "metadata": {
        "colab": {
          "base_uri": "https://localhost:8080/",
          "height": 503
        },
        "id": "relevant-address",
        "outputId": "4c460642-7dc2-48cc-ec21-1abb7535151d"
      },
      "source": [
        "df['Age'].value_counts().sort_index().plot(kind='bar',figsize=(20,8))"
      ],
      "id": "relevant-address",
      "execution_count": null,
      "outputs": [
        {
          "output_type": "execute_result",
          "data": {
            "text/plain": [
              "<matplotlib.axes._subplots.AxesSubplot at 0x7f2c07676050>"
            ]
          },
          "metadata": {
            "tags": []
          },
          "execution_count": 14
        },
        {
          "output_type": "display_data",
          "data": {
            "image/png": "[encoded data removed]",
            "text/plain": [
              "<Figure size 1440x576 with 1 Axes>"
            ]
          },
          "metadata": {
            "tags": [],
            "needs_background": "light"
          }
        }
      ]
    },
    {
      "cell_type": "code",
      "metadata": {
        "colab": {
          "base_uri": "https://localhost:8080/",
          "height": 333
        },
        "id": "sunrise-assist",
        "outputId": "fab5bb90-1e75-4ba0-a032-a4f8648b8d92"
      },
      "source": [
        "df['Rating'].value_counts().sort_index().plot(kind='bar',figsize=(10,5))"
      ],
      "id": "sunrise-assist",
      "execution_count": null,
      "outputs": [
        {
          "output_type": "execute_result",
          "data": {
            "text/plain": [
              "<matplotlib.axes._subplots.AxesSubplot at 0x7f2c07509f10>"
            ]
          },
          "metadata": {
            "tags": []
          },
          "execution_count": 15
        },
        {
          "output_type": "display_data",
          "data": {
            "image/png": "[encoded data removed]",
            "text/plain": [
              "<Figure size 720x360 with 1 Axes>"
            ]
          },
          "metadata": {
            "tags": [],
            "needs_background": "light"
          }
        }
      ]
    },
    {
      "cell_type": "code",
      "metadata": {
        "colab": {
          "base_uri": "https://localhost:8080/",
          "height": 333
        },
        "id": "christian-belgium",
        "outputId": "5e31354d-d221-47ae-b21a-60f6057a3476"
      },
      "source": [
        "df['Recommended IND'].value_counts().sort_index().plot(kind='bar',figsize=(10,5))"
      ],
      "id": "christian-belgium",
      "execution_count": null,
      "outputs": [
        {
          "output_type": "execute_result",
          "data": {
            "text/plain": [
              "<matplotlib.axes._subplots.AxesSubplot at 0x7f2c0748c210>"
            ]
          },
          "metadata": {
            "tags": []
          },
          "execution_count": 16
        },
        {
          "output_type": "display_data",
          "data": {
            "image/png": "[encoded data removed]",
            "text/plain": [
              "<Figure size 720x360 with 1 Axes>"
            ]
          },
          "metadata": {
            "tags": [],
            "needs_background": "light"
          }
        }
      ]
    },
    {
      "cell_type": "code",
      "metadata": {
        "id": "csCxVDS-g4_V"
      },
      "source": [
        ""
      ],
      "id": "csCxVDS-g4_V",
      "execution_count": null,
      "outputs": []
    },
    {
      "cell_type": "markdown",
      "metadata": {
        "id": "OBOih8Pmg5xR"
      },
      "source": [
        "# text process"
      ],
      "id": "OBOih8Pmg5xR"
    },
    {
      "cell_type": "code",
      "metadata": {
        "id": "G6_uwjU1XWYn"
      },
      "source": [
        "from textblob import TextBlob\n",
        "import string"
      ],
      "id": "G6_uwjU1XWYn",
      "execution_count": null,
      "outputs": []
    },
    {
      "cell_type": "code",
      "metadata": {
        "id": "psychological-director"
      },
      "source": [
        "def process_text(x):\n",
        "    text = x.lower()\n",
        "    text = re.sub(r'\\W+', ' ', text)\n",
        "    b = TextBlob(text)\n",
        "    res_cor = b.correct()\n",
        "    #res = res.split(' ')\n",
        "    tokens  = res_cor.split(' ')\n",
        "    return res_cor, len(tokens)"
      ],
      "id": "psychological-director",
      "execution_count": null,
      "outputs": []
    },
    {
      "cell_type": "code",
      "metadata": {
        "colab": {
          "base_uri": "https://localhost:8080/",
          "height": 35
        },
        "id": "5x04NHm_v88y",
        "outputId": "f247029e-6cf1-4218-d7ca-8eeee7844dd5"
      },
      "source": [
        "df['Review Text'][3]"
      ],
      "id": "5x04NHm_v88y",
      "execution_count": null,
      "outputs": [
        {
          "output_type": "execute_result",
          "data": {
            "application/vnd.google.colaboratory.intrinsic+json": {
              "type": "string"
            },
            "text/plain": [
              "\"I love, love, love this jumpsuit. it's fun, flirty, and fabulous! every time i wear it, i get nothing but great compliments!\""
            ]
          },
          "metadata": {
            "tags": []
          },
          "execution_count": 85
        }
      ]
    },
    {
      "cell_type": "code",
      "metadata": {
        "colab": {
          "base_uri": "https://localhost:8080/",
          "height": 35
        },
        "id": "sOZB1SMZJc7d",
        "outputId": "f7c68da7-a7fe-433f-c071-70c47f323bf6"
      },
      "source": [
        "re.sub(r'\\W+', ' ', df['Review Text'][3])\n"
      ],
      "id": "sOZB1SMZJc7d",
      "execution_count": null,
      "outputs": [
        {
          "output_type": "execute_result",
          "data": {
            "application/vnd.google.colaboratory.intrinsic+json": {
              "type": "string"
            },
            "text/plain": [
              "'I love love love this jumpsuit it s fun flirty and fabulous every time i wear it i get nothing but great compliments '"
            ]
          },
          "metadata": {
            "tags": []
          },
          "execution_count": 86
        }
      ]
    },
    {
      "cell_type": "code",
      "metadata": {
        "colab": {
          "base_uri": "https://localhost:8080/"
        },
        "id": "h2V_Aff1v7Qh",
        "outputId": "b9188bc6-af9c-4ff3-9090-b346a3923f9b"
      },
      "source": [
        "%%time\n",
        "process_text(df['Review Text'][3])[0]"
      ],
      "id": "h2V_Aff1v7Qh",
      "execution_count": null,
      "outputs": [
        {
          "output_type": "stream",
          "text": [
            "CPU times: user 284 ms, sys: 1e+03 ns, total: 284 ms\n",
            "Wall time: 288 ms\n"
          ],
          "name": "stdout"
        },
        {
          "output_type": "execute_result",
          "data": {
            "text/plain": [
              "TextBlob(\"i love love love this jumpsuit it s fun flirt and fabulous every time i wear it i get nothing but great compliments \")"
            ]
          },
          "metadata": {
            "tags": []
          },
          "execution_count": 89
        }
      ]
    },
    {
      "cell_type": "code",
      "metadata": {
        "colab": {
          "base_uri": "https://localhost:8080/"
        },
        "id": "GaZ5I7t2fqcd",
        "outputId": "f527304e-4d13-4bc8-aca5-a00e845ba8ff"
      },
      "source": [
        "%%time\n",
        "df['text_count'] = None\n",
        "df['text'] = None\n",
        "for idx in df.index:\n",
        "  if idx % 1000 == 0:\n",
        "    print(idx)\n",
        "  if df['Title'][idx] != None:\n",
        "    text_all = df['Title'][idx] +' ' + df['Review Text'][idx]\n",
        "    temp_res = process_text(text_all)\n",
        "    df['text'][idx] = str(temp_res[0])\n",
        "    df['text_count'][idx] = temp_res[1]\n",
        "  else:\n",
        "    text_all = df['Review Text'][idx]\n",
        "    temp_res = process_text(text_all)\n",
        "    df['text'][idx] = str(temp_res[0])\n",
        "    df['text_count'][idx] = temp_res[1]\n"
      ],
      "id": "GaZ5I7t2fqcd",
      "execution_count": null,
      "outputs": [
        {
          "output_type": "stream",
          "text": [
            "/usr/local/lib/python3.7/dist-packages/ipykernel_launcher.py:9: SettingWithCopyWarning: \n",
            "A value is trying to be set on a copy of a slice from a DataFrame\n",
            "\n",
            "See the caveats in the documentation: https://pandas.pydata.org/pandas-docs/stable/user_guide/indexing.html#returning-a-view-versus-a-copy\n",
            "  if __name__ == '__main__':\n",
            "/usr/local/lib/python3.7/dist-packages/ipykernel_launcher.py:10: SettingWithCopyWarning: \n",
            "A value is trying to be set on a copy of a slice from a DataFrame\n",
            "\n",
            "See the caveats in the documentation: https://pandas.pydata.org/pandas-docs/stable/user_guide/indexing.html#returning-a-view-versus-a-copy\n",
            "  # Remove the CWD from sys.path while we load stuff.\n"
          ],
          "name": "stderr"
        },
        {
          "output_type": "stream",
          "text": [
            "1000\n",
            "2000\n",
            "3000\n",
            "4000\n",
            "6000\n",
            "8000\n",
            "9000\n",
            "10000\n",
            "11000\n",
            "14000\n",
            "15000\n",
            "16000\n",
            "17000\n",
            "18000\n",
            "19000\n",
            "20000\n",
            "21000\n",
            "22000\n",
            "23000\n",
            "CPU times: user 1h 26min 43s, sys: 10.5 s, total: 1h 26min 54s\n",
            "Wall time: 1h 27min 1s\n"
          ],
          "name": "stdout"
        }
      ]
    },
    {
      "cell_type": "code",
      "metadata": {
        "colab": {
          "base_uri": "https://localhost:8080/",
          "height": 295
        },
        "id": "m4QcxV9Zhaxw",
        "outputId": "adcb31f2-a77d-4330-e97b-a2f76f509173"
      },
      "source": [
        "df.head()"
      ],
      "id": "m4QcxV9Zhaxw",
      "execution_count": null,
      "outputs": [
        {
          "output_type": "execute_result",
          "data": {
            "text/html": [
              "<div>\n",
              "<style scoped>\n",
              "    .dataframe tbody tr th:only-of-type {\n",
              "        vertical-align: middle;\n",
              "    }\n",
              "\n",
              "    .dataframe tbody tr th {\n",
              "        vertical-align: top;\n",
              "    }\n",
              "\n",
              "    .dataframe thead th {\n",
              "        text-align: right;\n",
              "    }\n",
              "</style>\n",
              "<table border=\"1\" class=\"dataframe\">\n",
              "  <thead>\n",
              "    <tr style=\"text-align: right;\">\n",
              "      <th></th>\n",
              "      <th>Clothing ID</th>\n",
              "      <th>Age</th>\n",
              "      <th>Title</th>\n",
              "      <th>Review Text</th>\n",
              "      <th>Rating</th>\n",
              "      <th>Recommended IND</th>\n",
              "      <th>Positive Feedback Count</th>\n",
              "      <th>Division Name</th>\n",
              "      <th>Department Name</th>\n",
              "      <th>Class Name</th>\n",
              "      <th>text_count</th>\n",
              "      <th>text</th>\n",
              "    </tr>\n",
              "  </thead>\n",
              "  <tbody>\n",
              "    <tr>\n",
              "      <th>2</th>\n",
              "      <td>1077</td>\n",
              "      <td>60</td>\n",
              "      <td>Some major design flaws</td>\n",
              "      <td>I had such high hopes for this dress and reall...</td>\n",
              "      <td>3</td>\n",
              "      <td>0</td>\n",
              "      <td>0</td>\n",
              "      <td>General</td>\n",
              "      <td>Dresses</td>\n",
              "      <td>Dresses</td>\n",
              "      <td>101</td>\n",
              "      <td>some major design flaws i had such high hopes ...</td>\n",
              "    </tr>\n",
              "    <tr>\n",
              "      <th>3</th>\n",
              "      <td>1049</td>\n",
              "      <td>50</td>\n",
              "      <td>My favorite buy!</td>\n",
              "      <td>I love, love, love this jumpsuit. it's fun, fl...</td>\n",
              "      <td>5</td>\n",
              "      <td>1</td>\n",
              "      <td>0</td>\n",
              "      <td>General Petite</td>\n",
              "      <td>Bottoms</td>\n",
              "      <td>Pants</td>\n",
              "      <td>27</td>\n",
              "      <td>my favorite buy i love love love this jumpsuit...</td>\n",
              "    </tr>\n",
              "    <tr>\n",
              "      <th>4</th>\n",
              "      <td>847</td>\n",
              "      <td>47</td>\n",
              "      <td>Flattering shirt</td>\n",
              "      <td>This shirt is very flattering to all due to th...</td>\n",
              "      <td>5</td>\n",
              "      <td>1</td>\n",
              "      <td>6</td>\n",
              "      <td>General</td>\n",
              "      <td>Tops</td>\n",
              "      <td>Blouses</td>\n",
              "      <td>39</td>\n",
              "      <td>flattering shirt this shirt is very flattering...</td>\n",
              "    </tr>\n",
              "    <tr>\n",
              "      <th>5</th>\n",
              "      <td>1080</td>\n",
              "      <td>49</td>\n",
              "      <td>Not for the very petite</td>\n",
              "      <td>I love tracy reese dresses, but this one is no...</td>\n",
              "      <td>2</td>\n",
              "      <td>0</td>\n",
              "      <td>4</td>\n",
              "      <td>General</td>\n",
              "      <td>Dresses</td>\n",
              "      <td>Dresses</td>\n",
              "      <td>104</td>\n",
              "      <td>not for the very petite i love trace geese dre...</td>\n",
              "    </tr>\n",
              "    <tr>\n",
              "      <th>6</th>\n",
              "      <td>858</td>\n",
              "      <td>39</td>\n",
              "      <td>Cagrcoal shimmer fun</td>\n",
              "      <td>I aded this in my basket at hte last mintue to...</td>\n",
              "      <td>5</td>\n",
              "      <td>1</td>\n",
              "      <td>1</td>\n",
              "      <td>General Petite</td>\n",
              "      <td>Tops</td>\n",
              "      <td>Knits</td>\n",
              "      <td>103</td>\n",
              "      <td>charcoal swimmer fun i added this in my basket...</td>\n",
              "    </tr>\n",
              "  </tbody>\n",
              "</table>\n",
              "</div>"
            ],
            "text/plain": [
              "   Clothing ID  ...                                               text\n",
              "2         1077  ...  some major design flaws i had such high hopes ...\n",
              "3         1049  ...  my favorite buy i love love love this jumpsuit...\n",
              "4          847  ...  flattering shirt this shirt is very flattering...\n",
              "5         1080  ...  not for the very petite i love trace geese dre...\n",
              "6          858  ...  charcoal swimmer fun i added this in my basket...\n",
              "\n",
              "[5 rows x 12 columns]"
            ]
          },
          "metadata": {
            "tags": []
          },
          "execution_count": 16
        }
      ]
    },
    {
      "cell_type": "code",
      "metadata": {
        "colab": {
          "base_uri": "https://localhost:8080/"
        },
        "id": "cubic-master",
        "outputId": "8cf2eed0-51c4-4ecd-af99-988f2dd29455"
      },
      "source": [
        "tb = df.text_count.value_counts().to_frame().reset_index().rename(columns={'index':'text_num','text_count':'cnt'})\n",
        "tb['percent']=tb['cnt']/len(df)\n",
        "tb['cumsum_']=tb['percent'].cumsum()\n",
        "print(tb.shape)\n"
      ],
      "id": "cubic-master",
      "execution_count": null,
      "outputs": [
        {
          "output_type": "stream",
          "text": [
            "(122, 4)\n"
          ],
          "name": "stdout"
        }
      ]
    },
    {
      "cell_type": "code",
      "metadata": {
        "colab": {
          "base_uri": "https://localhost:8080/",
          "height": 399
        },
        "id": "hJh3iWrv0OFT",
        "outputId": "91b06c03-3106-420d-c119-3b36afa7a39c"
      },
      "source": [
        "tb[tb.cumsum_ < 0.70]"
      ],
      "id": "hJh3iWrv0OFT",
      "execution_count": null,
      "outputs": [
        {
          "output_type": "execute_result",
          "data": {
            "text/html": [
              "<div>\n",
              "<style scoped>\n",
              "    .dataframe tbody tr th:only-of-type {\n",
              "        vertical-align: middle;\n",
              "    }\n",
              "\n",
              "    .dataframe tbody tr th {\n",
              "        vertical-align: top;\n",
              "    }\n",
              "\n",
              "    .dataframe thead th {\n",
              "        text-align: right;\n",
              "    }\n",
              "</style>\n",
              "<table border=\"1\" class=\"dataframe\">\n",
              "  <thead>\n",
              "    <tr style=\"text-align: right;\">\n",
              "      <th></th>\n",
              "      <th>text_num</th>\n",
              "      <th>cnt</th>\n",
              "      <th>percent</th>\n",
              "      <th>cumsum_</th>\n",
              "    </tr>\n",
              "  </thead>\n",
              "  <tbody>\n",
              "    <tr>\n",
              "      <th>0</th>\n",
              "      <td>103</td>\n",
              "      <td>397</td>\n",
              "      <td>0.020178</td>\n",
              "      <td>0.020178</td>\n",
              "    </tr>\n",
              "    <tr>\n",
              "      <th>1</th>\n",
              "      <td>105</td>\n",
              "      <td>390</td>\n",
              "      <td>0.019822</td>\n",
              "      <td>0.040000</td>\n",
              "    </tr>\n",
              "    <tr>\n",
              "      <th>2</th>\n",
              "      <td>104</td>\n",
              "      <td>384</td>\n",
              "      <td>0.019517</td>\n",
              "      <td>0.059517</td>\n",
              "    </tr>\n",
              "    <tr>\n",
              "      <th>3</th>\n",
              "      <td>102</td>\n",
              "      <td>372</td>\n",
              "      <td>0.018907</td>\n",
              "      <td>0.078424</td>\n",
              "    </tr>\n",
              "    <tr>\n",
              "      <th>4</th>\n",
              "      <td>101</td>\n",
              "      <td>343</td>\n",
              "      <td>0.017433</td>\n",
              "      <td>0.095858</td>\n",
              "    </tr>\n",
              "    <tr>\n",
              "      <th>...</th>\n",
              "      <td>...</td>\n",
              "      <td>...</td>\n",
              "      <td>...</td>\n",
              "      <td>...</td>\n",
              "    </tr>\n",
              "    <tr>\n",
              "      <th>56</th>\n",
              "      <td>29</td>\n",
              "      <td>176</td>\n",
              "      <td>0.008945</td>\n",
              "      <td>0.660025</td>\n",
              "    </tr>\n",
              "    <tr>\n",
              "      <th>57</th>\n",
              "      <td>76</td>\n",
              "      <td>175</td>\n",
              "      <td>0.008895</td>\n",
              "      <td>0.668920</td>\n",
              "    </tr>\n",
              "    <tr>\n",
              "      <th>58</th>\n",
              "      <td>63</td>\n",
              "      <td>175</td>\n",
              "      <td>0.008895</td>\n",
              "      <td>0.677814</td>\n",
              "    </tr>\n",
              "    <tr>\n",
              "      <th>59</th>\n",
              "      <td>65</td>\n",
              "      <td>172</td>\n",
              "      <td>0.008742</td>\n",
              "      <td>0.686557</td>\n",
              "    </tr>\n",
              "    <tr>\n",
              "      <th>60</th>\n",
              "      <td>87</td>\n",
              "      <td>172</td>\n",
              "      <td>0.008742</td>\n",
              "      <td>0.695299</td>\n",
              "    </tr>\n",
              "  </tbody>\n",
              "</table>\n",
              "<p>61 rows × 4 columns</p>\n",
              "</div>"
            ],
            "text/plain": [
              "    text_num  cnt   percent   cumsum_\n",
              "0        103  397  0.020178  0.020178\n",
              "1        105  390  0.019822  0.040000\n",
              "2        104  384  0.019517  0.059517\n",
              "3        102  372  0.018907  0.078424\n",
              "4        101  343  0.017433  0.095858\n",
              "..       ...  ...       ...       ...\n",
              "56        29  176  0.008945  0.660025\n",
              "57        76  175  0.008895  0.668920\n",
              "58        63  175  0.008895  0.677814\n",
              "59        65  172  0.008742  0.686557\n",
              "60        87  172  0.008742  0.695299\n",
              "\n",
              "[61 rows x 4 columns]"
            ]
          },
          "metadata": {
            "tags": []
          },
          "execution_count": 25
        }
      ]
    },
    {
      "cell_type": "code",
      "metadata": {
        "id": "VYqjfsoCdFed"
      },
      "source": [
        "df[\"Division\"] = df[\"Division Name\"].astype('category')\n",
        "df[\"Division\"] = df[\"Division\"].cat.codes\n",
        "\n",
        "df[\"Department\"] = df[\"Department Name\"].astype('category')\n",
        "df[\"Department\"] = df[\"Department\"].cat.codes\n",
        "\n",
        "df[\"Class\"] = df[\"Class Name\"].astype('category')\n",
        "df[\"Class\"] = df[\"Class\"].cat.codes"
      ],
      "id": "VYqjfsoCdFed",
      "execution_count": null,
      "outputs": []
    },
    {
      "cell_type": "code",
      "metadata": {
        "colab": {
          "base_uri": "https://localhost:8080/",
          "height": 164
        },
        "id": "_-vY3z2cdAbe",
        "outputId": "f6a3c875-8c3b-4dea-c1be-779a319ee4cc"
      },
      "source": [
        "df.to_csv('df_clean.csv',index = False)"
      ],
      "id": "_-vY3z2cdAbe",
      "execution_count": null,
      "outputs": [
        {
          "output_type": "error",
          "ename": "NameError",
          "evalue": "ignored",
          "traceback": [
            "\u001b[0;31m---------------------------------------------------------------------------\u001b[0m",
            "\u001b[0;31mNameError\u001b[0m                                 Traceback (most recent call last)",
            "\u001b[0;32m<ipython-input-7-190427c62672>\u001b[0m in \u001b[0;36m<module>\u001b[0;34m()\u001b[0m\n\u001b[0;32m----> 1\u001b[0;31m \u001b[0mdf\u001b[0m\u001b[0;34m.\u001b[0m\u001b[0mto_csv\u001b[0m\u001b[0;34m(\u001b[0m\u001b[0;34m'df_clean.csv'\u001b[0m\u001b[0;34m,\u001b[0m\u001b[0mindex\u001b[0m \u001b[0;34m=\u001b[0m \u001b[0;32mFalse\u001b[0m\u001b[0;34m)\u001b[0m\u001b[0;34m\u001b[0m\u001b[0;34m\u001b[0m\u001b[0m\n\u001b[0m",
            "\u001b[0;31mNameError\u001b[0m: name 'df' is not defined"
          ]
        }
      ]
    },
    {
      "cell_type": "code",
      "metadata": {
        "id": "IDf0FLMHkSd1"
      },
      "source": [
        ""
      ],
      "id": "IDf0FLMHkSd1",
      "execution_count": null,
      "outputs": []
    },
    {
      "cell_type": "code",
      "metadata": {
        "id": "uWoPJ2nokTMB"
      },
      "source": [
        "### after clean"
      ],
      "id": "uWoPJ2nokTMB",
      "execution_count": null,
      "outputs": []
    },
    {
      "cell_type": "code",
      "metadata": {
        "id": "c0Ku_FBTp3ke"
      },
      "source": [
        "df = pd.read_csv('df_clean_2.csv')"
      ],
      "id": "c0Ku_FBTp3ke",
      "execution_count": null,
      "outputs": []
    },
    {
      "cell_type": "code",
      "metadata": {
        "id": "9R1AIlpbMmXP"
      },
      "source": [
        "docs = list(df.text)"
      ],
      "id": "9R1AIlpbMmXP",
      "execution_count": null,
      "outputs": []
    },
    {
      "cell_type": "code",
      "metadata": {
        "id": "qr3gT9wJNayN"
      },
      "source": [
        "tokenizer = Tokenizer()\n",
        "tokenizer.fit_on_texts(docs)\n",
        "word_index = tokenizer.word_index"
      ],
      "id": "qr3gT9wJNayN",
      "execution_count": null,
      "outputs": []
    },
    {
      "cell_type": "code",
      "metadata": {
        "colab": {
          "base_uri": "https://localhost:8080/"
        },
        "id": "jHi9M-Hafgid",
        "outputId": "5973cf52-df57-49ba-897b-26eb12329090"
      },
      "source": [
        "len(word_index)"
      ],
      "id": "jHi9M-Hafgid",
      "execution_count": null,
      "outputs": [
        {
          "output_type": "execute_result",
          "data": {
            "text/plain": [
              "10164"
            ]
          },
          "metadata": {
            "tags": []
          },
          "execution_count": 6
        }
      ]
    },
    {
      "cell_type": "code",
      "metadata": {
        "id": "L8YsaLqj0BQb"
      },
      "source": [
        "MAX_LEN = 90\n",
        "DOC_NUM = len(df)\n",
        "MAX_WORDS = 9000"
      ],
      "id": "L8YsaLqj0BQb",
      "execution_count": null,
      "outputs": []
    },
    {
      "cell_type": "code",
      "metadata": {
        "id": "wdhhG-uevnYE"
      },
      "source": [
        "text_w2v = []\n",
        "for d in df.text:\n",
        "  temp_ = d.split(' ')\n",
        "  text_w2v += [temp_]"
      ],
      "id": "wdhhG-uevnYE",
      "execution_count": null,
      "outputs": []
    },
    {
      "cell_type": "code",
      "metadata": {
        "id": "vVrujC7_zZ_g"
      },
      "source": [
        "EMBEDDING_DIM = 100\n",
        "w2v_model = Word2Vec(text_w2v, window=5, min_count=1, size=EMBEDDING_DIM)\n",
        "w2v_model.save('w2v_model.model')"
      ],
      "id": "vVrujC7_zZ_g",
      "execution_count": null,
      "outputs": []
    },
    {
      "cell_type": "code",
      "metadata": {
        "id": "VVj68bsaIR9G"
      },
      "source": [
        "\n",
        "def generate_seq(docs, DOC_NUM, MAX_LEN, MAX_WORDS, word_index):\n",
        "  sequences = np.zeros((DOC_NUM, MAX_LEN))\n",
        "  print(sequences.shape)\n",
        "  for i, doc in enumerate(docs):\n",
        "    wordTokens = text_to_word_sequence(doc)\n",
        "    #print(wordTokens)\n",
        "    for j, word in enumerate(wordTokens):\n",
        "      #print(word)\n",
        "      if j < MAX_LEN and word_index[word]< MAX_WORDS:\n",
        "        sequences[i,j] = word_index[word] \n",
        "  return sequences"
      ],
      "id": "VVj68bsaIR9G",
      "execution_count": null,
      "outputs": []
    },
    {
      "cell_type": "code",
      "metadata": {
        "colab": {
          "base_uri": "https://localhost:8080/"
        },
        "id": "4a5b_9TkMjk0",
        "outputId": "dc0afc40-0cd8-4b18-d5f3-13765580bcfe"
      },
      "source": [
        "sequences = generate_seq(docs, DOC_NUM, MAX_LEN, MAX_WORDS, word_index)"
      ],
      "id": "4a5b_9TkMjk0",
      "execution_count": null,
      "outputs": [
        {
          "output_type": "stream",
          "text": [
            "(19675, 90)\n"
          ],
          "name": "stdout"
        }
      ]
    },
    {
      "cell_type": "code",
      "metadata": {
        "id": "QHy1q0GyMl5-"
      },
      "source": [
        "def generate_embedding(EMBEDDING_DIM, MAX_WORDS, word_index, w2v_model):\n",
        "  embedding_matrix = np.zeros(((MAX_WORDS + 1), EMBEDDING_DIM))\n",
        "  ignored=[]\n",
        "  cnt=0\n",
        "  for word, i in word_index.items():\n",
        "    if (word in w2v_model.wv.vocab) & (i <= MAX_WORDS):\n",
        "        #print(word)\n",
        "        embedding_vector = w2v_model[word]\n",
        "        cnt+=1\n",
        "        if embedding_vector is not None:\n",
        "            embedding_matrix[i] = embedding_vector\n",
        "    else: \n",
        "      ignored.append(word)\n",
        "      #print(word)\n",
        "  print(cnt)\n",
        "  print(ignored[0:10])\n",
        "  print(len(ignored))\n",
        "  return embedding_matrix"
      ],
      "id": "QHy1q0GyMl5-",
      "execution_count": null,
      "outputs": []
    },
    {
      "cell_type": "code",
      "metadata": {
        "colab": {
          "base_uri": "https://localhost:8080/"
        },
        "id": "NoMVMP6wTw1L",
        "outputId": "136d6836-03bc-4f4d-907a-6d78fdf24687"
      },
      "source": [
        "embedding = generate_embedding(EMBEDDING_DIM, MAX_WORDS, word_index, w2v_model)"
      ],
      "id": "NoMVMP6wTw1L",
      "execution_count": null,
      "outputs": [
        {
          "output_type": "stream",
          "text": [
            "9000\n",
            "['withhold', 'minority', 'cartagena', 'cinnamon', 'nigh', 'ruggedness', 'sonya', 'onion', 'temple', 'chafe']\n",
            "1164\n"
          ],
          "name": "stdout"
        },
        {
          "output_type": "stream",
          "text": [
            "/usr/local/lib/python3.7/dist-packages/ipykernel_launcher.py:8: DeprecationWarning: Call to deprecated `__getitem__` (Method will be removed in 4.0.0, use self.wv.__getitem__() instead).\n",
            "  \n"
          ],
          "name": "stderr"
        }
      ]
    },
    {
      "cell_type": "code",
      "metadata": {
        "colab": {
          "base_uri": "https://localhost:8080/"
        },
        "id": "JQUHNQ64hVjh",
        "outputId": "1422417c-dd83-4aaa-cd37-b383edbe9d24"
      },
      "source": [
        "embedding"
      ],
      "id": "JQUHNQ64hVjh",
      "execution_count": null,
      "outputs": [
        {
          "output_type": "execute_result",
          "data": {
            "text/plain": [
              "array([[ 0.        ,  0.        ,  0.        , ...,  0.        ,\n",
              "         0.        ,  0.        ],\n",
              "       [-1.18607557, -1.50915062,  0.55232662, ..., -0.61237246,\n",
              "         0.78833687, -0.97682232],\n",
              "       [ 0.14174704,  0.7408818 ,  0.14898859, ...,  0.04212448,\n",
              "        -0.46405205,  1.71712172],\n",
              "       ...,\n",
              "       [ 0.00415188,  0.01800941, -0.00575012, ...,  0.01630626,\n",
              "        -0.00463857,  0.01916233],\n",
              "       [ 0.02213289,  0.01694503,  0.02062245, ...,  0.01306334,\n",
              "         0.01430427, -0.0047638 ],\n",
              "       [ 0.03091051, -0.00616094, -0.00776239, ..., -0.00230698,\n",
              "         0.00884753, -0.00542801]])"
            ]
          },
          "metadata": {
            "tags": []
          },
          "execution_count": 15
        }
      ]
    },
    {
      "cell_type": "code",
      "metadata": {
        "id": "9aVgazNBqazV"
      },
      "source": [
        "np.save('embedding', embedding)"
      ],
      "id": "9aVgazNBqazV",
      "execution_count": null,
      "outputs": []
    },
    {
      "cell_type": "code",
      "metadata": {
        "id": "vBV-bEPCwt_8"
      },
      "source": [
        "data = sequences"
      ],
      "id": "vBV-bEPCwt_8",
      "execution_count": null,
      "outputs": []
    },
    {
      "cell_type": "code",
      "metadata": {
        "id": "sFm0jRjIqZKl"
      },
      "source": [
        "np.save('data', sequences)"
      ],
      "id": "sFm0jRjIqZKl",
      "execution_count": null,
      "outputs": []
    },
    {
      "cell_type": "markdown",
      "metadata": {
        "id": "1XPaKbfjqb8B"
      },
      "source": [
        "# Modeling"
      ],
      "id": "1XPaKbfjqb8B"
    },
    {
      "cell_type": "code",
      "metadata": {
        "id": "sYwzIZ19pmmB"
      },
      "source": [
        ""
      ],
      "id": "sYwzIZ19pmmB",
      "execution_count": null,
      "outputs": []
    },
    {
      "cell_type": "code",
      "metadata": {
        "id": "v48x5at6qgoz"
      },
      "source": [
        "from keras.preprocessing.text import Tokenizer, text_to_word_sequence\n",
        "from keras.preprocessing.sequence import pad_sequences\n",
        "from keras.utils.np_utils import to_categorical\n",
        "\n",
        "from keras import backend as K\n",
        "from keras.engine.topology import Layer, InputSpec\n",
        "from keras import initializers\n",
        "\n",
        "from keras import optimizers\n",
        "\n",
        "from keras.layers import Embedding, Dense, Conv1D, MaxPooling1D, Dropout, Activation, Input, Flatten, Concatenate, \\\n",
        "                          Conv2D, GlobalAveragePooling1D, LSTM, GRU, Bidirectional, dot, multiply, Lambda, TimeDistributed, Masking\n",
        "\n",
        "from keras.models import Model, Sequential\n",
        "from keras.regularizers import l2,l1,l1_l2\n",
        "from keras.callbacks import Callback,EarlyStopping, ModelCheckpoint\n",
        "from sklearn.utils import class_weight\n",
        "from keras.initializers import Constant\n",
        "from keras import metrics\n",
        "\n",
        "from keras.callbacks import Callback\n",
        "\n",
        "from keras.layers.normalization import BatchNormalization\n",
        "from sklearn.model_selection import KFold, train_test_split, StratifiedKFold\n",
        "from sklearn.metrics import precision_recall_fscore_support, precision_recall_curve, classification_report,accuracy_score, auc, roc_curve, roc_auc_score, average_precision_score\n"
      ],
      "id": "v48x5at6qgoz",
      "execution_count": null,
      "outputs": []
    },
    {
      "cell_type": "code",
      "metadata": {
        "id": "CjHdvmbPqz-l"
      },
      "source": [
        "MAX_LEN = 90\n",
        "DOC_NUM = len(df)\n",
        "MAX_WORDS = 9000\n",
        "EMBEDDING_DIM = 100\n",
        "l12_reg = l1_l2(l1 = 1e-6,l2 = 1e-6)\n",
        "BATCH_SIZE = 24"
      ],
      "id": "CjHdvmbPqz-l",
      "execution_count": null,
      "outputs": []
    },
    {
      "cell_type": "code",
      "metadata": {
        "id": "CM0GGAJJuryy"
      },
      "source": [
        "def performance_measure(pred_yp, y):\n",
        "    '''\n",
        "    Given lists of predicted y probability and x, y, return a dataframe of AR, AUC, Brier, Decile Table\n",
        "    '''\n",
        "    \n",
        "    tenc_dat = pd.DataFrame({'y_true':y,'probability':pred_yp.flatten()})\n",
        "    tenc_dat.sort_values('probability',axis = 0,ascending=False, inplace = True)\n",
        "    tenc_dat.index = range(0,len(tenc_dat))\n",
        "    y = tenc_dat['y_true']\n",
        "    point = float(len(tenc_dat))/10\n",
        "    point = int(round(point))\n",
        "    tenc = []\n",
        "    for i in range(0,10):\n",
        "        tenc.append(y[(i*point):((i+1)*point)])\n",
        "    tenc[9]=tenc[9].append(y[10*point:])\n",
        "    total = sum(y)\n",
        "    num_of_bkr = []\n",
        "    for j in range(0,10):\n",
        "        num_of_bkr.append(sum(tenc[j]))\n",
        "    tencile_bkr = np.array(num_of_bkr)\n",
        "    rate = tencile_bkr.astype(float)/total\n",
        "\n",
        "    return rate"
      ],
      "id": "CM0GGAJJuryy",
      "execution_count": null,
      "outputs": []
    },
    {
      "cell_type": "code",
      "metadata": {
        "id": "wm8GIpL-ut79"
      },
      "source": [
        "class AUCEvaluation(Callback):\n",
        "    \"\"\" Show AUC after interval number of epoches \"\"\"\n",
        "    def __init__(self, validation_data=(), interval=1):\n",
        "        super(Callback, self).__init__()\n",
        "        self.interval = interval\n",
        "        self.X_val, self.y_val = validation_data\n",
        "\n",
        "    def on_epoch_end(self, epoch, logs={}):\n",
        "        if epoch % self.interval == 0:\n",
        "            y_pred = self.model.predict(self.X_val, verbose=0)\n",
        "            score = roc_auc_score(self.y_val, y_pred)\n",
        "            logs['auc'] = score\n",
        "            tencile=performance_measure(y_pred, self.y_val)\n",
        "            logs['tencile'] = tencile\n",
        "            print(\" epoch:{:d} auc: {:.4f}\".format(epoch, score))\n"
      ],
      "id": "wm8GIpL-ut79",
      "execution_count": null,
      "outputs": []
    },
    {
      "cell_type": "code",
      "metadata": {
        "id": "XlsFHG_MvER3"
      },
      "source": [
        ""
      ],
      "id": "XlsFHG_MvER3",
      "execution_count": null,
      "outputs": []
    },
    {
      "cell_type": "code",
      "metadata": {
        "id": "FJmwbttiuwmz"
      },
      "source": [
        "class AttLayer(Layer):\n",
        "    \n",
        "    def __init__(self, regularizer=None,context_dim=100, name=\"attention\",**kwargs):\n",
        "        self.regularizer = regularizer\n",
        "        self.context_dim=context_dim\n",
        "        self.supports_masking = True\n",
        "        self._name=name\n",
        "        super(AttLayer, self).__init__(**kwargs)\n",
        "\n",
        "    def build(self, input_shape):\n",
        "        assert len(input_shape) == 3        \n",
        "        self.W = self.add_weight(name='W', shape=(input_shape[-1], self.context_dim), initializer='normal', trainable=True, \n",
        "                                 regularizer=self.regularizer)\n",
        "        self.b = self.add_weight(name='b', shape=(self.context_dim,), initializer='normal', trainable=True, \n",
        "                                 regularizer=self.regularizer)\n",
        "        self.u = self.add_weight(name='u', shape=(self.context_dim,), initializer='normal', trainable=True, \n",
        "                                 regularizer=self.regularizer)        \n",
        "        super(AttLayer, self).build(input_shape)  # be sure you call this somewhere!\n",
        "\n",
        "    def call(self, x, mask=None):\n",
        "        eij = K.tanh(K.dot(x, self.W) + self.b)\n",
        "        eij = K.squeeze(K.dot(eij, K.expand_dims(self.u, axis=1)), axis=-1)\n",
        "        ai = K.exp(eij)\n",
        "\n",
        "        \n",
        "        if mask is not None:\n",
        "            ai*=K.cast(mask, K.floatx())\n",
        "            \n",
        "        ai /=K.cast(K.sum(ai, axis=1, keepdims=True)+K.epsilon(), K.floatx())\n",
        "\n",
        "        return ai\n",
        "        \n",
        "\n",
        "    def compute_output_shape(self, input_shape):\n",
        "        return (input_shape[0], input_shape[1])\n",
        "    \n",
        "    def get_config(self):\n",
        "        config = {}\n",
        "        base_config = super(AttLayer, self).get_config()\n",
        "        return dict(list(base_config.items()) + list(config.items()))\n",
        "\n",
        "    def compute_mask(self, inputs, mask):\n",
        "        return None  "
      ],
      "id": "FJmwbttiuwmz",
      "execution_count": null,
      "outputs": []
    },
    {
      "cell_type": "code",
      "metadata": {
        "id": "xWP_OTL5u3ul"
      },
      "source": [
        "\n",
        "class WeightedSum(Layer):\n",
        "    def __init__(self, name=\"weighted_sum\",  **kwargs):\n",
        "        self.supports_masking = True\n",
        "        self._name=name\n",
        "        super(WeightedSum, self).__init__(**kwargs)\n",
        "        \n",
        "    def build(self, input_shape):\n",
        "        super(WeightedSum, self).build(input_shape)  # Be sure to call this at the end\n",
        "\n",
        "\n",
        "    def call(self, input_tensor, mask=None):\n",
        "        \n",
        "        x = input_tensor[0]\n",
        "        #print(\"input\",K.int_shape(x))\n",
        "        a = input_tensor[1]\n",
        "        print(\"weights\", K.int_shape(a))\n",
        "\n",
        "        a = K.expand_dims(a)\n",
        "        weighted_input = K.sum(x * a, axis=1)\n",
        "        #print(\"weighted sum\",K.int_shape(weighted_input))\n",
        "        \n",
        "        return weighted_input\n",
        "\n",
        "    def compute_output_shape(self, input_shape):\n",
        "        \n",
        "        a, b = input_shape\n",
        "        \n",
        "        return (a[0], a[-1])\n",
        "\n",
        "    def compute_mask(self, x, mask=None):\n",
        "        return None\n"
      ],
      "id": "xWP_OTL5u3ul",
      "execution_count": null,
      "outputs": []
    },
    {
      "cell_type": "code",
      "metadata": {
        "id": "cOOdlfyelB_7"
      },
      "source": [
        "\n",
        "def basicModel(embedding_matrix, MAX_WORDS, MAX_LEN, EMBEDDING_DIM):\n",
        "    embedding_layer = Embedding( MAX_WORDS+ 1,\n",
        "                        EMBEDDING_DIM,\n",
        "                        embeddings_initializer = Constant(embedding_matrix),\n",
        "                        mask_zero=True,\n",
        "                        input_length=MAX_LEN,\n",
        "                        trainable=False)    \n",
        "    \n",
        "    \n",
        "    text_input = Input(shape=(MAX_LEN, ), dtype='int32')\n",
        "    embedded_sequences = embedding_layer(text_input)\n",
        "    lstm = LSTM(27, return_sequences=True,\\\n",
        "                  implementation=2, \\\n",
        "                  recurrent_dropout = 0.2,\n",
        "                  dropout=0.2)(embedded_sequences)\n",
        "    drop_out = Dropout(0.2)(lstm)\n",
        "    att = AttLayer(regularizer = l12_reg)(lstm)\n",
        "    weighted_sum = WeightedSum()([drop_out,att])\n",
        "\n",
        "    preds = Dense(1, activation='sigmoid',kernel_regularizer=l12_reg)(weighted_sum) \n",
        "\n",
        "    model = Model(text_input, preds)\n",
        "    model.summary()\n",
        "    \n",
        "    return model"
      ],
      "id": "cOOdlfyelB_7",
      "execution_count": null,
      "outputs": []
    },
    {
      "cell_type": "code",
      "metadata": {
        "id": "gMfCXlcsvwnc"
      },
      "source": [
        "def fit_model( model, train_x, train_y, val_x, val_y, test_x, test_y, model_name, verbose = 0):\n",
        "    \n",
        "    history = None\n",
        "    result = None\n",
        "    \n",
        "    model_df = model\n",
        "    print('in fit, val_y: ', sum(val_y), 'test_y',sum(test_y), 'train_y',sum(train_y))\n",
        "\n",
        "    #class weight for train \n",
        "    class_weights = class_weight.compute_class_weight('balanced',\n",
        "                              np.unique(train_y),\n",
        "                              train_y)\n",
        "    class_weights = {l:c for l,c in zip(np.unique(np.ravel(train_y,order='C')), class_weights)}\n",
        "    print('in fit train weights', class_weights)\n",
        "\n",
        "    # class weight for val\n",
        "    val_class_weights = class_weight.compute_class_weight('balanced',\n",
        "                                np.unique(val_y),\n",
        "                                val_y)\n",
        "    val_class_weights = {l:c for l,c in zip(np.unique(val_y), val_class_weights)}\n",
        "    val_sample_weights = []\n",
        "    for y in np.ravel(val_y,order='C'):\n",
        "        if y == 1:\n",
        "          val_sample_weights.append(val_class_weights[1])\n",
        "        else: val_sample_weights.append(val_class_weights[0])\n",
        "    val_sample_weights = np.asarray(val_sample_weights)\n",
        "    print('in fit val weights', val_sample_weights.shape)\n",
        "    \n",
        "    auc_eval = AUCEvaluation(validation_data=(val_x, val_y), interval=1)\n",
        "    earlyStopping = EarlyStopping(monitor='val_my_auc',patience = 3, \n",
        "                      verbose =verbose, mode ='max')\n",
        "    checkpoint = ModelCheckpoint(model_name,monitor='val_my_auc',verbose=verbose,\n",
        "              save_best_only=True, save_weights_only=True, mode ='max')\n",
        "\n",
        "    opt = optimizers.RMSprop(lr=0.0005)\n",
        "    model_df.compile(optimizer= opt,\n",
        "              loss='binary_crossentropy',\n",
        "              metrics=['accuracy', metrics.AUC(name='my_auc')])\n",
        "\n",
        "    history = model_df.fit(train_x,\n",
        "                train_y,\n",
        "                epochs=200,\n",
        "                batch_size=128,\n",
        "                verbose =verbose,\n",
        "                #callbacks=[auc_eval],\\\n",
        "                callbacks=[auc_eval, earlyStopping, checkpoint], #checkpoint\n",
        "                class_weight = class_weights, \\\n",
        "                validation_data=(val_x, val_y, val_sample_weights)) \n",
        "    model_df.save(model_name+\".h5\")\n",
        "        \n",
        "    return history, auc_score, fpr, tpr, thresholds, [test_y, y_pred_1]"
      ],
      "id": "gMfCXlcsvwnc",
      "execution_count": null,
      "outputs": []
    },
    {
      "cell_type": "code",
      "metadata": {
        "id": "OJRUk7R5vMG7"
      },
      "source": [
        "def cross_val(data, label, name, embedding, MAX_WORD, MAX_LEN, EMBEDDING_DIM):\n",
        "    tprs = []\n",
        "    auc_list = []\n",
        "    mean_fpr = np.linspace(0,1,100)\n",
        "    predicted_res =[]\n",
        "    his_auc = []\n",
        "    test_index_order = []\n",
        "\n",
        "    kf = StratifiedKFold(n_splits = 4, shuffle = True, random_state = 42)\n",
        "    c = 0\n",
        "\n",
        "    \n",
        "    for train_all_index, test_index in kf.split(range(data.shape[0]), label):\n",
        "        \n",
        "        c += 1\n",
        "        \n",
        "        \n",
        "        model = basicModel(embedding, MAX_WORDS, MAX_LEN, EMBEDDING_DIM)\n",
        "    \n",
        "        #model = model_lstm(n1,n2,n,w)\n",
        "        train_x_index, train_val_index = train_test_split(train_all_index,test_size=0.2, \\\n",
        "                    random_state=42, stratify = label[train_all_index])\n",
        "        \n",
        "        train_x = data[train_x_index]\n",
        "        train_y = label[train_x_index]\n",
        "\n",
        "        val_x = data[train_val_index]\n",
        "        val_y = label[train_val_index]\n",
        "\n",
        "        test_x = data[test_index]\n",
        "        test_y = label[test_index]\n",
        "\n",
        "        print(' train_x:',train_x.shape, ' val_x:',val_x.shape, ' val_x:',test_x.shape )\n",
        "\n",
        "        mod_res = fit_model(model, train_x, train_y, val_x, val_y, test_x, test_y,\\\n",
        "                  name+'_'+str(c))\n",
        "        his_auc.append(mod_res[0].history['val_my_auc'])\n",
        "        \n",
        "        \n",
        "        \n",
        "        \n",
        "        auc_list.append(mod_res[1])\n",
        "        tprs.append(np.interp(mean_fpr, mod_res[2], mod_res[3]))\n",
        "        temp_pred_res = [mod_res[-1],test_index]\n",
        "        print(len(test_index))\n",
        "        predicted_res.append(temp_pred_res)\n",
        "        \n",
        "        test_index_order.append(test_index)\n",
        "\n",
        "    mean_tpr = np.mean(tprs, axis=0)\n",
        "    print('avg_AUC : ', np.mean(auc_list))\n",
        "    print('avg_AUC_2 : ', auc(mean_fpr, mean_tpr))\n",
        "    print(pd.DataFrame(his_auc))\n",
        "    print(pd.DataFrame(his_auc).mean())\n",
        "    \n",
        "    return np.average(auc_list), mean_tpr, predicted_res, test_index_order"
      ],
      "id": "OJRUk7R5vMG7",
      "execution_count": null,
      "outputs": []
    },
    {
      "cell_type": "code",
      "metadata": {
        "id": "vCWdk9gSShNd"
      },
      "source": [
        "label = np.asarray(df['Recommended IND'])"
      ],
      "id": "vCWdk9gSShNd",
      "execution_count": null,
      "outputs": []
    },
    {
      "cell_type": "code",
      "metadata": {
        "colab": {
          "base_uri": "https://localhost:8080/"
        },
        "id": "_vDPL2CkrzAc",
        "outputId": "14a40841-e8f7-419a-bc76-451918fdc514"
      },
      "source": [
        "data"
      ],
      "id": "_vDPL2CkrzAc",
      "execution_count": null,
      "outputs": [
        {
          "output_type": "execute_result",
          "data": {
            "text/plain": [
              "array([[ 163., 1794.,  138., ...,  138., 1474.,   17.],\n",
              "       [  18.,  297.,  232., ...,    0.,    0.,    0.],\n",
              "       [  52.,   72.,    7., ...,    0.,    0.,    0.],\n",
              "       ...,\n",
              "       [  36.,   10.,  129., ...,    0.,    0.,    0.],\n",
              "       [  25.,   36.,   16., ...,    3.,    2.,  238.],\n",
              "       [ 748.,  204.,   58., ...,    0.,    0.,    0.]])"
            ]
          },
          "metadata": {
            "tags": []
          },
          "execution_count": 33
        }
      ]
    },
    {
      "cell_type": "code",
      "metadata": {
        "colab": {
          "base_uri": "https://localhost:8080/",
          "height": 1000
        },
        "id": "bpfk1vTQpQzu",
        "outputId": "404d72c1-0781-4254-bc03-02bf42fe5bc1"
      },
      "source": [
        "auc_list, mean_tpr, predicted_res, test_index_order = cross_val(data, label, 'han', embedding, MAX_WORDS, MAX_LEN, EMBEDDING_DIM)"
      ],
      "id": "bpfk1vTQpQzu",
      "execution_count": null,
      "outputs": [
        {
          "output_type": "stream",
          "text": [
            "weights (None, 90)\n",
            "Model: \"model_1\"\n",
            "__________________________________________________________________________________________________\n",
            "Layer (type)                    Output Shape         Param #     Connected to                     \n",
            "==================================================================================================\n",
            "input_2 (InputLayer)            [(None, 90)]         0                                            \n",
            "__________________________________________________________________________________________________\n",
            "embedding_1 (Embedding)         (None, 90, 100)      900100      input_2[0][0]                    \n",
            "__________________________________________________________________________________________________\n",
            "lstm_1 (LSTM)                   (None, 90, 27)       13824       embedding_1[0][0]                \n",
            "__________________________________________________________________________________________________\n",
            "dropout_1 (Dropout)             (None, 90, 27)       0           lstm_1[0][0]                     \n",
            "__________________________________________________________________________________________________\n",
            "att_layer_1 (AttLayer)          (None, 90)           2900        lstm_1[0][0]                     \n",
            "__________________________________________________________________________________________________\n",
            "weighted_sum_1 (WeightedSum)    (None, 27)           0           dropout_1[0][0]                  \n",
            "                                                                 att_layer_1[0][0]                \n",
            "__________________________________________________________________________________________________\n",
            "dense_1 (Dense)                 (None, 1)            28          weighted_sum_1[0][0]             \n",
            "==================================================================================================\n",
            "Total params: 916,852\n",
            "Trainable params: 16,752\n",
            "Non-trainable params: 900,100\n",
            "__________________________________________________________________________________________________\n",
            " train_x: (11804, 90)  val_x: (2952, 90)  val_x: (4919, 90)\n",
            "in fit, val_y:  2416 test_y 4025 train_y 9659\n",
            "in fit train weights {0: 2.7515151515151515, 1: 0.6110363391655451}\n",
            "in fit val weights (2952,)\n",
            "weights (None, 90)\n",
            "weights (None, 90)\n",
            "weights (None, 90)\n",
            "weights (None, 90)\n",
            " epoch:0 auc: 0.8748\n",
            " epoch:1 auc: 0.8944\n",
            " epoch:2 auc: 0.9071\n",
            " epoch:3 auc: 0.9138\n",
            " epoch:4 auc: 0.9192\n",
            " epoch:5 auc: 0.9217\n",
            " epoch:6 auc: 0.9233\n",
            " epoch:7 auc: 0.9258\n",
            " epoch:8 auc: 0.9276\n",
            " epoch:9 auc: 0.9290\n",
            " epoch:10 auc: 0.9316\n",
            " epoch:11 auc: 0.9325\n",
            " epoch:12 auc: 0.9312\n",
            " epoch:13 auc: 0.9341\n",
            " epoch:14 auc: 0.9335\n",
            " epoch:15 auc: 0.9350\n",
            " epoch:16 auc: 0.9348\n",
            " epoch:17 auc: 0.9360\n",
            " epoch:18 auc: 0.9386\n",
            " epoch:19 auc: 0.9357\n",
            " epoch:20 auc: 0.9360\n",
            " epoch:21 auc: 0.9376\n",
            "y_pred [[0.13062853]\n",
            " [0.9969337 ]\n",
            " [0.9955863 ]\n",
            " ...\n",
            " [0.07869226]\n",
            " [0.26429147]\n",
            " [0.6715563 ]]\n",
            "AUC:  0.9428\n",
            "[0.4455, 0.4411, 0.3948, 0.377, 0.3605, 0.3563, 0.3595, 0.3522, 0.3424, 0.336, 0.3355, 0.3345, 0.3458, 0.3238, 0.3462, 0.3277, 0.3418, 0.3276, 0.3179, 0.3528, 0.3443, 0.3308]\n"
          ],
          "name": "stdout"
        },
        {
          "output_type": "display_data",
          "data": {
            "image/png": "[encoded data removed]",
            "text/plain": [
              "<Figure size 432x288 with 1 Axes>"
            ]
          },
          "metadata": {
            "tags": [],
            "needs_background": "light"
          }
        },
        {
          "output_type": "stream",
          "text": [
            "4919\n",
            "weights (None, 90)\n",
            "Model: \"model_2\"\n",
            "__________________________________________________________________________________________________\n",
            "Layer (type)                    Output Shape         Param #     Connected to                     \n",
            "==================================================================================================\n",
            "input_3 (InputLayer)            [(None, 90)]         0                                            \n",
            "__________________________________________________________________________________________________\n",
            "embedding_2 (Embedding)         (None, 90, 100)      900100      input_3[0][0]                    \n",
            "__________________________________________________________________________________________________\n",
            "lstm_2 (LSTM)                   (None, 90, 27)       13824       embedding_2[0][0]                \n",
            "__________________________________________________________________________________________________\n",
            "dropout_2 (Dropout)             (None, 90, 27)       0           lstm_2[0][0]                     \n",
            "__________________________________________________________________________________________________\n",
            "att_layer_2 (AttLayer)          (None, 90)           2900        lstm_2[0][0]                     \n",
            "__________________________________________________________________________________________________\n",
            "weighted_sum_2 (WeightedSum)    (None, 27)           0           dropout_2[0][0]                  \n",
            "                                                                 att_layer_2[0][0]                \n",
            "__________________________________________________________________________________________________\n",
            "dense_2 (Dense)                 (None, 1)            28          weighted_sum_2[0][0]             \n",
            "==================================================================================================\n",
            "Total params: 916,852\n",
            "Trainable params: 16,752\n",
            "Non-trainable params: 900,100\n",
            "__________________________________________________________________________________________________\n",
            " train_x: (11804, 90)  val_x: (2952, 90)  val_x: (4919, 90)\n",
            "in fit, val_y:  2416 test_y 4025 train_y 9659\n",
            "in fit train weights {0: 2.7515151515151515, 1: 0.6110363391655451}\n",
            "in fit val weights (2952,)\n",
            "weights (None, 90)\n",
            "weights (None, 90)\n",
            "weights (None, 90)\n",
            "weights (None, 90)\n",
            " epoch:0 auc: 0.8860\n",
            " epoch:1 auc: 0.9030\n",
            " epoch:2 auc: 0.9164\n",
            " epoch:3 auc: 0.9257\n",
            " epoch:4 auc: 0.9293\n",
            " epoch:5 auc: 0.9334\n",
            " epoch:6 auc: 0.9350\n",
            " epoch:7 auc: 0.9381\n",
            " epoch:8 auc: 0.9388\n",
            " epoch:9 auc: 0.9397\n",
            " epoch:10 auc: 0.9423\n",
            " epoch:11 auc: 0.9428\n",
            " epoch:12 auc: 0.9432\n",
            " epoch:13 auc: 0.9429\n",
            " epoch:14 auc: 0.9440\n",
            " epoch:15 auc: 0.9445\n",
            " epoch:16 auc: 0.9444\n",
            " epoch:17 auc: 0.9421\n",
            " epoch:18 auc: 0.9449\n",
            " epoch:19 auc: 0.9450\n",
            " epoch:20 auc: 0.9448\n",
            " epoch:21 auc: 0.9454\n",
            "y_pred [[0.9990721 ]\n",
            " [0.8177623 ]\n",
            " [0.23229504]\n",
            " ...\n",
            " [0.9270433 ]\n",
            " [0.98171073]\n",
            " [0.9978813 ]]\n",
            "AUC:  0.9397\n",
            "[0.4368, 0.3923, 0.3699, 0.3455, 0.3396, 0.337, 0.3242, 0.3131, 0.3178, 0.3197, 0.3031, 0.3072, 0.3035, 0.3019, 0.3024, 0.3013, 0.3152, 0.3286, 0.3036, 0.3092, 0.3256, 0.3216]\n"
          ],
          "name": "stdout"
        },
        {
          "output_type": "display_data",
          "data": {
            "image/png": "[encoded data removed]",
            "text/plain": [
              "<Figure size 432x288 with 1 Axes>"
            ]
          },
          "metadata": {
            "tags": [],
            "needs_background": "light"
          }
        },
        {
          "output_type": "stream",
          "text": [
            "4919\n",
            "weights (None, 90)\n",
            "Model: \"model_3\"\n",
            "__________________________________________________________________________________________________\n",
            "Layer (type)                    Output Shape         Param #     Connected to                     \n",
            "==================================================================================================\n",
            "input_4 (InputLayer)            [(None, 90)]         0                                            \n",
            "__________________________________________________________________________________________________\n",
            "embedding_3 (Embedding)         (None, 90, 100)      900100      input_4[0][0]                    \n",
            "__________________________________________________________________________________________________\n",
            "lstm_3 (LSTM)                   (None, 90, 27)       13824       embedding_3[0][0]                \n",
            "__________________________________________________________________________________________________\n",
            "dropout_3 (Dropout)             (None, 90, 27)       0           lstm_3[0][0]                     \n",
            "__________________________________________________________________________________________________\n",
            "att_layer_3 (AttLayer)          (None, 90)           2900        lstm_3[0][0]                     \n",
            "__________________________________________________________________________________________________\n",
            "weighted_sum_3 (WeightedSum)    (None, 27)           0           dropout_3[0][0]                  \n",
            "                                                                 att_layer_3[0][0]                \n",
            "__________________________________________________________________________________________________\n",
            "dense_3 (Dense)                 (None, 1)            28          weighted_sum_3[0][0]             \n",
            "==================================================================================================\n",
            "Total params: 916,852\n",
            "Trainable params: 16,752\n",
            "Non-trainable params: 900,100\n",
            "__________________________________________________________________________________________________\n",
            " train_x: (11804, 90)  val_x: (2952, 90)  val_x: (4919, 90)\n",
            "in fit, val_y:  2416 test_y 4025 train_y 9659\n",
            "in fit train weights {0: 2.7515151515151515, 1: 0.6110363391655451}\n",
            "in fit val weights (2952,)\n",
            "weights (None, 90)\n",
            "weights (None, 90)\n",
            "weights (None, 90)\n",
            "weights (None, 90)\n",
            " epoch:0 auc: 0.8720\n",
            " epoch:1 auc: 0.8971\n",
            " epoch:2 auc: 0.9110\n",
            " epoch:3 auc: 0.9178\n",
            " epoch:4 auc: 0.9224\n",
            " epoch:5 auc: 0.9257\n",
            " epoch:6 auc: 0.9308\n",
            " epoch:7 auc: 0.9336\n",
            " epoch:8 auc: 0.9362\n",
            " epoch:9 auc: 0.9378\n",
            " epoch:10 auc: 0.9400\n",
            " epoch:11 auc: 0.9417\n",
            " epoch:12 auc: 0.9434\n",
            " epoch:13 auc: 0.9442\n",
            " epoch:14 auc: 0.9446\n",
            " epoch:15 auc: 0.9458\n",
            " epoch:16 auc: 0.9463\n",
            " epoch:17 auc: 0.9469\n",
            " epoch:18 auc: 0.9479\n",
            " epoch:19 auc: 0.9481\n",
            " epoch:20 auc: 0.9482\n",
            " epoch:21 auc: 0.9477\n",
            " epoch:22 auc: 0.9493\n",
            " epoch:23 auc: 0.9492\n",
            " epoch:24 auc: 0.9492\n",
            " epoch:25 auc: 0.9496\n",
            " epoch:26 auc: 0.9497\n",
            " epoch:27 auc: 0.9505\n",
            " epoch:28 auc: 0.9509\n",
            " epoch:29 auc: 0.9505\n",
            " epoch:30 auc: 0.9490\n",
            " epoch:31 auc: 0.9506\n",
            "y_pred [[0.01592389]\n",
            " [0.9998136 ]\n",
            " [0.9977145 ]\n",
            " ...\n",
            " [0.98800766]\n",
            " [0.99594116]\n",
            " [0.02103281]]\n",
            "AUC:  0.9395\n",
            "[0.4614, 0.4052, 0.381, 0.3617, 0.3533, 0.3639, 0.3411, 0.3328, 0.3381, 0.3176, 0.3091, 0.3044, 0.2999, 0.2965, 0.2993, 0.3195, 0.3008, 0.2902, 0.3016, 0.2898, 0.2907, 0.3005, 0.3032, 0.2896, 0.288, 0.3041, 0.3178, 0.2884, 0.2867, 0.2901, 0.3188, 0.2935]\n"
          ],
          "name": "stdout"
        },
        {
          "output_type": "display_data",
          "data": {
            "image/png": "[encoded data removed]",
            "text/plain": [
              "<Figure size 432x288 with 1 Axes>"
            ]
          },
          "metadata": {
            "tags": [],
            "needs_background": "light"
          }
        },
        {
          "output_type": "stream",
          "text": [
            "4919\n",
            "weights (None, 90)\n",
            "Model: \"model_4\"\n",
            "__________________________________________________________________________________________________\n",
            "Layer (type)                    Output Shape         Param #     Connected to                     \n",
            "==================================================================================================\n",
            "input_5 (InputLayer)            [(None, 90)]         0                                            \n",
            "__________________________________________________________________________________________________\n",
            "embedding_4 (Embedding)         (None, 90, 100)      900100      input_5[0][0]                    \n",
            "__________________________________________________________________________________________________\n",
            "lstm_4 (LSTM)                   (None, 90, 27)       13824       embedding_4[0][0]                \n",
            "__________________________________________________________________________________________________\n",
            "dropout_4 (Dropout)             (None, 90, 27)       0           lstm_4[0][0]                     \n",
            "__________________________________________________________________________________________________\n",
            "att_layer_4 (AttLayer)          (None, 90)           2900        lstm_4[0][0]                     \n",
            "__________________________________________________________________________________________________\n",
            "weighted_sum_4 (WeightedSum)    (None, 27)           0           dropout_4[0][0]                  \n",
            "                                                                 att_layer_4[0][0]                \n",
            "__________________________________________________________________________________________________\n",
            "dense_4 (Dense)                 (None, 1)            28          weighted_sum_4[0][0]             \n",
            "==================================================================================================\n",
            "Total params: 916,852\n",
            "Trainable params: 16,752\n",
            "Non-trainable params: 900,100\n",
            "__________________________________________________________________________________________________\n",
            " train_x: (11805, 90)  val_x: (2952, 90)  val_x: (4918, 90)\n",
            "in fit, val_y:  2415 test_y 4025 train_y 9660\n",
            "in fit train weights {0: 2.7517482517482517, 1: 0.6110248447204969}\n",
            "in fit val weights (2952,)\n",
            "weights (None, 90)\n",
            "weights (None, 90)\n",
            "weights (None, 90)\n",
            "weights (None, 90)\n",
            " epoch:0 auc: 0.8906\n",
            " epoch:1 auc: 0.9081\n",
            " epoch:2 auc: 0.9196\n",
            " epoch:3 auc: 0.9262\n",
            " epoch:4 auc: 0.9307\n",
            " epoch:5 auc: 0.9337\n",
            " epoch:6 auc: 0.9365\n",
            " epoch:7 auc: 0.9381\n",
            " epoch:8 auc: 0.9398\n",
            " epoch:9 auc: 0.9414\n",
            " epoch:10 auc: 0.9436\n",
            " epoch:11 auc: 0.9446\n",
            " epoch:12 auc: 0.9458\n",
            " epoch:13 auc: 0.9471\n",
            " epoch:14 auc: 0.9482\n",
            " epoch:15 auc: 0.9491\n",
            " epoch:16 auc: 0.9492\n",
            " epoch:17 auc: 0.9497\n",
            " epoch:18 auc: 0.9500\n",
            " epoch:19 auc: 0.9515\n",
            " epoch:20 auc: 0.9515\n",
            " epoch:21 auc: 0.9525\n",
            " epoch:22 auc: 0.9527\n",
            " epoch:23 auc: 0.9530\n",
            " epoch:24 auc: 0.9535\n",
            " epoch:25 auc: 0.9538\n",
            " epoch:26 auc: 0.9534\n",
            " epoch:27 auc: 0.9547\n",
            " epoch:28 auc: 0.9541\n",
            " epoch:29 auc: 0.9551\n",
            " epoch:30 auc: 0.9550\n",
            " epoch:31 auc: 0.9554\n",
            " epoch:32 auc: 0.9563\n",
            " epoch:33 auc: 0.9557\n",
            " epoch:34 auc: 0.9546\n",
            " epoch:35 auc: 0.9549\n",
            "y_pred [[0.9985667 ]\n",
            " [0.9765531 ]\n",
            " [0.99916613]\n",
            " ...\n",
            " [0.99423325]\n",
            " [0.02516034]\n",
            " [0.99854326]]\n",
            "AUC:  0.9477\n",
            "[0.4252, 0.3829, 0.3648, 0.3426, 0.3457, 0.3244, 0.3212, 0.3252, 0.3123, 0.3088, 0.3001, 0.2975, 0.2984, 0.2956, 0.2892, 0.2943, 0.2931, 0.2894, 0.288, 0.2836, 0.288, 0.2824, 0.2845, 0.2838, 0.2809, 0.2827, 0.2912, 0.2798, 0.288, 0.2785, 0.2807, 0.2805, 0.2718, 0.2745, 0.297, 0.2861]\n"
          ],
          "name": "stdout"
        },
        {
          "output_type": "display_data",
          "data": {
            "image/png": "[encoded data removed]",
            "text/plain": [
              "<Figure size 432x288 with 1 Axes>"
            ]
          },
          "metadata": {
            "tags": [],
            "needs_background": "light"
          }
        },
        {
          "output_type": "stream",
          "text": [
            "4918\n",
            "avg_AUC :  0.9424409223597272\n",
            "avg_AUC_2 :  0.9423844030365769\n",
            "         0         1         2   ...        33        34        35\n",
            "0  0.874711  0.894303  0.907095  ...       NaN       NaN       NaN\n",
            "1  0.885966  0.903045  0.916383  ...       NaN       NaN       NaN\n",
            "2  0.871909  0.897043  0.911033  ...       NaN       NaN       NaN\n",
            "3  0.890426  0.908171  0.919614  ...  0.955072  0.953684  0.953974\n",
            "\n",
            "[4 rows x 36 columns]\n",
            "0     0.880753\n",
            "1     0.900640\n",
            "2     0.913531\n",
            "3     0.920878\n",
            "4     0.925339\n",
            "5     0.928632\n",
            "6     0.931331\n",
            "7     0.933849\n",
            "8     0.935516\n",
            "9     0.936876\n",
            "10    0.939296\n",
            "11    0.940299\n",
            "12    0.940786\n",
            "13    0.942023\n",
            "14    0.942480\n",
            "15    0.943554\n",
            "16    0.943404\n",
            "17    0.943344\n",
            "18    0.945245\n",
            "19    0.944848\n",
            "20    0.944657\n",
            "21    0.945403\n",
            "22    0.950883\n",
            "23    0.950353\n",
            "24    0.950852\n",
            "25    0.951545\n",
            "26    0.950997\n",
            "27    0.951884\n",
            "28    0.951945\n",
            "29    0.952451\n",
            "30    0.951626\n",
            "31    0.952517\n",
            "32    0.956058\n",
            "33    0.955072\n",
            "34    0.953684\n",
            "35    0.953974\n",
            "dtype: float64\n"
          ],
          "name": "stdout"
        }
      ]
    },
    {
      "cell_type": "code",
      "metadata": {
        "id": "5ndfZUZp4XOG"
      },
      "source": [
        ">>> import pickle"
      ],
      "id": "5ndfZUZp4XOG",
      "execution_count": null,
      "outputs": []
    },
    {
      "cell_type": "code",
      "metadata": {
        "id": "aIs8PJPNUNmu"
      },
      "source": [
        "\n",
        ">>>\n",
        ">>> with open(\"test_index_order.txt\", \"wb\") as fp:\n",
        "...   pickle.dump(test_index_order, fp)"
      ],
      "id": "aIs8PJPNUNmu",
      "execution_count": null,
      "outputs": []
    },
    {
      "cell_type": "code",
      "metadata": {
        "id": "4CwndQRlfEUQ"
      },
      "source": [
        ">>> with open(\"word_index.txt\", \"wb\") as fp:\n",
        "...   pickle.dump(word_index, fp)"
      ],
      "id": "4CwndQRlfEUQ",
      "execution_count": null,
      "outputs": []
    },
    {
      "cell_type": "code",
      "metadata": {
        "id": "h2vnrJeVfE-o"
      },
      "source": [
        ""
      ],
      "id": "h2vnrJeVfE-o",
      "execution_count": null,
      "outputs": []
    },
    {
      "cell_type": "markdown",
      "metadata": {
        "id": "j2ojQTN1fF7V"
      },
      "source": [
        "# Analysis"
      ],
      "id": "j2ojQTN1fF7V"
    },
    {
      "cell_type": "code",
      "metadata": {
        "id": "M9jF3Ow-3u42"
      },
      "source": [
        "# data = np.load('data.npy')\n",
        "# embedding = np.load('embedding.npy')"
      ],
      "id": "M9jF3Ow-3u42",
      "execution_count": null,
      "outputs": []
    },
    {
      "cell_type": "code",
      "metadata": {
        "id": "l7DbQddf6Gmi"
      },
      "source": [
        "# >>> with open('test_index_order.txt', \"rb\") as fp:   # Unpickling\n",
        "# ...   test_index_order = pickle.load(fp)"
      ],
      "id": "l7DbQddf6Gmi",
      "execution_count": null,
      "outputs": []
    },
    {
      "cell_type": "code",
      "metadata": {
        "colab": {
          "base_uri": "https://localhost:8080/"
        },
        "id": "g9iT-TSadX4a",
        "outputId": "5626d145-afba-4a3b-fd46-2cd47e4d65b9"
      },
      "source": [
        "model = basicModel(embedding, MAX_WORDS, MAX_LEN, EMBEDDING_DIM)"
      ],
      "id": "g9iT-TSadX4a",
      "execution_count": null,
      "outputs": [
        {
          "output_type": "stream",
          "text": [
            "weights (None, 90)\n",
            "Model: \"model_5\"\n",
            "__________________________________________________________________________________________________\n",
            "Layer (type)                    Output Shape         Param #     Connected to                     \n",
            "==================================================================================================\n",
            "input_6 (InputLayer)            [(None, 90)]         0                                            \n",
            "__________________________________________________________________________________________________\n",
            "embedding_5 (Embedding)         (None, 90, 100)      900100      input_6[0][0]                    \n",
            "__________________________________________________________________________________________________\n",
            "lstm_5 (LSTM)                   (None, 90, 27)       13824       embedding_5[0][0]                \n",
            "__________________________________________________________________________________________________\n",
            "dropout_5 (Dropout)             (None, 90, 27)       0           lstm_5[0][0]                     \n",
            "__________________________________________________________________________________________________\n",
            "att_layer_5 (AttLayer)          (None, 90)           2900        lstm_5[0][0]                     \n",
            "__________________________________________________________________________________________________\n",
            "weighted_sum_5 (WeightedSum)    (None, 27)           0           dropout_5[0][0]                  \n",
            "                                                                 att_layer_5[0][0]                \n",
            "__________________________________________________________________________________________________\n",
            "dense_5 (Dense)                 (None, 1)            28          weighted_sum_5[0][0]             \n",
            "==================================================================================================\n",
            "Total params: 916,852\n",
            "Trainable params: 16,752\n",
            "Non-trainable params: 900,100\n",
            "__________________________________________________________________________________________________\n"
          ],
          "name": "stdout"
        }
      ]
    },
    {
      "cell_type": "code",
      "metadata": {
        "id": "PscMCTis0-eH"
      },
      "source": [
        "import tensorflow\n",
        "#tensorflow.compat.v1.disable_eager_execution()\n",
        "from tensorflow.python.keras.backend import eager_learning_phase_scope"
      ],
      "id": "PscMCTis0-eH",
      "execution_count": null,
      "outputs": []
    },
    {
      "cell_type": "code",
      "metadata": {
        "id": "iO8Td7qncvkv"
      },
      "source": [
        "res = pd.DataFrame(columns=['idx','data','weights'])\n",
        "get_att = K.function([model.input],[model.layers[4].output])\n",
        "for c in [1,2,3,4]:\n",
        "  model.load_weights('han_'+str(c)+'.h5')\n",
        "  data_test = data[test_index_order[c-1]]\n",
        "  with eager_learning_phase_scope(value=0):\n",
        "    layers = [get_att([data_test[i:i+ 128]]) for i in range(0, len(data_test), 128)]\n",
        "    layers_flat = []\n",
        "    for a in layers:\n",
        "      for aa in a[0]:\n",
        "        layers_flat.append(aa)\n",
        "        \n",
        "  for i in np.arange(len(test_index_order[c-1])):\n",
        "    res = res.append(pd.DataFrame({'idx': test_index_order[c-1][i], 'data': [data[test_index_order[c-1][i]]], 'weights': [layers_flat[i]]}))"
      ],
      "id": "iO8Td7qncvkv",
      "execution_count": null,
      "outputs": []
    },
    {
      "cell_type": "code",
      "metadata": {
        "id": "UizfGp7zkBE4"
      },
      "source": [
        "res.to_csv('attention_result.csv',index=False)"
      ],
      "id": "UizfGp7zkBE4",
      "execution_count": null,
      "outputs": []
    },
    {
      "cell_type": "code",
      "metadata": {
        "colab": {
          "base_uri": "https://localhost:8080/",
          "height": 194
        },
        "id": "sNxebh_MkBHr",
        "outputId": "343e9d07-20d3-4442-b50d-cd4b3e72cfcf"
      },
      "source": [
        "res.head()\n",
        "\n",
        "\n"
      ],
      "id": "sNxebh_MkBHr",
      "execution_count": null,
      "outputs": [
        {
          "output_type": "execute_result",
          "data": {
            "text/html": [
              "<div>\n",
              "<style scoped>\n",
              "    .dataframe tbody tr th:only-of-type {\n",
              "        vertical-align: middle;\n",
              "    }\n",
              "\n",
              "    .dataframe tbody tr th {\n",
              "        vertical-align: top;\n",
              "    }\n",
              "\n",
              "    .dataframe thead th {\n",
              "        text-align: right;\n",
              "    }\n",
              "</style>\n",
              "<table border=\"1\" class=\"dataframe\">\n",
              "  <thead>\n",
              "    <tr style=\"text-align: right;\">\n",
              "      <th></th>\n",
              "      <th>idx</th>\n",
              "      <th>data</th>\n",
              "      <th>weights</th>\n",
              "    </tr>\n",
              "  </thead>\n",
              "  <tbody>\n",
              "    <tr>\n",
              "      <th>0</th>\n",
              "      <td>3</td>\n",
              "      <td>[19.0, 12.0, 1.0, 25.0, 91.0, 2.0, 20.0, 1846....</td>\n",
              "      <td>[0.040760167, 0.06857426, 0.017609911, 0.01233...</td>\n",
              "    </tr>\n",
              "    <tr>\n",
              "      <th>0</th>\n",
              "      <td>5</td>\n",
              "      <td>[1106.0, 927.0, 415.0, 14.0, 559.0, 2.0, 60.0,...</td>\n",
              "      <td>[0.023626607, 0.02280329, 0.030459424, 0.06419...</td>\n",
              "    </tr>\n",
              "    <tr>\n",
              "      <th>0</th>\n",
              "      <td>7</td>\n",
              "      <td>[320.0, 5.0, 211.0, 16.0, 2.0, 35.0, 43.0, 43....</td>\n",
              "      <td>[0.09773841, 0.019008406, 0.0631164, 0.0958843...</td>\n",
              "    </tr>\n",
              "    <tr>\n",
              "      <th>0</th>\n",
              "      <td>8</td>\n",
              "      <td>[16.0, 79.0, 30.0, 4.0, 23.0, 114.0, 13.0, 474...</td>\n",
              "      <td>[0.0073302165, 0.0060432954, 0.014174643, 0.01...</td>\n",
              "    </tr>\n",
              "    <tr>\n",
              "      <th>0</th>\n",
              "      <td>16</td>\n",
              "      <td>[364.0, 3.0, 66.0, 2.0, 20.0, 1.0, 55.0, 3.0, ...</td>\n",
              "      <td>[0.044403583, 0.027346333, 0.06585234, 0.49293...</td>\n",
              "    </tr>\n",
              "  </tbody>\n",
              "</table>\n",
              "</div>"
            ],
            "text/plain": [
              "  idx  ...                                            weights\n",
              "0   3  ...  [0.040760167, 0.06857426, 0.017609911, 0.01233...\n",
              "0   5  ...  [0.023626607, 0.02280329, 0.030459424, 0.06419...\n",
              "0   7  ...  [0.09773841, 0.019008406, 0.0631164, 0.0958843...\n",
              "0   8  ...  [0.0073302165, 0.0060432954, 0.014174643, 0.01...\n",
              "0  16  ...  [0.044403583, 0.027346333, 0.06585234, 0.49293...\n",
              "\n",
              "[5 rows x 3 columns]"
            ]
          },
          "metadata": {
            "tags": []
          },
          "execution_count": 42
        }
      ]
    },
    {
      "cell_type": "code",
      "metadata": {
        "colab": {
          "base_uri": "https://localhost:8080/"
        },
        "id": "iAiEQomWkBKI",
        "outputId": "d049b47c-df32-48b6-81cf-12ffaa56e858"
      },
      "source": [
        "res.data.iloc[1][0]"
      ],
      "id": "iAiEQomWkBKI",
      "execution_count": null,
      "outputs": [
        {
          "output_type": "execute_result",
          "data": {
            "text/plain": [
              "1106.0"
            ]
          },
          "metadata": {
            "tags": []
          },
          "execution_count": 46
        }
      ]
    },
    {
      "cell_type": "code",
      "metadata": {
        "colab": {
          "base_uri": "https://localhost:8080/"
        },
        "id": "PKTkRwPWkBM-",
        "outputId": "71d4aff7-ee8f-4d39-fede-8cca10120aa6"
      },
      "source": [
        "res.weights.iloc[1][0]"
      ],
      "id": "PKTkRwPWkBM-",
      "execution_count": null,
      "outputs": [
        {
          "output_type": "execute_result",
          "data": {
            "text/plain": [
              "0.023626607"
            ]
          },
          "metadata": {
            "tags": []
          },
          "execution_count": 45
        }
      ]
    },
    {
      "cell_type": "code",
      "metadata": {
        "id": "IRjfV39IkBSL"
      },
      "source": [
        ""
      ],
      "id": "IRjfV39IkBSL",
      "execution_count": null,
      "outputs": []
    },
    {
      "cell_type": "code",
      "metadata": {
        "id": "enWWQxLwkBUi"
      },
      "source": [
        ""
      ],
      "id": "enWWQxLwkBUi",
      "execution_count": null,
      "outputs": []
    },
    {
      "cell_type": "code",
      "metadata": {
        "colab": {
          "base_uri": "https://localhost:8080/",
          "height": 76
        },
        "id": "OxBRm4_niFBy",
        "outputId": "cc4c62b6-4ecb-4de3-f109-e9dbfeea428f"
      },
      "source": [
        "res.append(pd.DataFrame({'idx': test_index_order[1-1][1], 'data': [data[test_index_order[c-1][1]]], 'weights': [layers_flat[1]]}))"
      ],
      "id": "OxBRm4_niFBy",
      "execution_count": null,
      "outputs": [
        {
          "output_type": "execute_result",
          "data": {
            "text/html": [
              "<div>\n",
              "<style scoped>\n",
              "    .dataframe tbody tr th:only-of-type {\n",
              "        vertical-align: middle;\n",
              "    }\n",
              "\n",
              "    .dataframe tbody tr th {\n",
              "        vertical-align: top;\n",
              "    }\n",
              "\n",
              "    .dataframe thead th {\n",
              "        text-align: right;\n",
              "    }\n",
              "</style>\n",
              "<table border=\"1\" class=\"dataframe\">\n",
              "  <thead>\n",
              "    <tr style=\"text-align: right;\">\n",
              "      <th></th>\n",
              "      <th>idx</th>\n",
              "      <th>data</th>\n",
              "      <th>weights</th>\n",
              "    </tr>\n",
              "  </thead>\n",
              "  <tbody>\n",
              "    <tr>\n",
              "      <th>0</th>\n",
              "      <td>5</td>\n",
              "      <td>[83.0, 739.0, 16.0, 14.0, 163.0, 733.0, 7.0, 6...</td>\n",
              "      <td>[0.16423461, 0.09868156, 0.047125824, 0.051872...</td>\n",
              "    </tr>\n",
              "  </tbody>\n",
              "</table>\n",
              "</div>"
            ],
            "text/plain": [
              "  idx  ...                                            weights\n",
              "0   5  ...  [0.16423461, 0.09868156, 0.047125824, 0.051872...\n",
              "\n",
              "[1 rows x 3 columns]"
            ]
          },
          "metadata": {
            "tags": []
          },
          "execution_count": 115
        }
      ]
    },
    {
      "cell_type": "code",
      "metadata": {
        "colab": {
          "base_uri": "https://localhost:8080/"
        },
        "id": "7ZCDISW7j6zw",
        "outputId": "a3470a29-758a-490d-8235-8e4d885c514e"
      },
      "source": [
        "df.shape"
      ],
      "id": "7ZCDISW7j6zw",
      "execution_count": null,
      "outputs": [
        {
          "output_type": "execute_result",
          "data": {
            "text/plain": [
              "(19675, 15)"
            ]
          },
          "metadata": {
            "tags": []
          },
          "execution_count": 120
        }
      ]
    },
    {
      "cell_type": "code",
      "metadata": {
        "colab": {
          "base_uri": "https://localhost:8080/",
          "height": 67
        },
        "id": "y166mmyUEd8h",
        "outputId": "aef86796-72e4-4999-cd56-61ee79b2db11"
      },
      "source": [
        "df.text.iloc[3]"
      ],
      "id": "y166mmyUEd8h",
      "execution_count": null,
      "outputs": [
        {
          "output_type": "execute_result",
          "data": {
            "application/vnd.google.colaboratory.intrinsic+json": {
              "type": "string"
            },
            "text/plain": [
              "'not for the very petite i love trace geese dresses but this one is not for the very petite i am just under 5 feet tall and usually wear a up in this brand this dress was very pretty out of the package but its a lot of dress the skirt is long and very full so it overwhelmed my small frame not a stranger to alterations shortening and narrowing the skirt would take away from the embellishment of the garment i love the color and the idea of the style but it just did not work on me i returned this dress '"
            ]
          },
          "metadata": {
            "tags": []
          },
          "execution_count": 47
        }
      ]
    },
    {
      "cell_type": "code",
      "metadata": {
        "id": "wgnhMu8lGU3g"
      },
      "source": [
        "res['word_important_order'] = None\n",
        "res = res.reset_index(drop=True)"
      ],
      "id": "wgnhMu8lGU3g",
      "execution_count": null,
      "outputs": []
    },
    {
      "cell_type": "code",
      "metadata": {
        "colab": {
          "base_uri": "https://localhost:8080/",
          "height": 406
        },
        "id": "njmpwDt5h-rh",
        "outputId": "a8e9be49-9ede-4a49-8c2b-2c58d3cd6b81"
      },
      "source": [
        "res"
      ],
      "id": "njmpwDt5h-rh",
      "execution_count": null,
      "outputs": [
        {
          "output_type": "execute_result",
          "data": {
            "text/html": [
              "<div>\n",
              "<style scoped>\n",
              "    .dataframe tbody tr th:only-of-type {\n",
              "        vertical-align: middle;\n",
              "    }\n",
              "\n",
              "    .dataframe tbody tr th {\n",
              "        vertical-align: top;\n",
              "    }\n",
              "\n",
              "    .dataframe thead th {\n",
              "        text-align: right;\n",
              "    }\n",
              "</style>\n",
              "<table border=\"1\" class=\"dataframe\">\n",
              "  <thead>\n",
              "    <tr style=\"text-align: right;\">\n",
              "      <th></th>\n",
              "      <th>idx</th>\n",
              "      <th>data</th>\n",
              "      <th>weights</th>\n",
              "      <th>word_important_order</th>\n",
              "    </tr>\n",
              "  </thead>\n",
              "  <tbody>\n",
              "    <tr>\n",
              "      <th>0</th>\n",
              "      <td>3</td>\n",
              "      <td>[19.0, 12.0, 1.0, 25.0, 91.0, 2.0, 20.0, 1846....</td>\n",
              "      <td>[0.040760167, 0.06857426, 0.017609911, 0.01233...</td>\n",
              "      <td>None</td>\n",
              "    </tr>\n",
              "    <tr>\n",
              "      <th>1</th>\n",
              "      <td>5</td>\n",
              "      <td>[1106.0, 927.0, 415.0, 14.0, 559.0, 2.0, 60.0,...</td>\n",
              "      <td>[0.023626607, 0.02280329, 0.030459424, 0.06419...</td>\n",
              "      <td>None</td>\n",
              "    </tr>\n",
              "    <tr>\n",
              "      <th>2</th>\n",
              "      <td>7</td>\n",
              "      <td>[320.0, 5.0, 211.0, 16.0, 2.0, 35.0, 43.0, 43....</td>\n",
              "      <td>[0.09773841, 0.019008406, 0.0631164, 0.0958843...</td>\n",
              "      <td>None</td>\n",
              "    </tr>\n",
              "    <tr>\n",
              "      <th>3</th>\n",
              "      <td>8</td>\n",
              "      <td>[16.0, 79.0, 30.0, 4.0, 23.0, 114.0, 13.0, 474...</td>\n",
              "      <td>[0.0073302165, 0.0060432954, 0.014174643, 0.01...</td>\n",
              "      <td>None</td>\n",
              "    </tr>\n",
              "    <tr>\n",
              "      <th>4</th>\n",
              "      <td>16</td>\n",
              "      <td>[364.0, 3.0, 66.0, 2.0, 20.0, 1.0, 55.0, 3.0, ...</td>\n",
              "      <td>[0.044403583, 0.027346333, 0.06585234, 0.49293...</td>\n",
              "      <td>None</td>\n",
              "    </tr>\n",
              "    <tr>\n",
              "      <th>...</th>\n",
              "      <td>...</td>\n",
              "      <td>...</td>\n",
              "      <td>...</td>\n",
              "      <td>...</td>\n",
              "    </tr>\n",
              "    <tr>\n",
              "      <th>19670</th>\n",
              "      <td>19668</td>\n",
              "      <td>[52.0, 2.0, 17.0, 506.0, 49.0, 1.0, 1440.0, 15...</td>\n",
              "      <td>[0.03934036, 0.08058521, 0.024694284, 0.082041...</td>\n",
              "      <td>None</td>\n",
              "    </tr>\n",
              "    <tr>\n",
              "      <th>19671</th>\n",
              "      <td>19669</td>\n",
              "      <td>[165.0, 5.0, 211.0, 178.0, 15.0, 2.0, 296.0, 2...</td>\n",
              "      <td>[0.022172699, 0.011383755, 0.07410861, 0.06178...</td>\n",
              "      <td>None</td>\n",
              "    </tr>\n",
              "    <tr>\n",
              "      <th>19672</th>\n",
              "      <td>19670</td>\n",
              "      <td>[29.0, 16.0, 12.0, 203.0, 1046.0, 2.0, 17.0, 2...</td>\n",
              "      <td>[0.044185944, 0.02425993, 0.03599548, 0.075247...</td>\n",
              "      <td>None</td>\n",
              "    </tr>\n",
              "    <tr>\n",
              "      <th>19673</th>\n",
              "      <td>19672</td>\n",
              "      <td>[36.0, 10.0, 129.0, 208.0, 7.0, 28.0, 69.0, 10...</td>\n",
              "      <td>[0.07489003, 0.0074996953, 0.010097302, 0.0175...</td>\n",
              "      <td>None</td>\n",
              "    </tr>\n",
              "    <tr>\n",
              "      <th>19674</th>\n",
              "      <td>19673</td>\n",
              "      <td>[25.0, 36.0, 16.0, 51.0, 12.0, 107.0, 1735.0, ...</td>\n",
              "      <td>[0.018831367, 0.035818946, 0.0077520767, 0.030...</td>\n",
              "      <td>None</td>\n",
              "    </tr>\n",
              "  </tbody>\n",
              "</table>\n",
              "<p>19675 rows × 4 columns</p>\n",
              "</div>"
            ],
            "text/plain": [
              "         idx  ... word_important_order\n",
              "0          3  ...                 None\n",
              "1          5  ...                 None\n",
              "2          7  ...                 None\n",
              "3          8  ...                 None\n",
              "4         16  ...                 None\n",
              "...      ...  ...                  ...\n",
              "19670  19668  ...                 None\n",
              "19671  19669  ...                 None\n",
              "19672  19670  ...                 None\n",
              "19673  19672  ...                 None\n",
              "19674  19673  ...                 None\n",
              "\n",
              "[19675 rows x 4 columns]"
            ]
          },
          "metadata": {
            "tags": []
          },
          "execution_count": 67
        }
      ]
    },
    {
      "cell_type": "code",
      "metadata": {
        "id": "sbo1JBBNFaqq"
      },
      "source": [
        "for res_idx in res.index:\n",
        "  rank = np.argsort(res.weights.loc[res_idx])[::-1]\n",
        "  word_important = []\n",
        "  for r in rank:\n",
        "    rank_wrdidx = res.data.loc[res_idx][r]\n",
        "    word_important += [w for w,v in word_index.items() if v == rank_wrdidx]\n",
        "  res.word_important_order.loc[res_idx] = word_important"
      ],
      "id": "sbo1JBBNFaqq",
      "execution_count": null,
      "outputs": []
    },
    {
      "cell_type": "code",
      "metadata": {
        "id": "2Lx9dhGiM4zb"
      },
      "source": [
        "res.to_csv('word_importance_res.csv',index = False)"
      ],
      "id": "2Lx9dhGiM4zb",
      "execution_count": null,
      "outputs": []
    },
    {
      "cell_type": "code",
      "metadata": {
        "id": "A70ltXOou-Sl"
      },
      "source": [
        "df = pd.read_csv('df_clean_2.csv')"
      ],
      "id": "A70ltXOou-Sl",
      "execution_count": null,
      "outputs": []
    },
    {
      "cell_type": "code",
      "metadata": {
        "colab": {
          "base_uri": "https://localhost:8080/",
          "height": 406
        },
        "id": "NLRCD1BqJTP0",
        "outputId": "b4c6b867-f728-45ab-8fc8-58f479b18504"
      },
      "source": [
        "res"
      ],
      "id": "NLRCD1BqJTP0",
      "execution_count": null,
      "outputs": [
        {
          "output_type": "execute_result",
          "data": {
            "text/html": [
              "<div>\n",
              "<style scoped>\n",
              "    .dataframe tbody tr th:only-of-type {\n",
              "        vertical-align: middle;\n",
              "    }\n",
              "\n",
              "    .dataframe tbody tr th {\n",
              "        vertical-align: top;\n",
              "    }\n",
              "\n",
              "    .dataframe thead th {\n",
              "        text-align: right;\n",
              "    }\n",
              "</style>\n",
              "<table border=\"1\" class=\"dataframe\">\n",
              "  <thead>\n",
              "    <tr style=\"text-align: right;\">\n",
              "      <th></th>\n",
              "      <th>idx</th>\n",
              "      <th>data</th>\n",
              "      <th>weights</th>\n",
              "      <th>word_important_order</th>\n",
              "    </tr>\n",
              "  </thead>\n",
              "  <tbody>\n",
              "    <tr>\n",
              "      <th>0</th>\n",
              "      <td>3</td>\n",
              "      <td>[19.0, 12.0, 1.0, 25.0, 91.0, 2.0, 20.0, 1846....</td>\n",
              "      <td>[0.040760167, 0.06857426, 0.017609911, 0.01233...</td>\n",
              "      <td>[would, for, out, full, not, idea, petite, tra...</td>\n",
              "    </tr>\n",
              "    <tr>\n",
              "      <th>1</th>\n",
              "      <td>5</td>\n",
              "      <td>[1106.0, 927.0, 415.0, 14.0, 559.0, 2.0, 60.0,...</td>\n",
              "      <td>[0.023626607, 0.02280329, 0.030459424, 0.06419...</td>\n",
              "      <td>[i, this, lots, with, goes, ordered, swimmer, ...</td>\n",
              "    </tr>\n",
              "    <tr>\n",
              "      <th>2</th>\n",
              "      <td>7</td>\n",
              "      <td>[320.0, 5.0, 211.0, 16.0, 2.0, 35.0, 43.0, 43....</td>\n",
              "      <td>[0.09773841, 0.019008406, 0.0631164, 0.0958843...</td>\n",
              "      <td>[i, such, dress, fun, m, 5, love, a, les, i, 5...</td>\n",
              "    </tr>\n",
              "    <tr>\n",
              "      <th>3</th>\n",
              "      <td>8</td>\n",
              "      <td>[16.0, 79.0, 30.0, 4.0, 23.0, 114.0, 13.0, 474...</td>\n",
              "      <td>[0.0073302165, 0.0060432954, 0.014174643, 0.01...</td>\n",
              "      <td>[back, cheap, disappointed, material, made, ch...</td>\n",
              "    </tr>\n",
              "    <tr>\n",
              "      <th>4</th>\n",
              "      <td>16</td>\n",
              "      <td>[364.0, 3.0, 66.0, 2.0, 20.0, 1.0, 55.0, 3.0, ...</td>\n",
              "      <td>[0.044403583, 0.027346333, 0.06585234, 0.49293...</td>\n",
              "      <td>[i, love, comfortable, stylish, the, and, i, l...</td>\n",
              "    </tr>\n",
              "    <tr>\n",
              "      <th>...</th>\n",
              "      <td>...</td>\n",
              "      <td>...</td>\n",
              "      <td>...</td>\n",
              "      <td>...</td>\n",
              "    </tr>\n",
              "    <tr>\n",
              "      <th>19670</th>\n",
              "      <td>19668</td>\n",
              "      <td>[52.0, 2.0, 17.0, 506.0, 49.0, 1.0, 1440.0, 15...</td>\n",
              "      <td>[0.03934036, 0.08058521, 0.024694284, 0.082041...</td>\n",
              "      <td>[return, surprised, i, at, the, great, flatter...</td>\n",
              "    </tr>\n",
              "    <tr>\n",
              "      <th>19671</th>\n",
              "      <td>19669</td>\n",
              "      <td>[165.0, 5.0, 211.0, 178.0, 15.0, 2.0, 296.0, 2...</td>\n",
              "      <td>[0.022172699, 0.011383755, 0.07410861, 0.06178...</td>\n",
              "      <td>[i, i, fun, i, so, piece, true, 2, 5, what, i,...</td>\n",
              "    </tr>\n",
              "    <tr>\n",
              "      <th>19672</th>\n",
              "      <td>19670</td>\n",
              "      <td>[29.0, 16.0, 12.0, 203.0, 1046.0, 2.0, 17.0, 2...</td>\n",
              "      <td>[0.044185944, 0.02425993, 0.03599548, 0.075247...</td>\n",
              "      <td>[this, happy, i, many, to, occasions, great, s...</td>\n",
              "    </tr>\n",
              "    <tr>\n",
              "      <th>19673</th>\n",
              "      <td>19672</td>\n",
              "      <td>[36.0, 10.0, 129.0, 208.0, 7.0, 28.0, 69.0, 10...</td>\n",
              "      <td>[0.07489003, 0.0074996953, 0.010097302, 0.0175...</td>\n",
              "      <td>[through, see, would, was, cut, well, never, f...</td>\n",
              "    </tr>\n",
              "    <tr>\n",
              "      <th>19674</th>\n",
              "      <td>19673</td>\n",
              "      <td>[25.0, 36.0, 16.0, 51.0, 12.0, 107.0, 1735.0, ...</td>\n",
              "      <td>[0.018831367, 0.035818946, 0.0077520767, 0.030...</td>\n",
              "      <td>[this, this, i, i, summer, bought, parties, cu...</td>\n",
              "    </tr>\n",
              "  </tbody>\n",
              "</table>\n",
              "<p>19675 rows × 4 columns</p>\n",
              "</div>"
            ],
            "text/plain": [
              "         idx  ...                               word_important_order\n",
              "0          3  ...  [would, for, out, full, not, idea, petite, tra...\n",
              "1          5  ...  [i, this, lots, with, goes, ordered, swimmer, ...\n",
              "2          7  ...  [i, such, dress, fun, m, 5, love, a, les, i, 5...\n",
              "3          8  ...  [back, cheap, disappointed, material, made, ch...\n",
              "4         16  ...  [i, love, comfortable, stylish, the, and, i, l...\n",
              "...      ...  ...                                                ...\n",
              "19670  19668  ...  [return, surprised, i, at, the, great, flatter...\n",
              "19671  19669  ...  [i, i, fun, i, so, piece, true, 2, 5, what, i,...\n",
              "19672  19670  ...  [this, happy, i, many, to, occasions, great, s...\n",
              "19673  19672  ...  [through, see, would, was, cut, well, never, f...\n",
              "19674  19673  ...  [this, this, i, i, summer, bought, parties, cu...\n",
              "\n",
              "[19675 rows x 4 columns]"
            ]
          },
          "metadata": {
            "tags": []
          },
          "execution_count": 80
        }
      ]
    },
    {
      "cell_type": "code",
      "metadata": {
        "id": "QkRXvKSCugXe"
      },
      "source": [
        "df = df.reset_index(drop=True)"
      ],
      "id": "QkRXvKSCugXe",
      "execution_count": null,
      "outputs": []
    },
    {
      "cell_type": "code",
      "metadata": {
        "id": "s_Pr6F15ul9V"
      },
      "source": [
        "merge = df.merge(res, left_index=True, right_on = 'idx')"
      ],
      "id": "s_Pr6F15ul9V",
      "execution_count": null,
      "outputs": []
    },
    {
      "cell_type": "code",
      "metadata": {
        "id": "XH5_ls4Ovkm_"
      },
      "source": [
        "merge.to_csv('word_res_merge.csv',index=False)"
      ],
      "id": "XH5_ls4Ovkm_",
      "execution_count": null,
      "outputs": []
    },
    {
      "cell_type": "code",
      "metadata": {
        "colab": {
          "base_uri": "https://localhost:8080/",
          "height": 51
        },
        "id": "0LNOlg1tuzx9",
        "outputId": "2c820af5-741b-4182-e502-a51bd9537d67"
      },
      "source": [
        "merge.text.iloc[100]"
      ],
      "id": "0LNOlg1tuzx9",
      "execution_count": null,
      "outputs": [
        {
          "output_type": "execute_result",
          "data": {
            "application/vnd.google.colaboratory.intrinsic+json": {
              "type": "string"
            },
            "text/plain": [
              "'pernetti henry in my retailer this was hung over in the pp section and it really has more of a jammed top feel soft thin and stretch it s super copy and comfortable and it draped really nice mine seems to have stretched out a little especially the decline and the little buttons have a hard time staying closed i m happy with it though for what it is a great casual day t '"
            ]
          },
          "metadata": {
            "tags": []
          },
          "execution_count": 107
        }
      ]
    },
    {
      "cell_type": "code",
      "metadata": {
        "colab": {
          "base_uri": "https://localhost:8080/"
        },
        "id": "OoyOUnRtvSSB",
        "outputId": "5a54a914-f7b6-44a0-c891-502a9c7ed97d"
      },
      "source": [
        "merge.word_important_order.iloc[100]"
      ],
      "id": "OoyOUnRtvSSB",
      "execution_count": null,
      "outputs": [
        {
          "output_type": "execute_result",
          "data": {
            "text/plain": [
              "['comfortable',\n",
              " 'nice',\n",
              " 'mine',\n",
              " 'with',\n",
              " 'really',\n",
              " 'copy',\n",
              " 'and',\n",
              " 'it',\n",
              " 'draped',\n",
              " 'casual',\n",
              " 'pernetti',\n",
              " 'and',\n",
              " 'have',\n",
              " 'it',\n",
              " 'henry',\n",
              " 'happy',\n",
              " 'has',\n",
              " 'out',\n",
              " 'really',\n",
              " 'have',\n",
              " 'little',\n",
              " 'seems',\n",
              " 'great',\n",
              " 'for',\n",
              " 'super',\n",
              " 'little',\n",
              " 'day',\n",
              " 's',\n",
              " 'to',\n",
              " 'thin',\n",
              " 'it',\n",
              " 'it',\n",
              " 'my',\n",
              " 'buttons',\n",
              " 'feel',\n",
              " 'especially',\n",
              " 'soft',\n",
              " 'though',\n",
              " 'of',\n",
              " 'is',\n",
              " 'decline',\n",
              " 'and',\n",
              " 'it',\n",
              " 'and',\n",
              " 'stretch',\n",
              " 'hard',\n",
              " 'hung',\n",
              " 'and',\n",
              " 'pp',\n",
              " 'section',\n",
              " 'i',\n",
              " 'more',\n",
              " 'in',\n",
              " 'm',\n",
              " 'the',\n",
              " 'what',\n",
              " 'the',\n",
              " 'was',\n",
              " 'jammed',\n",
              " 'stretched',\n",
              " 'staying',\n",
              " 'a',\n",
              " 'the',\n",
              " 'time',\n",
              " 'closed',\n",
              " 'over',\n",
              " 'this',\n",
              " 't',\n",
              " 'a',\n",
              " 'top',\n",
              " 'a',\n",
              " 'a',\n",
              " 'retailer',\n",
              " 'in']"
            ]
          },
          "metadata": {
            "tags": []
          },
          "execution_count": 108
        }
      ]
    },
    {
      "cell_type": "code",
      "metadata": {
        "colab": {
          "base_uri": "https://localhost:8080/",
          "height": 421
        },
        "id": "V_I-ZHvtooIW",
        "outputId": "950f2f96-c503-4d35-c335-322385fc3294"
      },
      "source": [
        "df.data.iloc[3] = res[res.idx == 3].data"
      ],
      "id": "V_I-ZHvtooIW",
      "execution_count": null,
      "outputs": [
        {
          "output_type": "error",
          "ename": "ValueError",
          "evalue": "ignored",
          "traceback": [
            "\u001b[0;31m---------------------------------------------------------------------------\u001b[0m",
            "\u001b[0;31mKeyError\u001b[0m                                  Traceback (most recent call last)",
            "\u001b[0;32m/usr/local/lib/python3.7/dist-packages/pandas/core/generic.py\u001b[0m in \u001b[0;36m_get_axis_number\u001b[0;34m(cls, axis)\u001b[0m\n\u001b[1;32m    367\u001b[0m         \u001b[0;32mtry\u001b[0m\u001b[0;34m:\u001b[0m\u001b[0;34m\u001b[0m\u001b[0;34m\u001b[0m\u001b[0m\n\u001b[0;32m--> 368\u001b[0;31m             \u001b[0;32mreturn\u001b[0m \u001b[0mcls\u001b[0m\u001b[0;34m.\u001b[0m\u001b[0m_AXIS_TO_AXIS_NUMBER\u001b[0m\u001b[0;34m[\u001b[0m\u001b[0maxis\u001b[0m\u001b[0;34m]\u001b[0m\u001b[0;34m\u001b[0m\u001b[0;34m\u001b[0m\u001b[0m\n\u001b[0m\u001b[1;32m    369\u001b[0m         \u001b[0;32mexcept\u001b[0m \u001b[0mKeyError\u001b[0m\u001b[0;34m:\u001b[0m\u001b[0;34m\u001b[0m\u001b[0;34m\u001b[0m\u001b[0m\n",
            "\u001b[0;31mKeyError\u001b[0m: 1",
            "\nDuring handling of the above exception, another exception occurred:\n",
            "\u001b[0;31mValueError\u001b[0m                                Traceback (most recent call last)",
            "\u001b[0;32m<ipython-input-100-7a1ec774e2b0>\u001b[0m in \u001b[0;36m<module>\u001b[0;34m()\u001b[0m\n\u001b[0;32m----> 1\u001b[0;31m \u001b[0mdf\u001b[0m\u001b[0;34m.\u001b[0m\u001b[0mdata\u001b[0m\u001b[0;34m.\u001b[0m\u001b[0miloc\u001b[0m\u001b[0;34m[\u001b[0m\u001b[0;36m3\u001b[0m\u001b[0;34m]\u001b[0m \u001b[0;34m=\u001b[0m \u001b[0mres\u001b[0m\u001b[0;34m[\u001b[0m\u001b[0mres\u001b[0m\u001b[0;34m.\u001b[0m\u001b[0midx\u001b[0m \u001b[0;34m==\u001b[0m \u001b[0;36m3\u001b[0m\u001b[0;34m]\u001b[0m\u001b[0;34m.\u001b[0m\u001b[0mdata\u001b[0m\u001b[0;34m\u001b[0m\u001b[0;34m\u001b[0m\u001b[0m\n\u001b[0m",
            "\u001b[0;32m/usr/local/lib/python3.7/dist-packages/pandas/core/indexing.py\u001b[0m in \u001b[0;36m__setitem__\u001b[0;34m(self, key, value)\u001b[0m\n\u001b[1;32m    668\u001b[0m \u001b[0;34m\u001b[0m\u001b[0m\n\u001b[1;32m    669\u001b[0m         \u001b[0miloc\u001b[0m \u001b[0;34m=\u001b[0m \u001b[0mself\u001b[0m \u001b[0;32mif\u001b[0m \u001b[0mself\u001b[0m\u001b[0;34m.\u001b[0m\u001b[0mname\u001b[0m \u001b[0;34m==\u001b[0m \u001b[0;34m\"iloc\"\u001b[0m \u001b[0;32melse\u001b[0m \u001b[0mself\u001b[0m\u001b[0;34m.\u001b[0m\u001b[0mobj\u001b[0m\u001b[0;34m.\u001b[0m\u001b[0miloc\u001b[0m\u001b[0;34m\u001b[0m\u001b[0;34m\u001b[0m\u001b[0m\n\u001b[0;32m--> 670\u001b[0;31m         \u001b[0miloc\u001b[0m\u001b[0;34m.\u001b[0m\u001b[0m_setitem_with_indexer\u001b[0m\u001b[0;34m(\u001b[0m\u001b[0mindexer\u001b[0m\u001b[0;34m,\u001b[0m \u001b[0mvalue\u001b[0m\u001b[0;34m)\u001b[0m\u001b[0;34m\u001b[0m\u001b[0;34m\u001b[0m\u001b[0m\n\u001b[0m\u001b[1;32m    671\u001b[0m \u001b[0;34m\u001b[0m\u001b[0m\n\u001b[1;32m    672\u001b[0m     \u001b[0;32mdef\u001b[0m \u001b[0m_validate_key\u001b[0m\u001b[0;34m(\u001b[0m\u001b[0mself\u001b[0m\u001b[0;34m,\u001b[0m \u001b[0mkey\u001b[0m\u001b[0;34m,\u001b[0m \u001b[0maxis\u001b[0m\u001b[0;34m:\u001b[0m \u001b[0mint\u001b[0m\u001b[0;34m)\u001b[0m\u001b[0;34m:\u001b[0m\u001b[0;34m\u001b[0m\u001b[0;34m\u001b[0m\u001b[0m\n",
            "\u001b[0;32m/usr/local/lib/python3.7/dist-packages/pandas/core/indexing.py\u001b[0m in \u001b[0;36m_setitem_with_indexer\u001b[0;34m(self, indexer, value)\u001b[0m\n\u001b[1;32m   1788\u001b[0m                 \u001b[0;31m# setting for extensionarrays that store dicts. Need to decide\u001b[0m\u001b[0;34m\u001b[0m\u001b[0;34m\u001b[0m\u001b[0;34m\u001b[0m\u001b[0m\n\u001b[1;32m   1789\u001b[0m                 \u001b[0;31m# if it's worth supporting that.\u001b[0m\u001b[0;34m\u001b[0m\u001b[0;34m\u001b[0m\u001b[0;34m\u001b[0m\u001b[0m\n\u001b[0;32m-> 1790\u001b[0;31m                 \u001b[0mvalue\u001b[0m \u001b[0;34m=\u001b[0m \u001b[0mself\u001b[0m\u001b[0;34m.\u001b[0m\u001b[0m_align_series\u001b[0m\u001b[0;34m(\u001b[0m\u001b[0mindexer\u001b[0m\u001b[0;34m,\u001b[0m \u001b[0mSeries\u001b[0m\u001b[0;34m(\u001b[0m\u001b[0mvalue\u001b[0m\u001b[0;34m)\u001b[0m\u001b[0;34m)\u001b[0m\u001b[0;34m\u001b[0m\u001b[0;34m\u001b[0m\u001b[0m\n\u001b[0m\u001b[1;32m   1791\u001b[0m \u001b[0;34m\u001b[0m\u001b[0m\n\u001b[1;32m   1792\u001b[0m             \u001b[0;32melif\u001b[0m \u001b[0misinstance\u001b[0m\u001b[0;34m(\u001b[0m\u001b[0mvalue\u001b[0m\u001b[0;34m,\u001b[0m \u001b[0mABCDataFrame\u001b[0m\u001b[0;34m)\u001b[0m\u001b[0;34m:\u001b[0m\u001b[0;34m\u001b[0m\u001b[0;34m\u001b[0m\u001b[0m\n",
            "\u001b[0;32m/usr/local/lib/python3.7/dist-packages/pandas/core/indexing.py\u001b[0m in \u001b[0;36m_align_series\u001b[0;34m(self, indexer, ser, multiindex_indexer)\u001b[0m\n\u001b[1;32m   1943\u001b[0m \u001b[0;34m\u001b[0m\u001b[0m\n\u001b[1;32m   1944\u001b[0m         \u001b[0;32melif\u001b[0m \u001b[0mis_scalar\u001b[0m\u001b[0;34m(\u001b[0m\u001b[0mindexer\u001b[0m\u001b[0;34m)\u001b[0m\u001b[0;34m:\u001b[0m\u001b[0;34m\u001b[0m\u001b[0;34m\u001b[0m\u001b[0m\n\u001b[0;32m-> 1945\u001b[0;31m             \u001b[0max\u001b[0m \u001b[0;34m=\u001b[0m \u001b[0mself\u001b[0m\u001b[0;34m.\u001b[0m\u001b[0mobj\u001b[0m\u001b[0;34m.\u001b[0m\u001b[0m_get_axis\u001b[0m\u001b[0;34m(\u001b[0m\u001b[0;36m1\u001b[0m\u001b[0;34m)\u001b[0m\u001b[0;34m\u001b[0m\u001b[0;34m\u001b[0m\u001b[0m\n\u001b[0m\u001b[1;32m   1946\u001b[0m \u001b[0;34m\u001b[0m\u001b[0m\n\u001b[1;32m   1947\u001b[0m             \u001b[0;32mif\u001b[0m \u001b[0mser\u001b[0m\u001b[0;34m.\u001b[0m\u001b[0mindex\u001b[0m\u001b[0;34m.\u001b[0m\u001b[0mequals\u001b[0m\u001b[0;34m(\u001b[0m\u001b[0max\u001b[0m\u001b[0;34m)\u001b[0m\u001b[0;34m:\u001b[0m\u001b[0;34m\u001b[0m\u001b[0;34m\u001b[0m\u001b[0m\n",
            "\u001b[0;32m/usr/local/lib/python3.7/dist-packages/pandas/core/generic.py\u001b[0m in \u001b[0;36m_get_axis\u001b[0;34m(self, axis)\u001b[0m\n\u001b[1;32m    376\u001b[0m \u001b[0;34m\u001b[0m\u001b[0m\n\u001b[1;32m    377\u001b[0m     \u001b[0;32mdef\u001b[0m \u001b[0m_get_axis\u001b[0m\u001b[0;34m(\u001b[0m\u001b[0mself\u001b[0m\u001b[0;34m,\u001b[0m \u001b[0maxis\u001b[0m\u001b[0;34m:\u001b[0m \u001b[0mAxis\u001b[0m\u001b[0;34m)\u001b[0m \u001b[0;34m->\u001b[0m \u001b[0mIndex\u001b[0m\u001b[0;34m:\u001b[0m\u001b[0;34m\u001b[0m\u001b[0;34m\u001b[0m\u001b[0m\n\u001b[0;32m--> 378\u001b[0;31m         \u001b[0maxis_number\u001b[0m \u001b[0;34m=\u001b[0m \u001b[0mself\u001b[0m\u001b[0;34m.\u001b[0m\u001b[0m_get_axis_number\u001b[0m\u001b[0;34m(\u001b[0m\u001b[0maxis\u001b[0m\u001b[0;34m)\u001b[0m\u001b[0;34m\u001b[0m\u001b[0;34m\u001b[0m\u001b[0m\n\u001b[0m\u001b[1;32m    379\u001b[0m         \u001b[0;32massert\u001b[0m \u001b[0maxis_number\u001b[0m \u001b[0;32min\u001b[0m \u001b[0;34m{\u001b[0m\u001b[0;36m0\u001b[0m\u001b[0;34m,\u001b[0m \u001b[0;36m1\u001b[0m\u001b[0;34m}\u001b[0m\u001b[0;34m\u001b[0m\u001b[0;34m\u001b[0m\u001b[0m\n\u001b[1;32m    380\u001b[0m         \u001b[0;32mreturn\u001b[0m \u001b[0mself\u001b[0m\u001b[0;34m.\u001b[0m\u001b[0mindex\u001b[0m \u001b[0;32mif\u001b[0m \u001b[0maxis_number\u001b[0m \u001b[0;34m==\u001b[0m \u001b[0;36m0\u001b[0m \u001b[0;32melse\u001b[0m \u001b[0mself\u001b[0m\u001b[0;34m.\u001b[0m\u001b[0mcolumns\u001b[0m\u001b[0;34m\u001b[0m\u001b[0;34m\u001b[0m\u001b[0m\n",
            "\u001b[0;32m/usr/local/lib/python3.7/dist-packages/pandas/core/generic.py\u001b[0m in \u001b[0;36m_get_axis_number\u001b[0;34m(cls, axis)\u001b[0m\n\u001b[1;32m    368\u001b[0m             \u001b[0;32mreturn\u001b[0m \u001b[0mcls\u001b[0m\u001b[0;34m.\u001b[0m\u001b[0m_AXIS_TO_AXIS_NUMBER\u001b[0m\u001b[0;34m[\u001b[0m\u001b[0maxis\u001b[0m\u001b[0;34m]\u001b[0m\u001b[0;34m\u001b[0m\u001b[0;34m\u001b[0m\u001b[0m\n\u001b[1;32m    369\u001b[0m         \u001b[0;32mexcept\u001b[0m \u001b[0mKeyError\u001b[0m\u001b[0;34m:\u001b[0m\u001b[0;34m\u001b[0m\u001b[0;34m\u001b[0m\u001b[0m\n\u001b[0;32m--> 370\u001b[0;31m             \u001b[0;32mraise\u001b[0m \u001b[0mValueError\u001b[0m\u001b[0;34m(\u001b[0m\u001b[0;34mf\"No axis named {axis} for object type {cls.__name__}\"\u001b[0m\u001b[0;34m)\u001b[0m\u001b[0;34m\u001b[0m\u001b[0;34m\u001b[0m\u001b[0m\n\u001b[0m\u001b[1;32m    371\u001b[0m \u001b[0;34m\u001b[0m\u001b[0m\n\u001b[1;32m    372\u001b[0m     \u001b[0;34m@\u001b[0m\u001b[0mclassmethod\u001b[0m\u001b[0;34m\u001b[0m\u001b[0;34m\u001b[0m\u001b[0m\n",
            "\u001b[0;31mValueError\u001b[0m: No axis named 1 for object type Series"
          ]
        }
      ]
    },
    {
      "cell_type": "code",
      "metadata": {
        "colab": {
          "base_uri": "https://localhost:8080/",
          "height": 371
        },
        "id": "A2GGPeQOl_D2",
        "outputId": "c4b6d689-a006-4be7-ed4e-351bb9ff0457"
      },
      "source": [
        "df['data'] = None\n",
        "df['weights'] = None\n",
        "df['word_important_order'] = None\n",
        "for idx_res in res.idx:\n",
        "  df.loc[idx_res,'data'] = res[res.idx == idx_res].data\n",
        "  df.loc[idx_res,'weights'] = res[res.idx == idx_res].weights\n",
        "  df.loc[idx_res,'word_important_order'] = res[res.idx == idx_res].word_important_order"
      ],
      "id": "A2GGPeQOl_D2",
      "execution_count": null,
      "outputs": [
        {
          "output_type": "error",
          "ename": "ValueError",
          "evalue": "ignored",
          "traceback": [
            "\u001b[0;31m---------------------------------------------------------------------------\u001b[0m",
            "\u001b[0;31mValueError\u001b[0m                                Traceback (most recent call last)",
            "\u001b[0;32m<ipython-input-86-c026c86c8160>\u001b[0m in \u001b[0;36m<module>\u001b[0;34m()\u001b[0m\n\u001b[1;32m      3\u001b[0m \u001b[0mdf\u001b[0m\u001b[0;34m[\u001b[0m\u001b[0;34m'word_important_order'\u001b[0m\u001b[0;34m]\u001b[0m \u001b[0;34m=\u001b[0m \u001b[0;32mNone\u001b[0m\u001b[0;34m\u001b[0m\u001b[0;34m\u001b[0m\u001b[0m\n\u001b[1;32m      4\u001b[0m \u001b[0;32mfor\u001b[0m \u001b[0midx_res\u001b[0m \u001b[0;32min\u001b[0m \u001b[0mres\u001b[0m\u001b[0;34m.\u001b[0m\u001b[0midx\u001b[0m\u001b[0;34m:\u001b[0m\u001b[0;34m\u001b[0m\u001b[0;34m\u001b[0m\u001b[0m\n\u001b[0;32m----> 5\u001b[0;31m   \u001b[0mdf\u001b[0m\u001b[0;34m.\u001b[0m\u001b[0mloc\u001b[0m\u001b[0;34m[\u001b[0m\u001b[0midx_res\u001b[0m\u001b[0;34m,\u001b[0m\u001b[0;34m'data'\u001b[0m\u001b[0;34m]\u001b[0m \u001b[0;34m=\u001b[0m \u001b[0mres\u001b[0m\u001b[0;34m[\u001b[0m\u001b[0mres\u001b[0m\u001b[0;34m.\u001b[0m\u001b[0midx\u001b[0m \u001b[0;34m==\u001b[0m \u001b[0midx_res\u001b[0m\u001b[0;34m]\u001b[0m\u001b[0;34m.\u001b[0m\u001b[0mdata\u001b[0m\u001b[0;34m\u001b[0m\u001b[0;34m\u001b[0m\u001b[0m\n\u001b[0m\u001b[1;32m      6\u001b[0m   \u001b[0mdf\u001b[0m\u001b[0;34m.\u001b[0m\u001b[0mloc\u001b[0m\u001b[0;34m[\u001b[0m\u001b[0midx_res\u001b[0m\u001b[0;34m,\u001b[0m\u001b[0;34m'weights'\u001b[0m\u001b[0;34m]\u001b[0m \u001b[0;34m=\u001b[0m \u001b[0mres\u001b[0m\u001b[0;34m[\u001b[0m\u001b[0mres\u001b[0m\u001b[0;34m.\u001b[0m\u001b[0midx\u001b[0m \u001b[0;34m==\u001b[0m \u001b[0midx_res\u001b[0m\u001b[0;34m]\u001b[0m\u001b[0;34m.\u001b[0m\u001b[0mweights\u001b[0m\u001b[0;34m\u001b[0m\u001b[0;34m\u001b[0m\u001b[0m\n\u001b[1;32m      7\u001b[0m   \u001b[0mdf\u001b[0m\u001b[0;34m.\u001b[0m\u001b[0mloc\u001b[0m\u001b[0;34m[\u001b[0m\u001b[0midx_res\u001b[0m\u001b[0;34m,\u001b[0m\u001b[0;34m'word_important_order'\u001b[0m\u001b[0;34m]\u001b[0m \u001b[0;34m=\u001b[0m \u001b[0mres\u001b[0m\u001b[0;34m[\u001b[0m\u001b[0mres\u001b[0m\u001b[0;34m.\u001b[0m\u001b[0midx\u001b[0m \u001b[0;34m==\u001b[0m \u001b[0midx_res\u001b[0m\u001b[0;34m]\u001b[0m\u001b[0;34m.\u001b[0m\u001b[0mword_important_order\u001b[0m\u001b[0;34m\u001b[0m\u001b[0;34m\u001b[0m\u001b[0m\n",
            "\u001b[0;32m/usr/local/lib/python3.7/dist-packages/pandas/core/indexing.py\u001b[0m in \u001b[0;36m__setitem__\u001b[0;34m(self, key, value)\u001b[0m\n\u001b[1;32m    668\u001b[0m \u001b[0;34m\u001b[0m\u001b[0m\n\u001b[1;32m    669\u001b[0m         \u001b[0miloc\u001b[0m \u001b[0;34m=\u001b[0m \u001b[0mself\u001b[0m \u001b[0;32mif\u001b[0m \u001b[0mself\u001b[0m\u001b[0;34m.\u001b[0m\u001b[0mname\u001b[0m \u001b[0;34m==\u001b[0m \u001b[0;34m\"iloc\"\u001b[0m \u001b[0;32melse\u001b[0m \u001b[0mself\u001b[0m\u001b[0;34m.\u001b[0m\u001b[0mobj\u001b[0m\u001b[0;34m.\u001b[0m\u001b[0miloc\u001b[0m\u001b[0;34m\u001b[0m\u001b[0;34m\u001b[0m\u001b[0m\n\u001b[0;32m--> 670\u001b[0;31m         \u001b[0miloc\u001b[0m\u001b[0;34m.\u001b[0m\u001b[0m_setitem_with_indexer\u001b[0m\u001b[0;34m(\u001b[0m\u001b[0mindexer\u001b[0m\u001b[0;34m,\u001b[0m \u001b[0mvalue\u001b[0m\u001b[0;34m)\u001b[0m\u001b[0;34m\u001b[0m\u001b[0;34m\u001b[0m\u001b[0m\n\u001b[0m\u001b[1;32m    671\u001b[0m \u001b[0;34m\u001b[0m\u001b[0m\n\u001b[1;32m    672\u001b[0m     \u001b[0;32mdef\u001b[0m \u001b[0m_validate_key\u001b[0m\u001b[0;34m(\u001b[0m\u001b[0mself\u001b[0m\u001b[0;34m,\u001b[0m \u001b[0mkey\u001b[0m\u001b[0;34m,\u001b[0m \u001b[0maxis\u001b[0m\u001b[0;34m:\u001b[0m \u001b[0mint\u001b[0m\u001b[0;34m)\u001b[0m\u001b[0;34m:\u001b[0m\u001b[0;34m\u001b[0m\u001b[0;34m\u001b[0m\u001b[0m\n",
            "\u001b[0;32m/usr/local/lib/python3.7/dist-packages/pandas/core/indexing.py\u001b[0m in \u001b[0;36m_setitem_with_indexer\u001b[0;34m(self, indexer, value)\u001b[0m\n\u001b[1;32m   1640\u001b[0m \u001b[0;34m\u001b[0m\u001b[0m\n\u001b[1;32m   1641\u001b[0m             \u001b[0;32mif\u001b[0m \u001b[0misinstance\u001b[0m\u001b[0;34m(\u001b[0m\u001b[0mvalue\u001b[0m\u001b[0;34m,\u001b[0m \u001b[0mABCSeries\u001b[0m\u001b[0;34m)\u001b[0m\u001b[0;34m:\u001b[0m\u001b[0;34m\u001b[0m\u001b[0;34m\u001b[0m\u001b[0m\n\u001b[0;32m-> 1642\u001b[0;31m                 \u001b[0mvalue\u001b[0m \u001b[0;34m=\u001b[0m \u001b[0mself\u001b[0m\u001b[0;34m.\u001b[0m\u001b[0m_align_series\u001b[0m\u001b[0;34m(\u001b[0m\u001b[0mindexer\u001b[0m\u001b[0;34m,\u001b[0m \u001b[0mvalue\u001b[0m\u001b[0;34m)\u001b[0m\u001b[0;34m\u001b[0m\u001b[0;34m\u001b[0m\u001b[0m\n\u001b[0m\u001b[1;32m   1643\u001b[0m \u001b[0;34m\u001b[0m\u001b[0m\n\u001b[1;32m   1644\u001b[0m             \u001b[0minfo_idx\u001b[0m \u001b[0;34m=\u001b[0m \u001b[0mindexer\u001b[0m\u001b[0;34m[\u001b[0m\u001b[0minfo_axis\u001b[0m\u001b[0;34m]\u001b[0m\u001b[0;34m\u001b[0m\u001b[0;34m\u001b[0m\u001b[0m\n",
            "\u001b[0;32m/usr/local/lib/python3.7/dist-packages/pandas/core/indexing.py\u001b[0m in \u001b[0;36m_align_series\u001b[0;34m(self, indexer, ser, multiindex_indexer)\u001b[0m\n\u001b[1;32m   1950\u001b[0m             \u001b[0;32mreturn\u001b[0m \u001b[0mser\u001b[0m\u001b[0;34m.\u001b[0m\u001b[0mreindex\u001b[0m\u001b[0;34m(\u001b[0m\u001b[0max\u001b[0m\u001b[0;34m)\u001b[0m\u001b[0;34m.\u001b[0m\u001b[0m_values\u001b[0m\u001b[0;34m\u001b[0m\u001b[0;34m\u001b[0m\u001b[0m\n\u001b[1;32m   1951\u001b[0m \u001b[0;34m\u001b[0m\u001b[0m\n\u001b[0;32m-> 1952\u001b[0;31m         \u001b[0;32mraise\u001b[0m \u001b[0mValueError\u001b[0m\u001b[0;34m(\u001b[0m\u001b[0;34m\"Incompatible indexer with Series\"\u001b[0m\u001b[0;34m)\u001b[0m\u001b[0;34m\u001b[0m\u001b[0;34m\u001b[0m\u001b[0m\n\u001b[0m\u001b[1;32m   1953\u001b[0m \u001b[0;34m\u001b[0m\u001b[0m\n\u001b[1;32m   1954\u001b[0m     \u001b[0;32mdef\u001b[0m \u001b[0m_align_frame\u001b[0m\u001b[0;34m(\u001b[0m\u001b[0mself\u001b[0m\u001b[0;34m,\u001b[0m \u001b[0mindexer\u001b[0m\u001b[0;34m,\u001b[0m \u001b[0mdf\u001b[0m\u001b[0;34m:\u001b[0m \u001b[0mABCDataFrame\u001b[0m\u001b[0;34m)\u001b[0m\u001b[0;34m:\u001b[0m\u001b[0;34m\u001b[0m\u001b[0;34m\u001b[0m\u001b[0m\n",
            "\u001b[0;31mValueError\u001b[0m: Incompatible indexer with Series"
          ]
        }
      ]
    },
    {
      "cell_type": "code",
      "metadata": {
        "colab": {
          "base_uri": "https://localhost:8080/"
        },
        "id": "uDYCMH9fK7CQ",
        "outputId": "6cdacd2c-cfae-45bf-aed3-49a31c91b0a5"
      },
      "source": [
        "df['Recommended IND'].iloc[19668]"
      ],
      "id": "uDYCMH9fK7CQ",
      "execution_count": null,
      "outputs": [
        {
          "output_type": "execute_result",
          "data": {
            "text/plain": [
              "0"
            ]
          },
          "metadata": {
            "tags": []
          },
          "execution_count": 81
        }
      ]
    },
    {
      "cell_type": "code",
      "metadata": {
        "colab": {
          "base_uri": "https://localhost:8080/",
          "height": 51
        },
        "id": "fGtrKZOGKRby",
        "outputId": "1f27f0b4-3bb8-432e-9375-a1a0aa707710"
      },
      "source": [
        "df.text.iloc[19668]"
      ],
      "id": "fGtrKZOGKRby",
      "execution_count": null,
      "outputs": [
        {
          "output_type": "execute_result",
          "data": {
            "application/vnd.google.colaboratory.intrinsic+json": {
              "type": "string"
            },
            "text/plain": [
              "'flattering i was surprised at the positive reviews for this product its terrible it cuts you in a weird place to make you look wide the skirt is also not like the picture its darker and heavier the material isn great i had to return '"
            ]
          },
          "metadata": {
            "tags": []
          },
          "execution_count": 82
        }
      ]
    },
    {
      "cell_type": "code",
      "metadata": {
        "colab": {
          "base_uri": "https://localhost:8080/"
        },
        "id": "z07aOpx1JTV2",
        "outputId": "f3579ee6-04a3-4c6f-ad76-467d60a1de20"
      },
      "source": [
        "res.word_important_order[3]"
      ],
      "id": "z07aOpx1JTV2",
      "execution_count": null,
      "outputs": [
        {
          "output_type": "execute_result",
          "data": {
            "text/plain": [
              "['back',\n",
              " 'cheap',\n",
              " 'disappointed',\n",
              " 'material',\n",
              " 'made',\n",
              " 'cheap',\n",
              " 'was',\n",
              " 'to',\n",
              " 'small',\n",
              " 'area',\n",
              " 'material',\n",
              " 'nipper',\n",
              " 'where',\n",
              " 'going',\n",
              " 'tight',\n",
              " 'it',\n",
              " 'like',\n",
              " 'of',\n",
              " 'runs',\n",
              " 'esp',\n",
              " 'going',\n",
              " 's',\n",
              " 'runs',\n",
              " 'even',\n",
              " 'fabric',\n",
              " 'will',\n",
              " 'i',\n",
              " 'that',\n",
              " 'will',\n",
              " 'pretty',\n",
              " 'be',\n",
              " 'be',\n",
              " 'it',\n",
              " 'dress',\n",
              " 'feels',\n",
              " 'cause',\n",
              " 'my',\n",
              " 'which',\n",
              " 'the',\n",
              " 'pulling',\n",
              " 's',\n",
              " 'looks',\n",
              " 'the',\n",
              " 'the',\n",
              " 'as',\n",
              " 'on',\n",
              " 'and',\n",
              " 'just',\n",
              " 'looks',\n",
              " 'was',\n",
              " 'christmas',\n",
              " 'ordered',\n",
              " 'dress',\n",
              " 'the',\n",
              " 'to',\n",
              " 'on',\n",
              " 'very',\n",
              " 'this',\n",
              " 'needless',\n",
              " 'me',\n",
              " 'very',\n",
              " 'top',\n",
              " 'rip',\n",
              " 'say',\n",
              " 'it',\n",
              " 'to',\n",
              " 'the',\n",
              " 'fits',\n",
              " 'it',\n",
              " 'typically',\n",
              " 'and',\n",
              " 'it',\n",
              " 'year',\n",
              " 'dress',\n",
              " 'it']"
            ]
          },
          "metadata": {
            "tags": []
          },
          "execution_count": 75
        }
      ]
    },
    {
      "cell_type": "code",
      "metadata": {
        "id": "ZPu3_zFFJTYV"
      },
      "source": [
        ""
      ],
      "id": "ZPu3_zFFJTYV",
      "execution_count": null,
      "outputs": []
    },
    {
      "cell_type": "code",
      "metadata": {
        "colab": {
          "base_uri": "https://localhost:8080/"
        },
        "id": "W2Rm6AZEEz_9",
        "outputId": "4d3da150-0acf-44c5-bb02-14e051241a33"
      },
      "source": [
        "np.argmax(res.weights.iloc[0])"
      ],
      "id": "W2Rm6AZEEz_9",
      "execution_count": null,
      "outputs": [
        {
          "output_type": "execute_result",
          "data": {
            "text/plain": [
              "72"
            ]
          },
          "metadata": {
            "tags": []
          },
          "execution_count": 55
        }
      ]
    },
    {
      "cell_type": "code",
      "metadata": {
        "colab": {
          "base_uri": "https://localhost:8080/"
        },
        "id": "73lqEsZSEd-u",
        "outputId": "02c20762-ad5a-48f6-9b68-3d62a21d8924"
      },
      "source": [
        "res.data.iloc[0][72]"
      ],
      "id": "73lqEsZSEd-u",
      "execution_count": null,
      "outputs": [
        {
          "output_type": "execute_result",
          "data": {
            "text/plain": [
              "48.0"
            ]
          },
          "metadata": {
            "tags": []
          },
          "execution_count": 57
        }
      ]
    },
    {
      "cell_type": "code",
      "metadata": {
        "colab": {
          "base_uri": "https://localhost:8080/"
        },
        "id": "AxGDvshiEeBg",
        "outputId": "faf19b49-5250-4b5b-b21d-88fa60d4a27e"
      },
      "source": [
        "for w, v in word_index.items():\n",
        "  if v == :\n",
        "    print(w)"
      ],
      "id": "AxGDvshiEeBg",
      "execution_count": null,
      "outputs": [
        {
          "output_type": "stream",
          "text": [
            "bit\n"
          ],
          "name": "stdout"
        }
      ]
    },
    {
      "cell_type": "code",
      "metadata": {
        "id": "op8g__fnEeEY"
      },
      "source": [
        "80"
      ],
      "id": "op8g__fnEeEY",
      "execution_count": null,
      "outputs": []
    },
    {
      "cell_type": "code",
      "metadata": {
        "colab": {
          "base_uri": "https://localhost:8080/"
        },
        "id": "GOeGV0HJjUsV",
        "outputId": "14680ebf-16b1-45ea-da66-45f9101a2ce6"
      },
      "source": [
        "len(test_index_order[c-1])"
      ],
      "id": "GOeGV0HJjUsV",
      "execution_count": null,
      "outputs": [
        {
          "output_type": "execute_result",
          "data": {
            "text/plain": [
              "4918"
            ]
          },
          "metadata": {
            "tags": []
          },
          "execution_count": 117
        }
      ]
    },
    {
      "cell_type": "code",
      "metadata": {
        "id": "PKW-3IHMe7oe"
      },
      "source": [
        "model.load_weights('han_1.h5')"
      ],
      "id": "PKW-3IHMe7oe",
      "execution_count": null,
      "outputs": []
    },
    {
      "cell_type": "code",
      "metadata": {
        "colab": {
          "base_uri": "https://localhost:8080/"
        },
        "id": "jECtQslL1UMj",
        "outputId": "fa1f1452-64e0-4722-8760-9c352772b4d0"
      },
      "source": [
        "model.input"
      ],
      "id": "jECtQslL1UMj",
      "execution_count": null,
      "outputs": [
        {
          "output_type": "execute_result",
          "data": {
            "text/plain": [
              "<KerasTensor: shape=(None, 90) dtype=int32 (created by layer 'input_1')>"
            ]
          },
          "metadata": {
            "tags": []
          },
          "execution_count": 27
        }
      ]
    },
    {
      "cell_type": "code",
      "metadata": {
        "id": "vvSdQTEb8Uai"
      },
      "source": [
        "from tensorflow.python.keras import backend as K"
      ],
      "id": "vvSdQTEb8Uai",
      "execution_count": null,
      "outputs": []
    },
    {
      "cell_type": "code",
      "metadata": {
        "id": "x4A3VKKcqCDe"
      },
      "source": [
        "get_att = K.function([model.input],[model.layers[4].output])"
      ],
      "id": "x4A3VKKcqCDe",
      "execution_count": null,
      "outputs": []
    },
    {
      "cell_type": "code",
      "metadata": {
        "id": "-O7tq2Zs0XWv"
      },
      "source": [
        "data_test = data[test_index_order[0]]"
      ],
      "id": "-O7tq2Zs0XWv",
      "execution_count": null,
      "outputs": []
    },
    {
      "cell_type": "code",
      "metadata": {
        "colab": {
          "base_uri": "https://localhost:8080/"
        },
        "id": "1yfmDTo57IUR",
        "outputId": "c116ef75-f994-4d66-add9-50cceba0ea31"
      },
      "source": [
        "data_test[0][89]"
      ],
      "id": "1yfmDTo57IUR",
      "execution_count": null,
      "outputs": [
        {
          "output_type": "execute_result",
          "data": {
            "text/plain": [
              "1.0"
            ]
          },
          "metadata": {
            "tags": []
          },
          "execution_count": 67
        }
      ]
    },
    {
      "cell_type": "code",
      "metadata": {
        "colab": {
          "base_uri": "https://localhost:8080/"
        },
        "id": "Bo565-4EUKUR",
        "outputId": "24328025-084a-43da-d6fe-1a2e609b73d6"
      },
      "source": [
        "data_test[0][39]"
      ],
      "id": "Bo565-4EUKUR",
      "execution_count": null,
      "outputs": [
        {
          "output_type": "execute_result",
          "data": {
            "text/plain": [
              "70.0"
            ]
          },
          "metadata": {
            "tags": []
          },
          "execution_count": 58
        }
      ]
    },
    {
      "cell_type": "code",
      "metadata": {
        "colab": {
          "base_uri": "https://localhost:8080/"
        },
        "id": "RPeqrveye_Q9",
        "outputId": "8428ef5a-135a-4b84-b98f-ac07fdbe9c32"
      },
      "source": [
        "len(data_test)"
      ],
      "id": "RPeqrveye_Q9",
      "execution_count": null,
      "outputs": [
        {
          "output_type": "execute_result",
          "data": {
            "text/plain": [
              "4919"
            ]
          },
          "metadata": {
            "tags": []
          },
          "execution_count": 90
        }
      ]
    },
    {
      "cell_type": "code",
      "metadata": {
        "id": "kJac01ugyy-u"
      },
      "source": [
        "with eager_learning_phase_scope(value=0):\n",
        "  layers = [get_att([data_test[i:i+ 128]]) for i in range(0, len(data_test), 128)]\n",
        "  layers_flat = []\n",
        "  for a in layers:\n",
        "    for aa in a[0]:\n",
        "      clayers_flat.append(aa)\n"
      ],
      "id": "kJac01ugyy-u",
      "execution_count": null,
      "outputs": []
    },
    {
      "cell_type": "code",
      "metadata": {
        "colab": {
          "base_uri": "https://localhost:8080/"
        },
        "id": "tdAul4VhygND",
        "outputId": "70460d04-0c23-4c32-d126-897229726108"
      },
      "source": [
        "len(layers)"
      ],
      "id": "tdAul4VhygND",
      "execution_count": null,
      "outputs": [
        {
          "output_type": "execute_result",
          "data": {
            "text/plain": [
              "39"
            ]
          },
          "metadata": {
            "tags": []
          },
          "execution_count": 84
        }
      ]
    },
    {
      "cell_type": "code",
      "metadata": {
        "colab": {
          "base_uri": "https://localhost:8080/"
        },
        "id": "Uj_TDY0cUCq8",
        "outputId": "70bbde79-078e-4d6a-f6ba-e0d3eb65057c"
      },
      "source": [
        "len(layers[0][0])"
      ],
      "id": "Uj_TDY0cUCq8",
      "execution_count": null,
      "outputs": [
        {
          "output_type": "execute_result",
          "data": {
            "text/plain": [
              "128"
            ]
          },
          "metadata": {
            "tags": []
          },
          "execution_count": 91
        }
      ]
    },
    {
      "cell_type": "code",
      "metadata": {
        "colab": {
          "base_uri": "https://localhost:8080/"
        },
        "id": "_MzEFTG9gAPZ",
        "outputId": "659f4398-30b3-496e-a5c4-0e5de6b12a70"
      },
      "source": [
        "c = []\n",
        "for a in layers:\n",
        "  print(len(a[0]))\n",
        "  for aa in a[0]:\n",
        "    c.append(aa)"
      ],
      "id": "_MzEFTG9gAPZ",
      "execution_count": null,
      "outputs": [
        {
          "output_type": "stream",
          "text": [
            "128\n",
            "128\n",
            "128\n",
            "128\n",
            "128\n",
            "128\n",
            "128\n",
            "128\n",
            "128\n",
            "128\n",
            "128\n",
            "128\n",
            "128\n",
            "128\n",
            "128\n",
            "128\n",
            "128\n",
            "128\n",
            "128\n",
            "128\n",
            "128\n",
            "128\n",
            "128\n",
            "128\n",
            "128\n",
            "128\n",
            "128\n",
            "128\n",
            "128\n",
            "128\n",
            "128\n",
            "128\n",
            "128\n",
            "128\n",
            "128\n",
            "128\n",
            "128\n",
            "128\n",
            "55\n"
          ],
          "name": "stdout"
        }
      ]
    },
    {
      "cell_type": "code",
      "metadata": {
        "colab": {
          "base_uri": "https://localhost:8080/"
        },
        "id": "UNiWKm67gIDs",
        "outputId": "d0f1f4a3-28ba-49e8-9fdd-62a9c9351571"
      },
      "source": [
        "len(c)"
      ],
      "id": "UNiWKm67gIDs",
      "execution_count": null,
      "outputs": [
        {
          "output_type": "execute_result",
          "data": {
            "text/plain": [
              "4919"
            ]
          },
          "metadata": {
            "tags": []
          },
          "execution_count": 105
        }
      ]
    },
    {
      "cell_type": "code",
      "metadata": {
        "id": "rEBZcuqJfHOg"
      },
      "source": [
        "layer_flt = []"
      ],
      "id": "rEBZcuqJfHOg",
      "execution_count": null,
      "outputs": []
    },
    {
      "cell_type": "code",
      "metadata": {
        "colab": {
          "base_uri": "https://localhost:8080/"
        },
        "id": "WNoKc_7nqbOd",
        "outputId": "a9392db9-0464-48d0-e8d7-6091faf4dce4"
      },
      "source": [
        "np.argmax(layers[0][0])"
      ],
      "id": "WNoKc_7nqbOd",
      "execution_count": null,
      "outputs": [
        {
          "output_type": "execute_result",
          "data": {
            "text/plain": [
              "39"
            ]
          },
          "metadata": {
            "tags": []
          },
          "execution_count": 57
        }
      ]
    },
    {
      "cell_type": "code",
      "metadata": {
        "colab": {
          "base_uri": "https://localhost:8080/"
        },
        "id": "J_y8AIkaDwPh",
        "outputId": "76150b6c-5842-45be-c96b-7f332215e25b"
      },
      "source": [
        "df['Recommended IND'].value_counts()"
      ],
      "id": "J_y8AIkaDwPh",
      "execution_count": null,
      "outputs": [
        {
          "output_type": "execute_result",
          "data": {
            "text/plain": [
              "1    16100\n",
              "0     3575\n",
              "Name: Recommended IND, dtype: int64"
            ]
          },
          "metadata": {
            "tags": []
          },
          "execution_count": 27
        }
      ]
    },
    {
      "cell_type": "code",
      "metadata": {
        "colab": {
          "base_uri": "https://localhost:8080/"
        },
        "id": "NgId3YDSTq32",
        "outputId": "e8b8a7e8-e4d2-47f2-b59e-9da37d738db7"
      },
      "source": [
        "df['Recommended IND'].iloc[test_index_order[0][0]]"
      ],
      "id": "NgId3YDSTq32",
      "execution_count": null,
      "outputs": [
        {
          "output_type": "execute_result",
          "data": {
            "text/plain": [
              "0"
            ]
          },
          "metadata": {
            "tags": []
          },
          "execution_count": 62
        }
      ]
    },
    {
      "cell_type": "code",
      "metadata": {
        "colab": {
          "base_uri": "https://localhost:8080/"
        },
        "id": "4258zwYiUu5p",
        "outputId": "e005968d-957e-4b2f-aa8d-ba0863be6d34"
      },
      "source": [
        "df['Rating'].iloc[test_index_order[0][0]]"
      ],
      "id": "4258zwYiUu5p",
      "execution_count": null,
      "outputs": [
        {
          "output_type": "execute_result",
          "data": {
            "text/plain": [
              "2"
            ]
          },
          "metadata": {
            "tags": []
          },
          "execution_count": 61
        }
      ]
    },
    {
      "cell_type": "code",
      "metadata": {
        "colab": {
          "base_uri": "https://localhost:8080/",
          "height": 68
        },
        "id": "rKERC-VN-L8P",
        "outputId": "e4342071-c504-4d8b-f7dd-b6ed4473fda0"
      },
      "source": [
        "df.text.iloc[test_index_order[0][0]]"
      ],
      "id": "rKERC-VN-L8P",
      "execution_count": null,
      "outputs": [
        {
          "output_type": "execute_result",
          "data": {
            "application/vnd.google.colaboratory.intrinsic+json": {
              "type": "string"
            },
            "text/plain": [
              "'not for the very petite i love trace geese dresses but this one is not for the very petite i am just under 5 feet tall and usually wear a up in this brand this dress was very pretty out of the package but its a lot of dress the skirt is long and very full so it overwhelmed my small frame not a stranger to alterations shortening and narrowing the skirt would take away from the embellishment of the garment i love the color and the idea of the style but it just did not work on me i returned this dress '"
            ]
          },
          "metadata": {
            "tags": []
          },
          "execution_count": 60
        }
      ]
    },
    {
      "cell_type": "code",
      "metadata": {
        "colab": {
          "base_uri": "https://localhost:8080/"
        },
        "id": "lkQT-WFUTG4n",
        "outputId": "1ab050bc-2313-4e73-8b6f-71284c14880b"
      },
      "source": [
        "for w, v in word_index.items():\n",
        "  if v == 1:\n",
        "    print(w)"
      ],
      "id": "lkQT-WFUTG4n",
      "execution_count": null,
      "outputs": [
        {
          "output_type": "stream",
          "text": [
            "the\n"
          ],
          "name": "stdout"
        }
      ]
    },
    {
      "cell_type": "code",
      "metadata": {
        "id": "RU9RAzw6Tdx6"
      },
      "source": [
        "df = pd.read_csv('word_res_merge.csv')"
      ],
      "id": "RU9RAzw6Tdx6",
      "execution_count": null,
      "outputs": []
    },
    {
      "cell_type": "code",
      "metadata": {
        "colab": {
          "base_uri": "https://localhost:8080/",
          "height": 717
        },
        "id": "Eu7Deuo8iK6w",
        "outputId": "879006b8-bf82-43ab-e5c7-f020d4981913"
      },
      "source": [
        "df.head()"
      ],
      "id": "Eu7Deuo8iK6w",
      "execution_count": null,
      "outputs": [
        {
          "output_type": "execute_result",
          "data": {
            "text/html": [
              "<div>\n",
              "<style scoped>\n",
              "    .dataframe tbody tr th:only-of-type {\n",
              "        vertical-align: middle;\n",
              "    }\n",
              "\n",
              "    .dataframe tbody tr th {\n",
              "        vertical-align: top;\n",
              "    }\n",
              "\n",
              "    .dataframe thead th {\n",
              "        text-align: right;\n",
              "    }\n",
              "</style>\n",
              "<table border=\"1\" class=\"dataframe\">\n",
              "  <thead>\n",
              "    <tr style=\"text-align: right;\">\n",
              "      <th></th>\n",
              "      <th>Clothing ID</th>\n",
              "      <th>Age</th>\n",
              "      <th>Title</th>\n",
              "      <th>Review Text</th>\n",
              "      <th>Rating</th>\n",
              "      <th>Recommended IND</th>\n",
              "      <th>Positive Feedback Count</th>\n",
              "      <th>Division Name</th>\n",
              "      <th>Department Name</th>\n",
              "      <th>Class Name</th>\n",
              "      <th>text_count</th>\n",
              "      <th>text</th>\n",
              "      <th>Division</th>\n",
              "      <th>Department</th>\n",
              "      <th>Class</th>\n",
              "      <th>idx</th>\n",
              "      <th>data</th>\n",
              "      <th>weights</th>\n",
              "      <th>word_important_order</th>\n",
              "    </tr>\n",
              "  </thead>\n",
              "  <tbody>\n",
              "    <tr>\n",
              "      <th>0</th>\n",
              "      <td>1077</td>\n",
              "      <td>60</td>\n",
              "      <td>Some major design flaws</td>\n",
              "      <td>I had such high hopes for this dress and reall...</td>\n",
              "      <td>3</td>\n",
              "      <td>0</td>\n",
              "      <td>0</td>\n",
              "      <td>General</td>\n",
              "      <td>Dresses</td>\n",
              "      <td>Dresses</td>\n",
              "      <td>101</td>\n",
              "      <td>some major design flaws i had such high hopes ...</td>\n",
              "      <td>0</td>\n",
              "      <td>1</td>\n",
              "      <td>3</td>\n",
              "      <td>0</td>\n",
              "      <td>[1.630e+02 1.794e+03 1.380e+02 1.071e+03 2.000...</td>\n",
              "      <td>[3.13322479e-03 3.52106872e-03 6.87376969e-03 ...</td>\n",
              "      <td>['wanted', 'was', 'cheap', 'for', 'had', 'flaw...</td>\n",
              "    </tr>\n",
              "    <tr>\n",
              "      <th>1</th>\n",
              "      <td>1049</td>\n",
              "      <td>50</td>\n",
              "      <td>My favorite buy!</td>\n",
              "      <td>I love, love, love this jumpsuit. it's fun, fl...</td>\n",
              "      <td>5</td>\n",
              "      <td>1</td>\n",
              "      <td>0</td>\n",
              "      <td>General Petite</td>\n",
              "      <td>Bottoms</td>\n",
              "      <td>Pants</td>\n",
              "      <td>27</td>\n",
              "      <td>my favorite buy i love love love this jumpsuit...</td>\n",
              "      <td>1</td>\n",
              "      <td>0</td>\n",
              "      <td>13</td>\n",
              "      <td>1</td>\n",
              "      <td>[  18.  297.  232.    2.   20.   20.   20.    ...</td>\n",
              "      <td>[0.00105703 0.00433241 0.00264576 0.01401595 0...</td>\n",
              "      <td>['this', 'it', 'i', 'love', 'every', 'jumpsuit...</td>\n",
              "    </tr>\n",
              "    <tr>\n",
              "      <th>2</th>\n",
              "      <td>847</td>\n",
              "      <td>47</td>\n",
              "      <td>Flattering shirt</td>\n",
              "      <td>This shirt is very flattering to all due to th...</td>\n",
              "      <td>5</td>\n",
              "      <td>1</td>\n",
              "      <td>6</td>\n",
              "      <td>General</td>\n",
              "      <td>Tops</td>\n",
              "      <td>Blouses</td>\n",
              "      <td>39</td>\n",
              "      <td>flattering shirt this shirt is very flattering...</td>\n",
              "      <td>0</td>\n",
              "      <td>4</td>\n",
              "      <td>0</td>\n",
              "      <td>2</td>\n",
              "      <td>[5.200e+01 7.200e+01 7.000e+00 7.200e+01 6.000...</td>\n",
              "      <td>[0.01782822 0.02401865 0.02065554 0.0294563  0...</td>\n",
              "      <td>['this', 'love', 'with', 'cardiac', 'well', 'w...</td>\n",
              "    </tr>\n",
              "    <tr>\n",
              "      <th>3</th>\n",
              "      <td>1080</td>\n",
              "      <td>49</td>\n",
              "      <td>Not for the very petite</td>\n",
              "      <td>I love tracy reese dresses, but this one is no...</td>\n",
              "      <td>2</td>\n",
              "      <td>0</td>\n",
              "      <td>4</td>\n",
              "      <td>General</td>\n",
              "      <td>Dresses</td>\n",
              "      <td>Dresses</td>\n",
              "      <td>104</td>\n",
              "      <td>not for the very petite i love trace geese dre...</td>\n",
              "      <td>0</td>\n",
              "      <td>1</td>\n",
              "      <td>3</td>\n",
              "      <td>3</td>\n",
              "      <td>[1.900e+01 1.200e+01 1.000e+00 2.500e+01 9.100...</td>\n",
              "      <td>[0.04076017 0.06857426 0.01760991 0.01233032 0...</td>\n",
              "      <td>['would', 'for', 'out', 'full', 'not', 'idea',...</td>\n",
              "    </tr>\n",
              "    <tr>\n",
              "      <th>4</th>\n",
              "      <td>858</td>\n",
              "      <td>39</td>\n",
              "      <td>Cagrcoal shimmer fun</td>\n",
              "      <td>I aded this in my basket at hte last mintue to...</td>\n",
              "      <td>5</td>\n",
              "      <td>1</td>\n",
              "      <td>1</td>\n",
              "      <td>General Petite</td>\n",
              "      <td>Tops</td>\n",
              "      <td>Knits</td>\n",
              "      <td>103</td>\n",
              "      <td>charcoal swimmer fun i added this in my basket...</td>\n",
              "      <td>1</td>\n",
              "      <td>4</td>\n",
              "      <td>8</td>\n",
              "      <td>4</td>\n",
              "      <td>[1.593e+03 1.106e+03 2.110e+02 2.000e+00 7.650...</td>\n",
              "      <td>[1.40671069e-02 1.16423341e-02 5.16614467e-02 ...</td>\n",
              "      <td>['i', 'this', 'fun', 'my', 'in', 'it', 'added'...</td>\n",
              "    </tr>\n",
              "  </tbody>\n",
              "</table>\n",
              "</div>"
            ],
            "text/plain": [
              "   Clothing ID  ...                               word_important_order\n",
              "0         1077  ...  ['wanted', 'was', 'cheap', 'for', 'had', 'flaw...\n",
              "1         1049  ...  ['this', 'it', 'i', 'love', 'every', 'jumpsuit...\n",
              "2          847  ...  ['this', 'love', 'with', 'cardiac', 'well', 'w...\n",
              "3         1080  ...  ['would', 'for', 'out', 'full', 'not', 'idea',...\n",
              "4          858  ...  ['i', 'this', 'fun', 'my', 'in', 'it', 'added'...\n",
              "\n",
              "[5 rows x 19 columns]"
            ]
          },
          "metadata": {
            "tags": []
          },
          "execution_count": 7
        }
      ]
    },
    {
      "cell_type": "code",
      "metadata": {
        "id": "vDJ79o4vlIkd"
      },
      "source": [
        "from ast import literal_eval"
      ],
      "id": "vDJ79o4vlIkd",
      "execution_count": null,
      "outputs": []
    },
    {
      "cell_type": "code",
      "metadata": {
        "id": "X908Cx2lG2ay"
      },
      "source": [
        ""
      ],
      "id": "X908Cx2lG2ay",
      "execution_count": null,
      "outputs": []
    },
    {
      "cell_type": "code",
      "metadata": {
        "id": "60cT81SCG2dd"
      },
      "source": [
        ""
      ],
      "id": "60cT81SCG2dd",
      "execution_count": null,
      "outputs": []
    },
    {
      "cell_type": "code",
      "metadata": {
        "id": "2d8zyETWG2gO"
      },
      "source": [
        ""
      ],
      "id": "2d8zyETWG2gO",
      "execution_count": null,
      "outputs": []
    },
    {
      "cell_type": "code",
      "metadata": {
        "id": "2ezm-9T3G2jX"
      },
      "source": [
        ""
      ],
      "id": "2ezm-9T3G2jX",
      "execution_count": null,
      "outputs": []
    },
    {
      "cell_type": "code",
      "metadata": {
        "id": "5Q3YD0f7iSmC"
      },
      "source": [
        "df.word_important_order = df.word_important_order.apply(lambda x: eval(x))"
      ],
      "id": "5Q3YD0f7iSmC",
      "execution_count": null,
      "outputs": []
    },
    {
      "cell_type": "code",
      "metadata": {
        "id": "VlHi3rN9G4Z4"
      },
      "source": [
        "df"
      ],
      "id": "VlHi3rN9G4Z4",
      "execution_count": null,
      "outputs": []
    },
    {
      "cell_type": "code",
      "metadata": {
        "id": "tv5TNpYEG4cV"
      },
      "source": [
        ""
      ],
      "id": "tv5TNpYEG4cV",
      "execution_count": null,
      "outputs": []
    },
    {
      "cell_type": "code",
      "metadata": {
        "id": "hq9aYS5RG4fQ"
      },
      "source": [
        ""
      ],
      "id": "hq9aYS5RG4fQ",
      "execution_count": null,
      "outputs": []
    },
    {
      "cell_type": "code",
      "metadata": {
        "id": "RKLbuKKAHpiy"
      },
      "source": [
        "from collections import Counter"
      ],
      "id": "RKLbuKKAHpiy",
      "execution_count": null,
      "outputs": []
    },
    {
      "cell_type": "code",
      "metadata": {
        "id": "kkP-q67vG4iC"
      },
      "source": [
        "\n",
        "df_dress_0 = df[(df['Class Name'] ==  'Dresses') &(df['Recommended IND'] ==  0)& (df['Rating'] ==  1)]\n",
        "df_dress_1 = df[(df['Class Name'] ==  'Dresses') &(df['Recommended IND'] ==  1)& (df['Rating'] ==  5)]"
      ],
      "id": "kkP-q67vG4iC",
      "execution_count": null,
      "outputs": []
    },
    {
      "cell_type": "code",
      "metadata": {
        "colab": {
          "base_uri": "https://localhost:8080/"
        },
        "id": "_GedzaURHAtI",
        "outputId": "5468a288-8f08-4b38-e15c-8b0adfc32d87"
      },
      "source": [
        "w_list = []\n",
        "for ws in df_dress_0.word_important_order:\n",
        "  w_list += ws[0:10]\n",
        "cnt = Counter(w_list)\n",
        "list(dict(sorted(cnt.items(), key=lambda item: item[1],reverse=True)))[0:100]"
      ],
      "id": "_GedzaURHAtI",
      "execution_count": null,
      "outputs": [
        {
          "output_type": "execute_result",
          "data": {
            "text/plain": [
              "['was',\n",
              " 'i',\n",
              " 'the',\n",
              " 'this',\n",
              " 'disappointed',\n",
              " 'like',\n",
              " 'not',\n",
              " 'for',\n",
              " 'dress',\n",
              " 'cheap',\n",
              " 'looked',\n",
              " 'back',\n",
              " 'it',\n",
              " 'no',\n",
              " 'very',\n",
              " 'excited',\n",
              " 'had',\n",
              " 'look',\n",
              " 'cut',\n",
              " 'huge',\n",
              " 'bad',\n",
              " 'fit',\n",
              " 'to',\n",
              " 'would',\n",
              " 'poor',\n",
              " 'looks',\n",
              " 'fabric',\n",
              " 'but',\n",
              " 'didn',\n",
              " 'is',\n",
              " 'off',\n",
              " 'so',\n",
              " 'much',\n",
              " 'material',\n",
              " 'doesn',\n",
              " 'way',\n",
              " 'up',\n",
              " 'too',\n",
              " 'did',\n",
              " 't',\n",
              " 'made',\n",
              " 'flattering',\n",
              " 'wanted',\n",
              " 'my',\n",
              " 'good',\n",
              " 'worth',\n",
              " 'just',\n",
              " 'because',\n",
              " 'of',\n",
              " 'pretty',\n",
              " 'going',\n",
              " 'high',\n",
              " 'couldn',\n",
              " 'out',\n",
              " 'there',\n",
              " 'me',\n",
              " 'make',\n",
              " 'sack',\n",
              " 'great',\n",
              " 'see',\n",
              " 'terrible',\n",
              " 'returned',\n",
              " 'really',\n",
              " 'quality',\n",
              " 'return',\n",
              " 's',\n",
              " 'and',\n",
              " 'felt',\n",
              " 'on',\n",
              " 'big',\n",
              " 'beautiful',\n",
              " 'well',\n",
              " 'looking',\n",
              " 'different',\n",
              " 'when',\n",
              " 'one',\n",
              " 'something',\n",
              " 'odd',\n",
              " 'tight',\n",
              " 'nice',\n",
              " 'an',\n",
              " 'tent',\n",
              " 'could',\n",
              " 'price',\n",
              " 'don',\n",
              " 'with',\n",
              " 'should',\n",
              " 'are',\n",
              " 'will',\n",
              " 'only',\n",
              " 'put',\n",
              " 'at',\n",
              " 'get',\n",
              " 'completely',\n",
              " 'after',\n",
              " 'disappointing',\n",
              " 'ran',\n",
              " 'all',\n",
              " 'design',\n",
              " 'right']"
            ]
          },
          "metadata": {
            "tags": []
          },
          "execution_count": 70
        }
      ]
    },
    {
      "cell_type": "code",
      "metadata": {
        "colab": {
          "base_uri": "https://localhost:8080/"
        },
        "id": "wM4e99XjHXHI",
        "outputId": "ec2b30b2-705b-4b5f-8d5e-983f5a2852a0"
      },
      "source": [
        "w_list = []\n",
        "for ws in df_dress_1.word_important_order:\n",
        "  w_list += ws[0:10]\n",
        "cnt = Counter(w_list)\n",
        "list(dict(sorted(cnt.items(), key=lambda item: item[1],reverse=True)))[0:100]"
      ],
      "id": "wM4e99XjHXHI",
      "execution_count": null,
      "outputs": [
        {
          "output_type": "execute_result",
          "data": {
            "text/plain": [
              "['i',\n",
              " 'this',\n",
              " 'dress',\n",
              " 'love',\n",
              " 'it',\n",
              " 'with',\n",
              " 'beautiful',\n",
              " 'the',\n",
              " 'great',\n",
              " 'perfect',\n",
              " 'and',\n",
              " 'wear',\n",
              " 'flattering',\n",
              " 'comfortable',\n",
              " 'to',\n",
              " 'or',\n",
              " 'is',\n",
              " 'for',\n",
              " 'summer',\n",
              " 'up',\n",
              " 'my',\n",
              " 'gorgeous',\n",
              " 'cut',\n",
              " 'a',\n",
              " 'so',\n",
              " 'was',\n",
              " 'down',\n",
              " 'fall',\n",
              " 'work',\n",
              " 'size',\n",
              " 'like',\n",
              " 'pretty',\n",
              " 'in',\n",
              " 'can',\n",
              " 'very',\n",
              " 'well',\n",
              " 'compliments',\n",
              " 'true',\n",
              " 'easy',\n",
              " 'fun',\n",
              " 'lovely',\n",
              " 'boots',\n",
              " 'be',\n",
              " 'come',\n",
              " 'fit',\n",
              " 'dressed',\n",
              " 'perfectly',\n",
              " 'bought',\n",
              " 'have',\n",
              " 'amazing',\n",
              " 'versatile',\n",
              " 'absolutely',\n",
              " 'soft',\n",
              " 'runs',\n",
              " 'happy',\n",
              " 's',\n",
              " 'nice',\n",
              " 'unique',\n",
              " 'favorite',\n",
              " 'casual',\n",
              " 'many',\n",
              " 'good',\n",
              " 'spring',\n",
              " 'adorable',\n",
              " 'recommend',\n",
              " 'worn',\n",
              " 'stunning',\n",
              " 'super',\n",
              " '5',\n",
              " 'wedding',\n",
              " 'but',\n",
              " 'wearing',\n",
              " 'look',\n",
              " 'not',\n",
              " 'go',\n",
              " 'of',\n",
              " 'would',\n",
              " 'classic',\n",
              " 'feminine',\n",
              " 'its',\n",
              " 'fits',\n",
              " 'elegant',\n",
              " 'just',\n",
              " 'new',\n",
              " 'will',\n",
              " 'really',\n",
              " 'black',\n",
              " 'back',\n",
              " 'piece',\n",
              " 'dooties',\n",
              " 'winter',\n",
              " 'an',\n",
              " 'wait',\n",
              " 'made',\n",
              " 'quality',\n",
              " 'high',\n",
              " 'had',\n",
              " 'you',\n",
              " 'jacket',\n",
              " 'beautifully']"
            ]
          },
          "metadata": {
            "tags": []
          },
          "execution_count": 71
        }
      ]
    },
    {
      "cell_type": "code",
      "metadata": {
        "id": "SO25d1xHIWVs"
      },
      "source": [
        "df_pants_0 = df[(df['Class Name'] ==  'Pants') & (df['Recommended IND'] ==  0) & (df['Rating'] ==  1)]\n",
        "df_pants_1 = df[(df['Class Name'] ==  'Pants') &(df['Recommended IND'] ==  1)& (df['Rating'] ==  5)]"
      ],
      "id": "SO25d1xHIWVs",
      "execution_count": null,
      "outputs": []
    },
    {
      "cell_type": "code",
      "metadata": {
        "colab": {
          "base_uri": "https://localhost:8080/"
        },
        "id": "7N82fnL1IWYb",
        "outputId": "e2c43b92-8477-4ac6-fb2b-bdf3c88494c0"
      },
      "source": [
        "w_list = []\n",
        "for ws in df_pants_0.word_important_order:\n",
        "  w_list += ws[0:10]\n",
        "cnt = Counter(w_list)\n",
        "list(dict(sorted(cnt.items(), key=lambda item: item[1],reverse=True)))[0:100]"
      ],
      "id": "7N82fnL1IWYb",
      "execution_count": null,
      "outputs": [
        {
          "output_type": "execute_result",
          "data": {
            "text/plain": [
              "['them',\n",
              " 'i',\n",
              " 'after',\n",
              " 'disappointed',\n",
              " 'was',\n",
              " 'parts',\n",
              " 'for',\n",
              " 'not',\n",
              " 'to',\n",
              " 'the',\n",
              " 'were',\n",
              " 'this',\n",
              " 'looked',\n",
              " 'like',\n",
              " 'terrible',\n",
              " 'very',\n",
              " 'washed',\n",
              " 'quality',\n",
              " 'had',\n",
              " 'cheap',\n",
              " 'bad',\n",
              " 'no',\n",
              " 'would',\n",
              " 'wanted',\n",
              " 'out',\n",
              " 'and',\n",
              " 'all',\n",
              " 'what',\n",
              " 'two',\n",
              " 'hang',\n",
              " 'a',\n",
              " 'still',\n",
              " 'now',\n",
              " 'back',\n",
              " 'going',\n",
              " 'great',\n",
              " 'thin',\n",
              " 'excited',\n",
              " 'look',\n",
              " 'off',\n",
              " 'well',\n",
              " 'go',\n",
              " 'worn',\n",
              " 'an',\n",
              " 'summed',\n",
              " 'little',\n",
              " 'travel',\n",
              " 'could',\n",
              " 'washing',\n",
              " 'should',\n",
              " 'much',\n",
              " 'can',\n",
              " 'return',\n",
              " 'up',\n",
              " 'unfortunately',\n",
              " 'so',\n",
              " 'stain',\n",
              " 'sad',\n",
              " 'money',\n",
              " 'there',\n",
              " 'wash',\n",
              " 'comfortable',\n",
              " 'flattering',\n",
              " 'did',\n",
              " 'fabric',\n",
              " 'poor',\n",
              " 'because',\n",
              " 'regained',\n",
              " 'dry',\n",
              " 'then',\n",
              " 'problem',\n",
              " 'shape',\n",
              " 'crutch',\n",
              " 'get',\n",
              " 'closely',\n",
              " 'ran',\n",
              " 'watch',\n",
              " 'colored',\n",
              " 'material',\n",
              " 'flies',\n",
              " 'at',\n",
              " 'others',\n",
              " 'wrong',\n",
              " 'stitching',\n",
              " 'noticed',\n",
              " 'falls',\n",
              " 'looking',\n",
              " 'apart',\n",
              " 'on',\n",
              " 'ridiculous',\n",
              " 'unfortunate',\n",
              " 'way',\n",
              " 'feeling',\n",
              " 'sadly',\n",
              " 'pretty',\n",
              " 're',\n",
              " 'have',\n",
              " 'weird',\n",
              " 'down',\n",
              " 'from']"
            ]
          },
          "metadata": {
            "tags": []
          },
          "execution_count": 64
        }
      ]
    },
    {
      "cell_type": "code",
      "metadata": {
        "colab": {
          "base_uri": "https://localhost:8080/"
        },
        "id": "lGBijfsYIWbe",
        "outputId": "17746637-df09-491c-ae7f-28170ff4f44f"
      },
      "source": [
        "w_list = []\n",
        "for ws in df_pants_1.word_important_order:\n",
        "  w_list += ws[0:10]\n",
        "cnt = Counter(w_list)\n",
        "list(dict(sorted(cnt.items(), key=lambda item: item[1],reverse=True)))[0:100]"
      ],
      "id": "lGBijfsYIWbe",
      "execution_count": null,
      "outputs": [
        {
          "output_type": "execute_result",
          "data": {
            "text/plain": [
              "['i',\n",
              " 'love',\n",
              " 'parts',\n",
              " 'these',\n",
              " 'great',\n",
              " 'this',\n",
              " 'perfect',\n",
              " 'comfortable',\n",
              " 'with',\n",
              " 'and',\n",
              " 'for',\n",
              " 'to',\n",
              " 'summer',\n",
              " 'or',\n",
              " 'the',\n",
              " 'wear',\n",
              " 'it',\n",
              " 'up',\n",
              " 'cut',\n",
              " 'flattering',\n",
              " 'down',\n",
              " 'come',\n",
              " 'my',\n",
              " 'jumpsuit',\n",
              " 'fit',\n",
              " 'so',\n",
              " 'nice',\n",
              " 'casual',\n",
              " 'a',\n",
              " 'beautiful',\n",
              " 'them',\n",
              " 'true',\n",
              " 'bought',\n",
              " 'like',\n",
              " 'can',\n",
              " 'work',\n",
              " 'is',\n",
              " 'was',\n",
              " 'very',\n",
              " 'size',\n",
              " 'well',\n",
              " 'soft',\n",
              " 'go',\n",
              " 'dressed',\n",
              " 'fun',\n",
              " 'recommend',\n",
              " 'favorite',\n",
              " 'amazing',\n",
              " 'stylish',\n",
              " 'versatile',\n",
              " 'have',\n",
              " 'quality',\n",
              " 'super',\n",
              " 'they',\n",
              " 'be',\n",
              " 'good',\n",
              " 'pair',\n",
              " '5',\n",
              " 'are',\n",
              " 'look',\n",
              " 'of',\n",
              " 'easy',\n",
              " 'perfectly',\n",
              " 'fall',\n",
              " 'staple',\n",
              " 'in',\n",
              " 'spring',\n",
              " 'new',\n",
              " 'compliments',\n",
              " 'part',\n",
              " 'adorable',\n",
              " 'am',\n",
              " 'get',\n",
              " 'will',\n",
              " 'micro',\n",
              " 'unique',\n",
              " 'back',\n",
              " 'happy',\n",
              " 'ordered',\n",
              " 'heels',\n",
              " 'piece',\n",
              " 'wearing',\n",
              " 'many',\n",
              " 'you',\n",
              " 'not',\n",
              " 'tried',\n",
              " 'lovely',\n",
              " 'gorgeous',\n",
              " 'got',\n",
              " 'chins',\n",
              " 'now',\n",
              " 'highly',\n",
              " 'wait',\n",
              " 'absolutely',\n",
              " 'pretty',\n",
              " 'all',\n",
              " 'worn',\n",
              " 'everything',\n",
              " 'but',\n",
              " 'really']"
            ]
          },
          "metadata": {
            "tags": []
          },
          "execution_count": 65
        }
      ]
    },
    {
      "cell_type": "code",
      "metadata": {
        "colab": {
          "base_uri": "https://localhost:8080/",
          "height": 1000
        },
        "id": "ldVsiOHCkzyd",
        "outputId": "5c6cc2c5-858a-4541-97a8-d01a2a72bc25"
      },
      "source": [
        "df[(df['Department Name'] ==  'Dresses') &(df['Recommended IND'] ==  1)]"
      ],
      "id": "ldVsiOHCkzyd",
      "execution_count": null,
      "outputs": [
        {
          "output_type": "execute_result",
          "data": {
            "text/html": [
              "<div>\n",
              "<style scoped>\n",
              "    .dataframe tbody tr th:only-of-type {\n",
              "        vertical-align: middle;\n",
              "    }\n",
              "\n",
              "    .dataframe tbody tr th {\n",
              "        vertical-align: top;\n",
              "    }\n",
              "\n",
              "    .dataframe thead th {\n",
              "        text-align: right;\n",
              "    }\n",
              "</style>\n",
              "<table border=\"1\" class=\"dataframe\">\n",
              "  <thead>\n",
              "    <tr style=\"text-align: right;\">\n",
              "      <th></th>\n",
              "      <th>Clothing ID</th>\n",
              "      <th>Age</th>\n",
              "      <th>Title</th>\n",
              "      <th>Review Text</th>\n",
              "      <th>Rating</th>\n",
              "      <th>Recommended IND</th>\n",
              "      <th>Positive Feedback Count</th>\n",
              "      <th>Division Name</th>\n",
              "      <th>Department Name</th>\n",
              "      <th>Class Name</th>\n",
              "      <th>text_count</th>\n",
              "      <th>text</th>\n",
              "      <th>Division</th>\n",
              "      <th>Department</th>\n",
              "      <th>Class</th>\n",
              "      <th>idx</th>\n",
              "      <th>data</th>\n",
              "      <th>weights</th>\n",
              "      <th>word_important_order</th>\n",
              "    </tr>\n",
              "  </thead>\n",
              "  <tbody>\n",
              "    <tr>\n",
              "      <th>6</th>\n",
              "      <td>1077</td>\n",
              "      <td>24</td>\n",
              "      <td>Flattering</td>\n",
              "      <td>I love this dress. i usually get an xs but it ...</td>\n",
              "      <td>5</td>\n",
              "      <td>1</td>\n",
              "      <td>0</td>\n",
              "      <td>General</td>\n",
              "      <td>Dresses</td>\n",
              "      <td>Dresses</td>\n",
              "      <td>36</td>\n",
              "      <td>flattering i love this dress i usually get an ...</td>\n",
              "      <td>0</td>\n",
              "      <td>1</td>\n",
              "      <td>3</td>\n",
              "      <td>6</td>\n",
              "      <td>[5.200e+01 2.000e+00 2.000e+01 7.000e+00 1.600...</td>\n",
              "      <td>[0.01202566 0.02463349 0.02645856 0.16591688 0...</td>\n",
              "      <td>[i, this, retailer, with, flattering, size, st...</td>\n",
              "    </tr>\n",
              "    <tr>\n",
              "      <th>7</th>\n",
              "      <td>1077</td>\n",
              "      <td>34</td>\n",
              "      <td>Such a fun dress!</td>\n",
              "      <td>I'm 5\"5' and 125 lbs. i ordered the s petite t...</td>\n",
              "      <td>5</td>\n",
              "      <td>1</td>\n",
              "      <td>0</td>\n",
              "      <td>General</td>\n",
              "      <td>Dresses</td>\n",
              "      <td>Dresses</td>\n",
              "      <td>81</td>\n",
              "      <td>such a fun dress i m 5 5 and 125 les i ordered...</td>\n",
              "      <td>0</td>\n",
              "      <td>1</td>\n",
              "      <td>3</td>\n",
              "      <td>7</td>\n",
              "      <td>[320.   5. 211.  16.   2.  35.  43.  43.   3. ...</td>\n",
              "      <td>[9.77384076e-02 1.90084055e-02 6.31164014e-02 ...</td>\n",
              "      <td>[i, such, dress, fun, m, 5, love, a, les, i, 5...</td>\n",
              "    </tr>\n",
              "    <tr>\n",
              "      <th>9</th>\n",
              "      <td>1095</td>\n",
              "      <td>53</td>\n",
              "      <td>Perfect!!!</td>\n",
              "      <td>More and more i find myself reliant on the rev...</td>\n",
              "      <td>5</td>\n",
              "      <td>1</td>\n",
              "      <td>2</td>\n",
              "      <td>General Petite</td>\n",
              "      <td>Dresses</td>\n",
              "      <td>Dresses</td>\n",
              "      <td>96</td>\n",
              "      <td>perfect more and more i find myself radiant on...</td>\n",
              "      <td>1</td>\n",
              "      <td>1</td>\n",
              "      <td>3</td>\n",
              "      <td>9</td>\n",
              "      <td>[5.100e+01 5.800e+01 3.000e+00 5.800e+01 2.000...</td>\n",
              "      <td>[0.16348608 0.03542707 0.0329315  0.01785782 0...</td>\n",
              "      <td>[perfect, i, very, find, just, more, and, fall...</td>\n",
              "    </tr>\n",
              "    <tr>\n",
              "      <th>11</th>\n",
              "      <td>1077</td>\n",
              "      <td>50</td>\n",
              "      <td>Pretty party dress with some issues</td>\n",
              "      <td>This is a nice choice for holiday gatherings. ...</td>\n",
              "      <td>3</td>\n",
              "      <td>1</td>\n",
              "      <td>1</td>\n",
              "      <td>General</td>\n",
              "      <td>Dresses</td>\n",
              "      <td>Dresses</td>\n",
              "      <td>102</td>\n",
              "      <td>pretty party dress with some issues this is a ...</td>\n",
              "      <td>0</td>\n",
              "      <td>1</td>\n",
              "      <td>3</td>\n",
              "      <td>11</td>\n",
              "      <td>[8.300e+01 7.390e+02 1.600e+01 1.400e+01 1.630...</td>\n",
              "      <td>[0.19395846 0.11452515 0.03405561 0.0541827  0...</td>\n",
              "      <td>[pretty, party, with, i, dress, office, well, ...</td>\n",
              "    </tr>\n",
              "    <tr>\n",
              "      <th>16</th>\n",
              "      <td>1077</td>\n",
              "      <td>47</td>\n",
              "      <td>Stylish and comfortable</td>\n",
              "      <td>I love the look and feel of this tulle dress. ...</td>\n",
              "      <td>5</td>\n",
              "      <td>1</td>\n",
              "      <td>0</td>\n",
              "      <td>General</td>\n",
              "      <td>Dresses</td>\n",
              "      <td>Dresses</td>\n",
              "      <td>63</td>\n",
              "      <td>stylish and comfortable i love the look and fe...</td>\n",
              "      <td>0</td>\n",
              "      <td>1</td>\n",
              "      <td>3</td>\n",
              "      <td>16</td>\n",
              "      <td>[3.640e+02 3.000e+00 6.600e+01 2.000e+00 2.000...</td>\n",
              "      <td>[4.4403583e-02 2.7346333e-02 6.5852337e-02 4.9...</td>\n",
              "      <td>[i, love, comfortable, stylish, the, and, i, l...</td>\n",
              "    </tr>\n",
              "    <tr>\n",
              "      <th>...</th>\n",
              "      <td>...</td>\n",
              "      <td>...</td>\n",
              "      <td>...</td>\n",
              "      <td>...</td>\n",
              "      <td>...</td>\n",
              "      <td>...</td>\n",
              "      <td>...</td>\n",
              "      <td>...</td>\n",
              "      <td>...</td>\n",
              "      <td>...</td>\n",
              "      <td>...</td>\n",
              "      <td>...</td>\n",
              "      <td>...</td>\n",
              "      <td>...</td>\n",
              "      <td>...</td>\n",
              "      <td>...</td>\n",
              "      <td>...</td>\n",
              "      <td>...</td>\n",
              "      <td>...</td>\n",
              "    </tr>\n",
              "    <tr>\n",
              "      <th>19665</th>\n",
              "      <td>1104</td>\n",
              "      <td>41</td>\n",
              "      <td>Cute dress</td>\n",
              "      <td>Cute dress but not for me.  the waist is too h...</td>\n",
              "      <td>3</td>\n",
              "      <td>1</td>\n",
              "      <td>0</td>\n",
              "      <td>General Petite</td>\n",
              "      <td>Dresses</td>\n",
              "      <td>Dresses</td>\n",
              "      <td>33</td>\n",
              "      <td>cut dress cut dress but not for me the waist i...</td>\n",
              "      <td>1</td>\n",
              "      <td>1</td>\n",
              "      <td>3</td>\n",
              "      <td>19665</td>\n",
              "      <td>[ 36.  16.  36.  16.  10.  19.  12.  32.   1. ...</td>\n",
              "      <td>[0.06899631 0.06535475 0.07730891 0.08683242 0...</td>\n",
              "      <td>[but, dress, cut, cut, would, dress, for, not,...</td>\n",
              "    </tr>\n",
              "    <tr>\n",
              "      <th>19667</th>\n",
              "      <td>1094</td>\n",
              "      <td>39</td>\n",
              "      <td>Entrancing</td>\n",
              "      <td>I'm so impressed with the beautiful color comb...</td>\n",
              "      <td>4</td>\n",
              "      <td>1</td>\n",
              "      <td>5</td>\n",
              "      <td>General Petite</td>\n",
              "      <td>Dresses</td>\n",
              "      <td>Dresses</td>\n",
              "      <td>88</td>\n",
              "      <td>enhancing i m so impressed with the beautiful ...</td>\n",
              "      <td>1</td>\n",
              "      <td>1</td>\n",
              "      <td>3</td>\n",
              "      <td>19667</td>\n",
              "      <td>[3.182e+03 2.000e+00 3.500e+01 1.500e+01 1.190...</td>\n",
              "      <td>[0.01500219 0.01608168 0.00066035 0.00278814 0...</td>\n",
              "      <td>[point, price, ran, sheer, disappointed, espec...</td>\n",
              "    </tr>\n",
              "    <tr>\n",
              "      <th>19670</th>\n",
              "      <td>1104</td>\n",
              "      <td>34</td>\n",
              "      <td>Great dress for many occasions</td>\n",
              "      <td>I was very happy to snag this dress at such a ...</td>\n",
              "      <td>5</td>\n",
              "      <td>1</td>\n",
              "      <td>0</td>\n",
              "      <td>General Petite</td>\n",
              "      <td>Dresses</td>\n",
              "      <td>Dresses</td>\n",
              "      <td>35</td>\n",
              "      <td>great dress for many occasions i was very happ...</td>\n",
              "      <td>1</td>\n",
              "      <td>1</td>\n",
              "      <td>3</td>\n",
              "      <td>19670</td>\n",
              "      <td>[  29.   16.   12.  203. 1046.    2.   17.   2...</td>\n",
              "      <td>[0.04418594 0.02425993 0.03599548 0.07524706 0...</td>\n",
              "      <td>[this, happy, i, many, to, occasions, great, s...</td>\n",
              "    </tr>\n",
              "    <tr>\n",
              "      <th>19673</th>\n",
              "      <td>1084</td>\n",
              "      <td>28</td>\n",
              "      <td>Very cute dress, perfect for summer parties an...</td>\n",
              "      <td>I bought this dress for a wedding i have this ...</td>\n",
              "      <td>3</td>\n",
              "      <td>1</td>\n",
              "      <td>2</td>\n",
              "      <td>General</td>\n",
              "      <td>Dresses</td>\n",
              "      <td>Dresses</td>\n",
              "      <td>97</td>\n",
              "      <td>very cut dress perfect for summer parties and ...</td>\n",
              "      <td>0</td>\n",
              "      <td>1</td>\n",
              "      <td>3</td>\n",
              "      <td>19673</td>\n",
              "      <td>[2.500e+01 3.600e+01 1.600e+01 5.100e+01 1.200...</td>\n",
              "      <td>[0.01883137 0.03581895 0.00775208 0.03087867 0...</td>\n",
              "      <td>[this, this, i, i, summer, bought, parties, cu...</td>\n",
              "    </tr>\n",
              "    <tr>\n",
              "      <th>19674</th>\n",
              "      <td>1104</td>\n",
              "      <td>52</td>\n",
              "      <td>Please make more like this one!</td>\n",
              "      <td>This dress in a lovely platinum is feminine an...</td>\n",
              "      <td>5</td>\n",
              "      <td>1</td>\n",
              "      <td>22</td>\n",
              "      <td>General Petite</td>\n",
              "      <td>Dresses</td>\n",
              "      <td>Dresses</td>\n",
              "      <td>26</td>\n",
              "      <td>please make more like this one this dress in a...</td>\n",
              "      <td>1</td>\n",
              "      <td>1</td>\n",
              "      <td>3</td>\n",
              "      <td>19674</td>\n",
              "      <td>[748. 204.  58.  30.   7.  62.   7.  16.   9. ...</td>\n",
              "      <td>[0.01888184 0.02382167 0.01994132 0.01758438 0...</td>\n",
              "      <td>[recommend, come, highly, wear, too, make, mor...</td>\n",
              "    </tr>\n",
              "  </tbody>\n",
              "</table>\n",
              "<p>4314 rows × 19 columns</p>\n",
              "</div>"
            ],
            "text/plain": [
              "       Clothing ID  ...                               word_important_order\n",
              "6             1077  ...  [i, this, retailer, with, flattering, size, st...\n",
              "7             1077  ...  [i, such, dress, fun, m, 5, love, a, les, i, 5...\n",
              "9             1095  ...  [perfect, i, very, find, just, more, and, fall...\n",
              "11            1077  ...  [pretty, party, with, i, dress, office, well, ...\n",
              "16            1077  ...  [i, love, comfortable, stylish, the, and, i, l...\n",
              "...            ...  ...                                                ...\n",
              "19665         1104  ...  [but, dress, cut, cut, would, dress, for, not,...\n",
              "19667         1094  ...  [point, price, ran, sheer, disappointed, espec...\n",
              "19670         1104  ...  [this, happy, i, many, to, occasions, great, s...\n",
              "19673         1084  ...  [this, this, i, i, summer, bought, parties, cu...\n",
              "19674         1104  ...  [recommend, come, highly, wear, too, make, mor...\n",
              "\n",
              "[4314 rows x 19 columns]"
            ]
          },
          "metadata": {
            "tags": []
          },
          "execution_count": 14
        }
      ]
    },
    {
      "cell_type": "code",
      "metadata": {
        "colab": {
          "base_uri": "https://localhost:8080/",
          "height": 34
        },
        "id": "Z9CNALkulc6b",
        "outputId": "3ee2354a-3a23-48d4-ce98-fd81202ab554"
      },
      "source": [
        "df['Review Text'][6]"
      ],
      "id": "Z9CNALkulc6b",
      "execution_count": null,
      "outputs": [
        {
          "output_type": "execute_result",
          "data": {
            "application/vnd.google.colaboratory.intrinsic+json": {
              "type": "string"
            },
            "text/plain": [
              "'I love this dress. i usually get an xs but it runs a little snug in bust so i ordered up a size. very flattering and feminine with the usual retailer flair for style.'"
            ]
          },
          "metadata": {
            "tags": []
          },
          "execution_count": 24
        }
      ]
    },
    {
      "cell_type": "code",
      "metadata": {
        "colab": {
          "base_uri": "https://localhost:8080/"
        },
        "id": "LxelNWUbnIwS",
        "outputId": "a19065ad-97b2-40a7-8388-1a3cea0dd3a1"
      },
      "source": [
        "df['Recommended IND'][6]"
      ],
      "id": "LxelNWUbnIwS",
      "execution_count": null,
      "outputs": [
        {
          "output_type": "execute_result",
          "data": {
            "text/plain": [
              "1"
            ]
          },
          "metadata": {
            "tags": []
          },
          "execution_count": 25
        }
      ]
    },
    {
      "cell_type": "code",
      "metadata": {
        "colab": {
          "base_uri": "https://localhost:8080/"
        },
        "id": "uKdF7HK6l49-",
        "outputId": "701b8ed7-53d4-44e7-e8d0-099f764c85e3"
      },
      "source": [
        "df['word_important_order'][6]"
      ],
      "id": "uKdF7HK6l49-",
      "execution_count": null,
      "outputs": [
        {
          "output_type": "execute_result",
          "data": {
            "text/plain": [
              "['i',\n",
              " 'this',\n",
              " 'retailer',\n",
              " 'with',\n",
              " 'flattering',\n",
              " 'size',\n",
              " 'style',\n",
              " 'love',\n",
              " 'dress',\n",
              " 'the',\n",
              " 'i',\n",
              " 'feminine',\n",
              " 'runs',\n",
              " 'i',\n",
              " 'for',\n",
              " 'usual',\n",
              " 'a',\n",
              " 'little',\n",
              " 'flair',\n",
              " 'very',\n",
              " 'and',\n",
              " 'flattering',\n",
              " 'an',\n",
              " 'ordered',\n",
              " 'a',\n",
              " 'it',\n",
              " 'snug',\n",
              " 'usually',\n",
              " 'up',\n",
              " 'get',\n",
              " 'is',\n",
              " 'so',\n",
              " 'but',\n",
              " 'bust',\n",
              " 'in']"
            ]
          },
          "metadata": {
            "tags": []
          },
          "execution_count": 26
        }
      ]
    },
    {
      "cell_type": "code",
      "metadata": {
        "id": "Pd9NJw4el86L"
      },
      "source": [
        ""
      ],
      "id": "Pd9NJw4el86L",
      "execution_count": null,
      "outputs": []
    }
  ]
}